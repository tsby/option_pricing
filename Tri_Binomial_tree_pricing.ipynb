{
  "nbformat": 4,
  "nbformat_minor": 0,
  "metadata": {
    "colab": {
      "name": "Tri/Binomial_tree_pricing.ipynb",
      "provenance": [],
      "collapsed_sections": [
        "61DkxJVgP93R",
        "ar4YeeO55Q0u",
        "lXnwopCe5E9S",
        "jqj3HmpPJgXD",
        "tytxNg91hCro",
        "jzfsxC7cgyze",
        "DUk8-KmEg1VD",
        "3AVbVPD8g5ii",
        "ik4amb6pg9MJ",
        "JUDRKGqx0X_x",
        "3Y2_izhShPIa",
        "WE67ZhsahS0V",
        "I1gCYtR7hUo5",
        "FuT2JOD7hWif",
        "JEtL3Qs1o6XV",
        "hoNq-yCWhiO9",
        "nyP1PtJqhl0W",
        "7ERANFQaqS7f",
        "elqrBnCdhn8v",
        "8hYtGpsOhrhY",
        "KkGhOFZy5Y2X",
        "_-aPcpj6Jppr",
        "MfELOObSoNvX",
        "VUMkizz65jGJ",
        "BRDg4hqDH2Fz",
        "_-INnoVEoQ0t"
      ]
    },
    "kernelspec": {
      "display_name": "Python 3",
      "name": "python3"
    },
    "widgets": {
      "application/vnd.jupyter.widget-state+json": {
        "e1dbad469f684d8389ad12b045de882a": {
          "model_module": "@jupyter-widgets/controls",
          "model_name": "HBoxModel",
          "state": {
            "_view_name": "HBoxView",
            "_dom_classes": [],
            "_model_name": "HBoxModel",
            "_view_module": "@jupyter-widgets/controls",
            "_model_module_version": "1.5.0",
            "_view_count": null,
            "_view_module_version": "1.5.0",
            "box_style": "",
            "layout": "IPY_MODEL_2f33bf48fee64e5192274a1f6aa970a0",
            "_model_module": "@jupyter-widgets/controls",
            "children": [
              "IPY_MODEL_c3a82b1adac7454f8156e73e5a337196",
              "IPY_MODEL_30b3f7eda6d04260ab04871b3105df96"
            ]
          }
        },
        "2f33bf48fee64e5192274a1f6aa970a0": {
          "model_module": "@jupyter-widgets/base",
          "model_name": "LayoutModel",
          "state": {
            "_view_name": "LayoutView",
            "grid_template_rows": null,
            "right": null,
            "justify_content": null,
            "_view_module": "@jupyter-widgets/base",
            "overflow": null,
            "_model_module_version": "1.2.0",
            "_view_count": null,
            "flex_flow": null,
            "width": null,
            "min_width": null,
            "border": null,
            "align_items": null,
            "bottom": null,
            "_model_module": "@jupyter-widgets/base",
            "top": null,
            "grid_column": null,
            "overflow_y": null,
            "overflow_x": null,
            "grid_auto_flow": null,
            "grid_area": null,
            "grid_template_columns": null,
            "flex": null,
            "_model_name": "LayoutModel",
            "justify_items": null,
            "grid_row": null,
            "max_height": null,
            "align_content": null,
            "visibility": null,
            "align_self": null,
            "height": null,
            "min_height": null,
            "padding": null,
            "grid_auto_rows": null,
            "grid_gap": null,
            "max_width": null,
            "order": null,
            "_view_module_version": "1.2.0",
            "grid_template_areas": null,
            "object_position": null,
            "object_fit": null,
            "grid_auto_columns": null,
            "margin": null,
            "display": null,
            "left": null
          }
        },
        "c3a82b1adac7454f8156e73e5a337196": {
          "model_module": "@jupyter-widgets/controls",
          "model_name": "FloatProgressModel",
          "state": {
            "_view_name": "ProgressView",
            "style": "IPY_MODEL_ee27a981811a40b8abd1f78aaea9f402",
            "_dom_classes": [],
            "description": "100%",
            "_model_name": "FloatProgressModel",
            "bar_style": "success",
            "max": 50,
            "_view_module": "@jupyter-widgets/controls",
            "_model_module_version": "1.5.0",
            "value": 50,
            "_view_count": null,
            "_view_module_version": "1.5.0",
            "orientation": "horizontal",
            "min": 0,
            "description_tooltip": null,
            "_model_module": "@jupyter-widgets/controls",
            "layout": "IPY_MODEL_0789631dabbf440b8f4314ac1d3bf841"
          }
        },
        "30b3f7eda6d04260ab04871b3105df96": {
          "model_module": "@jupyter-widgets/controls",
          "model_name": "HTMLModel",
          "state": {
            "_view_name": "HTMLView",
            "style": "IPY_MODEL_c3de6ef5dd174d14978015d2baac7f6b",
            "_dom_classes": [],
            "description": "",
            "_model_name": "HTMLModel",
            "placeholder": "​",
            "_view_module": "@jupyter-widgets/controls",
            "_model_module_version": "1.5.0",
            "value": " 50/50 [00:00&lt;00:00, 105.92it/s]",
            "_view_count": null,
            "_view_module_version": "1.5.0",
            "description_tooltip": null,
            "_model_module": "@jupyter-widgets/controls",
            "layout": "IPY_MODEL_5fca59f574b849b788e411b21d11b2b1"
          }
        },
        "ee27a981811a40b8abd1f78aaea9f402": {
          "model_module": "@jupyter-widgets/controls",
          "model_name": "ProgressStyleModel",
          "state": {
            "_view_name": "StyleView",
            "_model_name": "ProgressStyleModel",
            "description_width": "initial",
            "_view_module": "@jupyter-widgets/base",
            "_model_module_version": "1.5.0",
            "_view_count": null,
            "_view_module_version": "1.2.0",
            "bar_color": null,
            "_model_module": "@jupyter-widgets/controls"
          }
        },
        "0789631dabbf440b8f4314ac1d3bf841": {
          "model_module": "@jupyter-widgets/base",
          "model_name": "LayoutModel",
          "state": {
            "_view_name": "LayoutView",
            "grid_template_rows": null,
            "right": null,
            "justify_content": null,
            "_view_module": "@jupyter-widgets/base",
            "overflow": null,
            "_model_module_version": "1.2.0",
            "_view_count": null,
            "flex_flow": null,
            "width": null,
            "min_width": null,
            "border": null,
            "align_items": null,
            "bottom": null,
            "_model_module": "@jupyter-widgets/base",
            "top": null,
            "grid_column": null,
            "overflow_y": null,
            "overflow_x": null,
            "grid_auto_flow": null,
            "grid_area": null,
            "grid_template_columns": null,
            "flex": null,
            "_model_name": "LayoutModel",
            "justify_items": null,
            "grid_row": null,
            "max_height": null,
            "align_content": null,
            "visibility": null,
            "align_self": null,
            "height": null,
            "min_height": null,
            "padding": null,
            "grid_auto_rows": null,
            "grid_gap": null,
            "max_width": null,
            "order": null,
            "_view_module_version": "1.2.0",
            "grid_template_areas": null,
            "object_position": null,
            "object_fit": null,
            "grid_auto_columns": null,
            "margin": null,
            "display": null,
            "left": null
          }
        },
        "c3de6ef5dd174d14978015d2baac7f6b": {
          "model_module": "@jupyter-widgets/controls",
          "model_name": "DescriptionStyleModel",
          "state": {
            "_view_name": "StyleView",
            "_model_name": "DescriptionStyleModel",
            "description_width": "",
            "_view_module": "@jupyter-widgets/base",
            "_model_module_version": "1.5.0",
            "_view_count": null,
            "_view_module_version": "1.2.0",
            "_model_module": "@jupyter-widgets/controls"
          }
        },
        "5fca59f574b849b788e411b21d11b2b1": {
          "model_module": "@jupyter-widgets/base",
          "model_name": "LayoutModel",
          "state": {
            "_view_name": "LayoutView",
            "grid_template_rows": null,
            "right": null,
            "justify_content": null,
            "_view_module": "@jupyter-widgets/base",
            "overflow": null,
            "_model_module_version": "1.2.0",
            "_view_count": null,
            "flex_flow": null,
            "width": null,
            "min_width": null,
            "border": null,
            "align_items": null,
            "bottom": null,
            "_model_module": "@jupyter-widgets/base",
            "top": null,
            "grid_column": null,
            "overflow_y": null,
            "overflow_x": null,
            "grid_auto_flow": null,
            "grid_area": null,
            "grid_template_columns": null,
            "flex": null,
            "_model_name": "LayoutModel",
            "justify_items": null,
            "grid_row": null,
            "max_height": null,
            "align_content": null,
            "visibility": null,
            "align_self": null,
            "height": null,
            "min_height": null,
            "padding": null,
            "grid_auto_rows": null,
            "grid_gap": null,
            "max_width": null,
            "order": null,
            "_view_module_version": "1.2.0",
            "grid_template_areas": null,
            "object_position": null,
            "object_fit": null,
            "grid_auto_columns": null,
            "margin": null,
            "display": null,
            "left": null
          }
        },
        "7ff0f209dc7942b38f84342ce9961821": {
          "model_module": "@jupyter-widgets/controls",
          "model_name": "HBoxModel",
          "state": {
            "_view_name": "HBoxView",
            "_dom_classes": [],
            "_model_name": "HBoxModel",
            "_view_module": "@jupyter-widgets/controls",
            "_model_module_version": "1.5.0",
            "_view_count": null,
            "_view_module_version": "1.5.0",
            "box_style": "",
            "layout": "IPY_MODEL_12434b8a4da5473388008f6a430f23b9",
            "_model_module": "@jupyter-widgets/controls",
            "children": [
              "IPY_MODEL_d76869daeab340ee8237bb24d92ed81b",
              "IPY_MODEL_13df656d3fd94173bb5156da08b9665c"
            ]
          }
        },
        "12434b8a4da5473388008f6a430f23b9": {
          "model_module": "@jupyter-widgets/base",
          "model_name": "LayoutModel",
          "state": {
            "_view_name": "LayoutView",
            "grid_template_rows": null,
            "right": null,
            "justify_content": null,
            "_view_module": "@jupyter-widgets/base",
            "overflow": null,
            "_model_module_version": "1.2.0",
            "_view_count": null,
            "flex_flow": null,
            "width": null,
            "min_width": null,
            "border": null,
            "align_items": null,
            "bottom": null,
            "_model_module": "@jupyter-widgets/base",
            "top": null,
            "grid_column": null,
            "overflow_y": null,
            "overflow_x": null,
            "grid_auto_flow": null,
            "grid_area": null,
            "grid_template_columns": null,
            "flex": null,
            "_model_name": "LayoutModel",
            "justify_items": null,
            "grid_row": null,
            "max_height": null,
            "align_content": null,
            "visibility": null,
            "align_self": null,
            "height": null,
            "min_height": null,
            "padding": null,
            "grid_auto_rows": null,
            "grid_gap": null,
            "max_width": null,
            "order": null,
            "_view_module_version": "1.2.0",
            "grid_template_areas": null,
            "object_position": null,
            "object_fit": null,
            "grid_auto_columns": null,
            "margin": null,
            "display": null,
            "left": null
          }
        },
        "d76869daeab340ee8237bb24d92ed81b": {
          "model_module": "@jupyter-widgets/controls",
          "model_name": "FloatProgressModel",
          "state": {
            "_view_name": "ProgressView",
            "style": "IPY_MODEL_ca9d7f99403f40588fd9563a8e794751",
            "_dom_classes": [],
            "description": "100%",
            "_model_name": "FloatProgressModel",
            "bar_style": "success",
            "max": 142,
            "_view_module": "@jupyter-widgets/controls",
            "_model_module_version": "1.5.0",
            "value": 142,
            "_view_count": null,
            "_view_module_version": "1.5.0",
            "orientation": "horizontal",
            "min": 0,
            "description_tooltip": null,
            "_model_module": "@jupyter-widgets/controls",
            "layout": "IPY_MODEL_e3fa26c4e7c545399e7842dc85b3f99a"
          }
        },
        "13df656d3fd94173bb5156da08b9665c": {
          "model_module": "@jupyter-widgets/controls",
          "model_name": "HTMLModel",
          "state": {
            "_view_name": "HTMLView",
            "style": "IPY_MODEL_b8bb013d0d2042819fdaaf9d08d638b5",
            "_dom_classes": [],
            "description": "",
            "_model_name": "HTMLModel",
            "placeholder": "​",
            "_view_module": "@jupyter-widgets/controls",
            "_model_module_version": "1.5.0",
            "value": " 142/142 [00:02&lt;00:00, 60.51it/s]",
            "_view_count": null,
            "_view_module_version": "1.5.0",
            "description_tooltip": null,
            "_model_module": "@jupyter-widgets/controls",
            "layout": "IPY_MODEL_233c879edae1476abc05508758f72904"
          }
        },
        "ca9d7f99403f40588fd9563a8e794751": {
          "model_module": "@jupyter-widgets/controls",
          "model_name": "ProgressStyleModel",
          "state": {
            "_view_name": "StyleView",
            "_model_name": "ProgressStyleModel",
            "description_width": "initial",
            "_view_module": "@jupyter-widgets/base",
            "_model_module_version": "1.5.0",
            "_view_count": null,
            "_view_module_version": "1.2.0",
            "bar_color": null,
            "_model_module": "@jupyter-widgets/controls"
          }
        },
        "e3fa26c4e7c545399e7842dc85b3f99a": {
          "model_module": "@jupyter-widgets/base",
          "model_name": "LayoutModel",
          "state": {
            "_view_name": "LayoutView",
            "grid_template_rows": null,
            "right": null,
            "justify_content": null,
            "_view_module": "@jupyter-widgets/base",
            "overflow": null,
            "_model_module_version": "1.2.0",
            "_view_count": null,
            "flex_flow": null,
            "width": null,
            "min_width": null,
            "border": null,
            "align_items": null,
            "bottom": null,
            "_model_module": "@jupyter-widgets/base",
            "top": null,
            "grid_column": null,
            "overflow_y": null,
            "overflow_x": null,
            "grid_auto_flow": null,
            "grid_area": null,
            "grid_template_columns": null,
            "flex": null,
            "_model_name": "LayoutModel",
            "justify_items": null,
            "grid_row": null,
            "max_height": null,
            "align_content": null,
            "visibility": null,
            "align_self": null,
            "height": null,
            "min_height": null,
            "padding": null,
            "grid_auto_rows": null,
            "grid_gap": null,
            "max_width": null,
            "order": null,
            "_view_module_version": "1.2.0",
            "grid_template_areas": null,
            "object_position": null,
            "object_fit": null,
            "grid_auto_columns": null,
            "margin": null,
            "display": null,
            "left": null
          }
        },
        "b8bb013d0d2042819fdaaf9d08d638b5": {
          "model_module": "@jupyter-widgets/controls",
          "model_name": "DescriptionStyleModel",
          "state": {
            "_view_name": "StyleView",
            "_model_name": "DescriptionStyleModel",
            "description_width": "",
            "_view_module": "@jupyter-widgets/base",
            "_model_module_version": "1.5.0",
            "_view_count": null,
            "_view_module_version": "1.2.0",
            "_model_module": "@jupyter-widgets/controls"
          }
        },
        "233c879edae1476abc05508758f72904": {
          "model_module": "@jupyter-widgets/base",
          "model_name": "LayoutModel",
          "state": {
            "_view_name": "LayoutView",
            "grid_template_rows": null,
            "right": null,
            "justify_content": null,
            "_view_module": "@jupyter-widgets/base",
            "overflow": null,
            "_model_module_version": "1.2.0",
            "_view_count": null,
            "flex_flow": null,
            "width": null,
            "min_width": null,
            "border": null,
            "align_items": null,
            "bottom": null,
            "_model_module": "@jupyter-widgets/base",
            "top": null,
            "grid_column": null,
            "overflow_y": null,
            "overflow_x": null,
            "grid_auto_flow": null,
            "grid_area": null,
            "grid_template_columns": null,
            "flex": null,
            "_model_name": "LayoutModel",
            "justify_items": null,
            "grid_row": null,
            "max_height": null,
            "align_content": null,
            "visibility": null,
            "align_self": null,
            "height": null,
            "min_height": null,
            "padding": null,
            "grid_auto_rows": null,
            "grid_gap": null,
            "max_width": null,
            "order": null,
            "_view_module_version": "1.2.0",
            "grid_template_areas": null,
            "object_position": null,
            "object_fit": null,
            "grid_auto_columns": null,
            "margin": null,
            "display": null,
            "left": null
          }
        },
        "b1cd1b2b9b2248a387d82d53dd3f4f6b": {
          "model_module": "@jupyter-widgets/controls",
          "model_name": "HBoxModel",
          "state": {
            "_view_name": "HBoxView",
            "_dom_classes": [],
            "_model_name": "HBoxModel",
            "_view_module": "@jupyter-widgets/controls",
            "_model_module_version": "1.5.0",
            "_view_count": null,
            "_view_module_version": "1.5.0",
            "box_style": "",
            "layout": "IPY_MODEL_e3174bb1213c46b9a913cb0fe5febb35",
            "_model_module": "@jupyter-widgets/controls",
            "children": [
              "IPY_MODEL_e80e40237d8840d1ab665128c57fef56",
              "IPY_MODEL_970fe371685e4b52b364cda7be1e4706"
            ]
          }
        },
        "e3174bb1213c46b9a913cb0fe5febb35": {
          "model_module": "@jupyter-widgets/base",
          "model_name": "LayoutModel",
          "state": {
            "_view_name": "LayoutView",
            "grid_template_rows": null,
            "right": null,
            "justify_content": null,
            "_view_module": "@jupyter-widgets/base",
            "overflow": null,
            "_model_module_version": "1.2.0",
            "_view_count": null,
            "flex_flow": null,
            "width": null,
            "min_width": null,
            "border": null,
            "align_items": null,
            "bottom": null,
            "_model_module": "@jupyter-widgets/base",
            "top": null,
            "grid_column": null,
            "overflow_y": null,
            "overflow_x": null,
            "grid_auto_flow": null,
            "grid_area": null,
            "grid_template_columns": null,
            "flex": null,
            "_model_name": "LayoutModel",
            "justify_items": null,
            "grid_row": null,
            "max_height": null,
            "align_content": null,
            "visibility": null,
            "align_self": null,
            "height": null,
            "min_height": null,
            "padding": null,
            "grid_auto_rows": null,
            "grid_gap": null,
            "max_width": null,
            "order": null,
            "_view_module_version": "1.2.0",
            "grid_template_areas": null,
            "object_position": null,
            "object_fit": null,
            "grid_auto_columns": null,
            "margin": null,
            "display": null,
            "left": null
          }
        },
        "e80e40237d8840d1ab665128c57fef56": {
          "model_module": "@jupyter-widgets/controls",
          "model_name": "FloatProgressModel",
          "state": {
            "_view_name": "ProgressView",
            "style": "IPY_MODEL_c6e88d7bccea4067ab3771377638f474",
            "_dom_classes": [],
            "description": "100%",
            "_model_name": "FloatProgressModel",
            "bar_style": "success",
            "max": 142,
            "_view_module": "@jupyter-widgets/controls",
            "_model_module_version": "1.5.0",
            "value": 142,
            "_view_count": null,
            "_view_module_version": "1.5.0",
            "orientation": "horizontal",
            "min": 0,
            "description_tooltip": null,
            "_model_module": "@jupyter-widgets/controls",
            "layout": "IPY_MODEL_b0984fd8541f4d46990c617da28ad596"
          }
        },
        "970fe371685e4b52b364cda7be1e4706": {
          "model_module": "@jupyter-widgets/controls",
          "model_name": "HTMLModel",
          "state": {
            "_view_name": "HTMLView",
            "style": "IPY_MODEL_45331916ff41423ca3a6145db3480e54",
            "_dom_classes": [],
            "description": "",
            "_model_name": "HTMLModel",
            "placeholder": "​",
            "_view_module": "@jupyter-widgets/controls",
            "_model_module_version": "1.5.0",
            "value": " 142/142 [00:02&lt;00:00, 60.12it/s]",
            "_view_count": null,
            "_view_module_version": "1.5.0",
            "description_tooltip": null,
            "_model_module": "@jupyter-widgets/controls",
            "layout": "IPY_MODEL_b869999ec92249b5bb67a9b3c615a088"
          }
        },
        "c6e88d7bccea4067ab3771377638f474": {
          "model_module": "@jupyter-widgets/controls",
          "model_name": "ProgressStyleModel",
          "state": {
            "_view_name": "StyleView",
            "_model_name": "ProgressStyleModel",
            "description_width": "initial",
            "_view_module": "@jupyter-widgets/base",
            "_model_module_version": "1.5.0",
            "_view_count": null,
            "_view_module_version": "1.2.0",
            "bar_color": null,
            "_model_module": "@jupyter-widgets/controls"
          }
        },
        "b0984fd8541f4d46990c617da28ad596": {
          "model_module": "@jupyter-widgets/base",
          "model_name": "LayoutModel",
          "state": {
            "_view_name": "LayoutView",
            "grid_template_rows": null,
            "right": null,
            "justify_content": null,
            "_view_module": "@jupyter-widgets/base",
            "overflow": null,
            "_model_module_version": "1.2.0",
            "_view_count": null,
            "flex_flow": null,
            "width": null,
            "min_width": null,
            "border": null,
            "align_items": null,
            "bottom": null,
            "_model_module": "@jupyter-widgets/base",
            "top": null,
            "grid_column": null,
            "overflow_y": null,
            "overflow_x": null,
            "grid_auto_flow": null,
            "grid_area": null,
            "grid_template_columns": null,
            "flex": null,
            "_model_name": "LayoutModel",
            "justify_items": null,
            "grid_row": null,
            "max_height": null,
            "align_content": null,
            "visibility": null,
            "align_self": null,
            "height": null,
            "min_height": null,
            "padding": null,
            "grid_auto_rows": null,
            "grid_gap": null,
            "max_width": null,
            "order": null,
            "_view_module_version": "1.2.0",
            "grid_template_areas": null,
            "object_position": null,
            "object_fit": null,
            "grid_auto_columns": null,
            "margin": null,
            "display": null,
            "left": null
          }
        },
        "45331916ff41423ca3a6145db3480e54": {
          "model_module": "@jupyter-widgets/controls",
          "model_name": "DescriptionStyleModel",
          "state": {
            "_view_name": "StyleView",
            "_model_name": "DescriptionStyleModel",
            "description_width": "",
            "_view_module": "@jupyter-widgets/base",
            "_model_module_version": "1.5.0",
            "_view_count": null,
            "_view_module_version": "1.2.0",
            "_model_module": "@jupyter-widgets/controls"
          }
        },
        "b869999ec92249b5bb67a9b3c615a088": {
          "model_module": "@jupyter-widgets/base",
          "model_name": "LayoutModel",
          "state": {
            "_view_name": "LayoutView",
            "grid_template_rows": null,
            "right": null,
            "justify_content": null,
            "_view_module": "@jupyter-widgets/base",
            "overflow": null,
            "_model_module_version": "1.2.0",
            "_view_count": null,
            "flex_flow": null,
            "width": null,
            "min_width": null,
            "border": null,
            "align_items": null,
            "bottom": null,
            "_model_module": "@jupyter-widgets/base",
            "top": null,
            "grid_column": null,
            "overflow_y": null,
            "overflow_x": null,
            "grid_auto_flow": null,
            "grid_area": null,
            "grid_template_columns": null,
            "flex": null,
            "_model_name": "LayoutModel",
            "justify_items": null,
            "grid_row": null,
            "max_height": null,
            "align_content": null,
            "visibility": null,
            "align_self": null,
            "height": null,
            "min_height": null,
            "padding": null,
            "grid_auto_rows": null,
            "grid_gap": null,
            "max_width": null,
            "order": null,
            "_view_module_version": "1.2.0",
            "grid_template_areas": null,
            "object_position": null,
            "object_fit": null,
            "grid_auto_columns": null,
            "margin": null,
            "display": null,
            "left": null
          }
        }
      }
    }
  },
  "cells": [
    {
      "cell_type": "markdown",
      "metadata": {
        "id": "61DkxJVgP93R"
      },
      "source": [
        "# 1. Introduction"
      ]
    },
    {
      "cell_type": "markdown",
      "metadata": {
        "id": "6odyKz1iQBXi"
      },
      "source": [
        "In this work the *Binomial* and *Trinomial* tree techniques for pricing an options are implemented. \n",
        "\n",
        "The content of this notebook is as follows:\n",
        "\n",
        "*   In the second section imported packages are discribed.\n",
        "*   In the third section the *Binomial tree* approach is implemented. Several examples and solutions to Tutorial 1 are provided as well.\n",
        "*   In the section 4 the *Binomial tree* approach is implemented.\n",
        "*   In the last section two approaches are compared in pricing both Vanilla and Barrier Options."
      ]
    },
    {
      "cell_type": "markdown",
      "metadata": {
        "id": "ar4YeeO55Q0u"
      },
      "source": [
        "# 2. Importing the packages"
      ]
    },
    {
      "cell_type": "markdown",
      "metadata": {
        "id": "V4d0fjHeQ8Qn"
      },
      "source": [
        "In this work the following packages are used:\n",
        "\n",
        "\n",
        "\n",
        "1.   *matplotlib* - this package provides a visualization of graphics.\n",
        "2.   *numpy* - this is a classical and one of the most popular packages in Python. It enables to work with different mathematical functions, vectors, matrices and others objects. \n",
        "3.   *time* - this package is used to track the running time of algorithms.\n",
        "4.   *tqdm* - this function from the *tqdm.notebook* package provides a graphical visualisation of running loops.\n",
        "5.   *Digraph* - this object from the *graphviz* package provides a visualization of directed graphs."
      ]
    },
    {
      "cell_type": "code",
      "metadata": {
        "id": "7mH6R4_-5VQm"
      },
      "source": [
        "import matplotlib.pyplot as plt\n",
        "import numpy as np\n",
        "import time\n",
        "\n",
        "from tqdm.notebook import tqdm as tqdm_\n",
        "from graphviz import Digraph"
      ],
      "execution_count": 1,
      "outputs": []
    },
    {
      "cell_type": "markdown",
      "metadata": {
        "id": "7p0MctSRxR31"
      },
      "source": [
        "The following versions of packages are used:"
      ]
    },
    {
      "cell_type": "code",
      "metadata": {
        "colab": {
          "base_uri": "https://localhost:8080/"
        },
        "id": "Qwgfwwrgwvr_",
        "outputId": "bec23a29-c577-495c-8f83-1e4c2bc15391"
      },
      "source": [
        "# import matplotlib, numpy, tqdm, time, graphviz\n",
        "\n",
        "# print(\"Used versions:\")\n",
        "# print(\"matplotlib:\", matplotlib.__version__)\n",
        "# print(\"numpy:\", numpy.__version__)\n",
        "# print(\"time: 3.9.1\")\n",
        "# print(\"tqdm:\", tqdm.__version__)\n",
        "# print(\"graphviz:\", graphviz.__version__)"
      ],
      "execution_count": 2,
      "outputs": [
        {
          "output_type": "stream",
          "text": [
            "Used versions:\n",
            "matplotlib: 3.2.2\n",
            "numpy: 1.19.5\n",
            "time: 3.9.1\n",
            "tqdm: 4.41.1\n",
            "graphviz: 0.10.1\n"
          ],
          "name": "stdout"
        }
      ]
    },
    {
      "cell_type": "markdown",
      "metadata": {
        "id": "lXnwopCe5E9S"
      },
      "source": [
        "# 3. Binomial tree pricing"
      ]
    },
    {
      "cell_type": "markdown",
      "metadata": {
        "id": "jqj3HmpPJgXD"
      },
      "source": [
        "## 3.1 Code part"
      ]
    },
    {
      "cell_type": "code",
      "metadata": {
        "id": "-PuUnACsm1Ah"
      },
      "source": [
        "class Binomial_Tree_Pricing(object):\n",
        "    '''\n",
        "    Binomial_Tree_Pricing class is an implementation of Binomial Tree technique \n",
        "    for pricing options.\n",
        "    Current version can calculate the initial price of option for several cases \n",
        "    such as stocks with both the fixed and continuous dividend yield, currencies \n",
        "    and futures.\n",
        "    This version can calculate both Vanilla and Barrier options.\n",
        "    '''\n",
        "    def __init__(self, cur_pr, strike_pr, r, steps, months=None, sigma=None, \n",
        "                 upper_bd=None, lower_bd=None, u=None, d=None, dt=None, r2=0, \n",
        "                 D=None, Div_date=None, asset=\"Stock\", udp_str=\"u=1/d\", \n",
        "                 opt_mode=\"European\", opt_type=\"Call\"):\n",
        "      \n",
        "        '''\n",
        "        Constructor of the Binomial_Tree_Pricing class.\n",
        "\n",
        "        Initialization of inputs:\n",
        "        cur_pr    - current price of the asset.\n",
        "        strike_pr - strike price of the option.\n",
        "        r         - annual risk-free rate.\n",
        "        steps     - number of steps to proceed.\n",
        "        months    - number of months until the option expires.\n",
        "        sigma     - volatility parameter.\n",
        "        upper_bd  - upper bound of the barrier option.\n",
        "        lower_bd  - lower bound of the barrier option.\n",
        "        u         - custom increase coefficient of asset price.\n",
        "        d         - custom decrease coefficient of asset price.\n",
        "        dt        - custom time of one step in months.\n",
        "        r2        - continuous dividend yield rate for stocks or \n",
        "                    foreign risk-free rate for currencies,\n",
        "                    default = 0.\n",
        "        D         - known dividend yield.\n",
        "        Div_date  - time untill the ex-dividend date in months.\n",
        "        asset     - name of the asset:\n",
        "                        \"Stock\"   - for Stock, default parameter.\n",
        "                        \"Futures\" - for Futures, in this case r2 = r.\n",
        "        udp_str   - strategy for calculating the parameters u, d and p:\n",
        "                        \"u=1/d\"  - for this case u = exp(sigma*(dt)^(1/2)),\n",
        "                                   d = 1/u, p=(exp((r-r2)*dt)-d)/(u-d).\n",
        "                        \"Custom\" - for pre-known parameters u and d, \n",
        "                                   p=(exp((r-r2)*dt)-d)/(u-d) in this strategy.\n",
        "                        \"p=1/2\"  - for this strategy:\n",
        "                                   u=exp((r-r2)*dt)*(1+(exp((self.sigma^2)*dt)-1)^(1/2)),\n",
        "                                   d=exp((r-r2)*dt)*(1-(exp((self.sigma^2)*dt)-1)^(1/2)),\n",
        "                                   p=1/2.\n",
        "                                   Currently not tested.\n",
        "                    default is \"u=1/d\".\n",
        "        opt_mode  - mode of option:\n",
        "                        \"European\" - for European option.\n",
        "                        \"American\" - for American option.\n",
        "                    default is \"European\".\n",
        "        opt_type  - type of option:\n",
        "                        \"Call\" - for Call option.\n",
        "                        \"Put\"  - for Put option.\n",
        "        \n",
        "        Initialization of other variables:\n",
        "        P         - risk-neutral probability.\n",
        "        opt_price - current price of option. \n",
        "        graph     - tree graph with the prices of the option and the underlying asset.\n",
        "        asset_prs - diagonal matrix of the asset prices, shape:(steps+1, steps+1),\n",
        "                    asset_prs[i, j] - i-th possible asset price at time j*dt.\n",
        "        opt_prs   - diagonal matrix of the option prices, shape:(steps+1, steps+1),\n",
        "                    asset_prs[i, j] - i-th possible option price at time j*dt.\n",
        "        visited   - diagonal binary matrix for DFS (Depth-first search) algorithm \n",
        "                    that indicates whether the algorithm has visited the current \n",
        "                    node (i, j) or not.\n",
        "        '''\n",
        "        # Check the input values\n",
        "        assert (asset == \"Stock\") or (asset == \"Futures\"), \"Check the asset parameter\"\n",
        "        assert (opt_type == \"Call\") or (opt_type == \"Put\"), \"Check the opt_type parameter\"\n",
        "        assert (udp_str == \"Custom\") or (udp_str == \"u=1/d\"), \"Check the udp_str parameter\"\n",
        "        assert (udp_str != \"p=1/2\"), \"This strategy is not tested yet, use 'u=1/d' or 'Custom'\"\n",
        "        assert (opt_mode == \"European\") or (opt_mode == \"American\"), \"Check the opt_mode parameter\"\n",
        "        assert ((D == None) and (Div_date == None)) or ((D != None) and (Div_date != None)), \"Check the D and Div_date\"\n",
        "        \n",
        "        # Initialization of input values\n",
        "        self.cur_pr = cur_pr\n",
        "        self.strike_pr = strike_pr\n",
        "        self.steps = steps\n",
        "        self.months = months\n",
        "        self.sigma = sigma\n",
        "        self.asset = asset\n",
        "        self.udp_str = udp_str\n",
        "        self.upper_bd = upper_bd\n",
        "        self.lower_bd = lower_bd\n",
        "        self.opt_mode = opt_mode\n",
        "        self.opt_type = opt_type\n",
        "        self.r = r\n",
        "        self.u = u\n",
        "        self.d = d\n",
        "        self.D = D\n",
        "        self.r2 = r  if asset == \"Futures\" else r2\n",
        "\n",
        "        # Convert time parameters\n",
        "        self.dt = dt if dt != None else months / (12 * steps)\n",
        "        self.Div_date = Div_date / 12 if Div_date != None else None\n",
        "\n",
        "        # Initialization of other parameters\n",
        "        self.P = None\n",
        "        self.opt_price = None\n",
        "        self.graph = Digraph('tree', strict=True, node_attr={'shape': 'record'})\n",
        "\n",
        "        # Initialization of matricies, set the nodes at the last step (final nodes) \n",
        "        # as visited in the visited matrix\n",
        "        self.asset_prs = np.zeros((steps + 1, steps + 1))\n",
        "        self.opt_prs = np.zeros((steps + 1, steps + 1))\n",
        "        self.visited = np.zeros((steps + 1, steps + 1))\n",
        "        self.visited[:, -1] = np.ones(steps + 1)\n",
        "\n",
        "\n",
        "    def reset_visited(self):\n",
        "        '''\n",
        "        This function works with the matrix visited.\n",
        "        It sets the initial values: \n",
        "            1 - for the final nodes (j = steps),\n",
        "            0 - for all other nodes (j < steps).\n",
        "        '''\n",
        "        self.visited = np.zeros((self.steps + 1, self.steps + 1))\n",
        "        self.visited[:, -1] = np.ones(self.steps + 1)\n",
        "\n",
        "\n",
        "    def plot_graph(self, i=0, j=0):\n",
        "        '''\n",
        "        This functions plots the Binomial tree graph with the prices of the \n",
        "        option and the underlying asset. DFS algorithm is used for traversing \n",
        "        the graph recursively.\n",
        "        Inputs - matrix indexes of current node (i, j):\n",
        "        i - i-th current possible price,\n",
        "        j - j-th current step at time j*dt.\n",
        "        default (i, j) = (0, 0) - node with the initial (step j=0) asset price.\n",
        "        '''\n",
        "        # Prepare the graphical format of the node.\n",
        "        content = r'{{Asset: %.3f} | Option: %.3f}' % (self.asset_prs[i, j], \n",
        "                                                       self.opt_prs[i, j])\n",
        "        # Create a node\n",
        "        self.graph.node(f'node {i}, {j}', content)\n",
        "\n",
        "        # Return if the current node has already been visited\n",
        "        if self.visited[i, j]:\n",
        "            return\n",
        "\n",
        "        # Create two edges from the current node and start the algorithm\n",
        "        # from these next nodes in a tree\n",
        "        self.graph.edge(f'node {i}, {j}', f'node {i}, {j + 1}')\n",
        "        self.graph.edge(f'node {i}, {j}', f'node {i + 1}, {j + 1}')\n",
        "        self.plot_graph(i, j + 1)\n",
        "        self.plot_graph(i + 1, j + 1)\n",
        "\n",
        "        # Label the current node as visited \n",
        "        self.visited[i, j] = 1\n",
        "        return self.graph\n",
        "\n",
        "\n",
        "    def build_asset_price_mat(self):\n",
        "        '''\n",
        "        This function builds the diagonal matrix of possible asset prices - asset_prs.\n",
        "        The matrix has the following form:\n",
        "        [S0, S0*u, S0*u^2,  S0*u^3   ... S0*u^(steps)      ]\n",
        "        [0,  S0*d, S0*u*d,  S0*u^2*d ... S0*u^(steps-1)*d  ]\n",
        "        [0,  0,    S0*d^2,  S0*u*d^2 ... S0*u^(steps-2)*d^2]\n",
        "        [0,  0,    0,       S0*d^3   ... S0*u^(steps-3)*d^3]\n",
        "                                     ...\n",
        "        [0,  0,    0,       0,       ... S0*d^(steps)      ],\n",
        "        where S0 - initial (at step j=0) asset price.\n",
        "        If the known dividend yield D is given at time Div_date, then the matrix has \n",
        "        the following form:\n",
        "        [S0, H*u+D*exp(-r*(Div_date-dt*i)), H*u^2,  H*u^3   ... H*u^(steps)      ]\n",
        "        [0,  H*d+D*exp(-r*(Div_date-dt*i)), H*u*d,  H*u^2*d ... H*u^(steps-1)*d  ]\n",
        "        [0,  0,                             H*d^2,  H*u*d^2 ... H*u^(steps-2)*d^2]\n",
        "        [0,  0,                             0,      H*d^3   ... H*u^(steps-3)*d^3]\n",
        "                                                            ...\n",
        "        [0,  0,                             0,      0,      ... H*d^(steps)      ],\n",
        "        If the Div_date at ------^ (2 <= Div_date <= 3 for this example).\n",
        "        where H=S0-D*exp(-r*Div_date).\n",
        "        '''\n",
        "        # If D is given - subtract the discounted dividend yield from the \n",
        "        # initial asset price \n",
        "        init_price = self.cur_pr\n",
        "        if self.D != None:\n",
        "            init_price -= self.D * np.exp(-self.r * self.Div_date)\n",
        "        \n",
        "        # Calculate the possible asset prices in terms of the Binomial model\n",
        "        for i in range(0, self.steps + 1):\n",
        "            for j in range(0, i + 1):\n",
        "                self.asset_prs[j, i] = init_price * self.u**(i - j) * self.d**j\n",
        "                \n",
        "                # If D is given - then add the discounted dividend yield to nodes\n",
        "                # before the Div_date (dt*i <= Div_date)\n",
        "                if self.D != None and self.dt * i <= self.Div_date:\n",
        "                    self.asset_prs[j, i] += self.D * np.exp(-self.r * (self.Div_date - self.dt * i))\n",
        "\n",
        "\n",
        "    def get_price_recursive(self, i=0, j=0):\n",
        "        '''\n",
        "        This function implements the DFS algorithm for traversing the graph \n",
        "        and calculate the option price recursively.\n",
        "        Inputs - matrix indexes of node (i, j):\n",
        "            i - i-th possible price,\n",
        "            j - j-th step at time j*dt.\n",
        "            default (i, j) = (0, 0) - node with the initial (step j=0) asset price.\n",
        "        Outputs:\n",
        "            price - price of the option in the node (i, j) that corresponds to\n",
        "                    the asset price (asset_prs[i, j]).\n",
        "        '''\n",
        "        # Return if the node (i, j) has already been visited\n",
        "        if self.visited[i, j]:\n",
        "            return self.opt_prs[i, j]\n",
        "        \n",
        "        # Check whether the upper or lower bounds are given, if so => calculating \n",
        "        # the price of barrier option and return 0 as current option price if \n",
        "        # the current asset price is out of bounds\n",
        "        if self.upper_bd != None and self.asset_prs[i, j] >= self.upper_bd:\n",
        "            return 0\n",
        "        if self.lower_bd != None and self.asset_prs[i, j] <= self.lower_bd:\n",
        "            return 0\n",
        "\n",
        "        # Calculate the expected price in the next step\n",
        "        expected_pr = self.P * self.get_price_recursive(i, j + 1) + \\\n",
        "                      (1 - self.P) * self.get_price_recursive(i + 1, j + 1)\n",
        "        \n",
        "        # Discount the expected price \n",
        "        price = expected_pr * np.exp(-self.r * self.dt)\n",
        "        \n",
        "        # If the option is American consider the early exercise \n",
        "        if self.opt_mode == \"American\":\n",
        "            if self.opt_type == \"Call\":\n",
        "                price = max(price, self.asset_prs[i, j] - self.strike_pr)\n",
        "            else:\n",
        "                price = max(price, self.strike_pr - self.asset_prs[i, j])\n",
        "\n",
        "        # Store the current option price of node (i, j) in the opt_prs matrix\n",
        "        self.opt_prs[i, j] = price\n",
        "\n",
        "        # Label node (i, j) as visited \n",
        "        self.visited[i, j] = 1\n",
        "        return price\n",
        "\n",
        "\n",
        "    def get_option_price(self, verbose=True):\n",
        "        '''\n",
        "        This is the main function of the Binomial_Tree_Pricing class. It calculates \n",
        "        the initial price of option for given a set of parameters that were \n",
        "        initialized in Constructor.\n",
        "        Inputs:\n",
        "        verbose - the binary flag that indicates whether to show the information \n",
        "                  of running process or not,\n",
        "                  default is True. \n",
        "        '''\n",
        "        # Calculate the u and d coefficients if \"u=1/d\" strategy is set\n",
        "        if self.udp_str == \"u=1/d\":\n",
        "            self.u = np.exp(self.sigma * np.sqrt(self.dt))\n",
        "            self.d = 1 / self.u\n",
        "        \n",
        "        # Calculate the risk-neutral probability\n",
        "        self.P = (np.exp((self.r - self.r2) * self.dt) - self.d) / (self.u - self.d)\n",
        "\n",
        "        # Not tested yet\n",
        "        # elif self.udp_str == \"p=1/2\":\n",
        "        \n",
        "        #    self.u = np.exp((self.r - self.r2) * self.dt) * (1 + np.sqrt(np.exp(self.sigma**2 * self.dt) - 1))\n",
        "        #    self.d = np.exp((self.r - self.r2) * self.dt) * (1 - np.sqrt(np.exp(self.sigma**2 * self.dt) - 1))\n",
        "        #    self.P = 1 / 2\n",
        "\n",
        "        # Check whether the risk-neutral probability is greater than 1\n",
        "        assert self.P <= 1, \"p is greater than 1\" \n",
        "\n",
        "        # Build the asset prices matrix asset_prs using the function build_asset_price_mat()\n",
        "        if verbose:\n",
        "            print(\"Calculating the asset prices...\")\n",
        "        self.build_asset_price_mat()\n",
        "\n",
        "        # Calculate the option prices at the last step (j=steps)\n",
        "        if self.opt_type == \"Call\":\n",
        "            self.opt_prs[:, -1] = self.asset_prs[:, -1] - self.strike_pr\n",
        "            self.opt_prs[self.opt_prs < 0] = 0\n",
        "        else:\n",
        "            self.opt_prs[:, -1] = self.strike_pr - self.asset_prs[:, -1]\n",
        "            self.opt_prs[self.opt_prs < 0] = 0\n",
        "        \n",
        "        # Check whether the upper and lower bounds are given, if so => calculating \n",
        "        # the price of barrier option and set 0 as the option price if the asset \n",
        "        # price is out of bounds\n",
        "        if self.upper_bd != None: \n",
        "            self.opt_prs[self.asset_prs >= self.upper_bd] = 0\n",
        "        if self.lower_bd != None:\n",
        "            self.opt_prs[self.asset_prs <= self.lower_bd] = 0\n",
        "        \n",
        "        # Calculate the initial option price for node (0, 0)\n",
        "        if verbose:\n",
        "            print(\"Calculating the option prices...\")\n",
        "        self.opt_price = self.get_price_recursive()\n",
        "\n",
        "        # Reset the visited matrix for further graph plotting\n",
        "        self.reset_visited()\n",
        "\n",
        "        if verbose:\n",
        "            print(\"Succeed.\")"
      ],
      "execution_count": 3,
      "outputs": []
    },
    {
      "cell_type": "markdown",
      "metadata": {
        "id": "tytxNg91hCro"
      },
      "source": [
        "## 3.2 Examples"
      ]
    },
    {
      "cell_type": "markdown",
      "metadata": {
        "id": "JRRaX4pIJyh0"
      },
      "source": [
        "Let us provide several simple examples of *Binomial_tree_pricing* class usage. More complpicated cases such as stocks with both the fixed and continuous dividend yield, currencies and futures are considered in the Tutorial\u0014solutions."
      ]
    },
    {
      "cell_type": "markdown",
      "metadata": {
        "id": "jzfsxC7cgyze"
      },
      "source": [
        "### Example 1"
      ]
    },
    {
      "cell_type": "markdown",
      "metadata": {
        "id": "e6xbE54KO5y5"
      },
      "source": [
        "*Options, Futures and other Derivatives*, 10-th ed., ch.13, p.278.\n",
        "\n",
        "---\n",
        "\n",
        "Let a stock price be currently \\$20. Let's value a European 6-month call option with a strike price of \\$21 using a two-step tree. Risk-free interest rate is 4% per annum. In each step the price may go up by 10% or down by 10%.\n"
      ]
    },
    {
      "cell_type": "code",
      "metadata": {
        "colab": {
          "base_uri": "https://localhost:8080/"
        },
        "id": "bmDkXtyoASgJ",
        "outputId": "1d216b1e-24f8-4a4e-83fe-1007411335c7"
      },
      "source": [
        "# First let's define the given parameters\n",
        "cur_price = 20\n",
        "strike_price = 21\n",
        "r = 0.04\n",
        "months = 6\n",
        "steps = 2\n",
        "\n",
        "# For this example the coefficients u and d are given => set the 'Custom' strategy\n",
        "udp_str = \"Custom\"\n",
        "u = 1.1\n",
        "d = 0.9\n",
        "\n",
        "# Create an object of Binomial_Tree_Pricing class with given parameters\n",
        "bin_tree_ex1 = Binomial_Tree_Pricing(cur_pr=cur_price, strike_pr=strike_price,\n",
        "                                     r=r, steps=steps, months=months, \n",
        "                                     udp_str=udp_str, u=u, d=d)\n",
        "\n",
        "# Calculate the option price \n",
        "bin_tree_ex1.get_option_price()"
      ],
      "execution_count": 4,
      "outputs": [
        {
          "output_type": "stream",
          "text": [
            "Calculating the asset prices...\n",
            "Calculating the option prices...\n",
            "Succeed.\n"
          ],
          "name": "stdout"
        }
      ]
    },
    {
      "cell_type": "code",
      "metadata": {
        "colab": {
          "base_uri": "https://localhost:8080/"
        },
        "id": "J0PZllD0F5ex",
        "outputId": "5d5d0f15-16f5-4154-d81a-7840229d11c2"
      },
      "source": [
        "# All parameters of the Binomial_Tree_Pricing class are available via . and name of the parameter\n",
        "# For example, the let's get the initial option price\n",
        "bin_tree_ex1.opt_price"
      ],
      "execution_count": 5,
      "outputs": [
        {
          "output_type": "execute_result",
          "data": {
            "text/plain": [
              "0.9496979703975418"
            ]
          },
          "metadata": {
            "tags": []
          },
          "execution_count": 5
        }
      ]
    },
    {
      "cell_type": "code",
      "metadata": {
        "colab": {
          "base_uri": "https://localhost:8080/"
        },
        "id": "Q63LYHNOTS-x",
        "outputId": "fca139d6-5a76-4981-b664-246047e1249f"
      },
      "source": [
        "# Let's get the matrix of asset prices\n",
        "bin_tree_ex1.asset_prs"
      ],
      "execution_count": 6,
      "outputs": [
        {
          "output_type": "execute_result",
          "data": {
            "text/plain": [
              "array([[20. , 22. , 24.2],\n",
              "       [ 0. , 18. , 19.8],\n",
              "       [ 0. ,  0. , 16.2]])"
            ]
          },
          "metadata": {
            "tags": []
          },
          "execution_count": 6
        }
      ]
    },
    {
      "cell_type": "code",
      "metadata": {
        "colab": {
          "base_uri": "https://localhost:8080/"
        },
        "id": "iJIBkFwCTtmp",
        "outputId": "7623326d-147c-4ea4-ffd5-befc6e1b4c93"
      },
      "source": [
        "# Let's get the risk-neutral probability\n",
        "bin_tree_ex1.P"
      ],
      "execution_count": 7,
      "outputs": [
        {
          "output_type": "execute_result",
          "data": {
            "text/plain": [
              "0.5502508354208394"
            ]
          },
          "metadata": {
            "tags": []
          },
          "execution_count": 7
        }
      ]
    },
    {
      "cell_type": "code",
      "metadata": {
        "colab": {
          "base_uri": "https://localhost:8080/",
          "height": 316
        },
        "id": "wOeLy5KWF7uH",
        "outputId": "f6188d75-90b8-4cf4-c184-58f4eee43f16"
      },
      "source": [
        "# Let's build the tree graph\n",
        "bin_tree_ex1.plot_graph()"
      ],
      "execution_count": 8,
      "outputs": [
        {
          "output_type": "execute_result",
          "data": {
            "text/plain": [
              "<graphviz.dot.Digraph at 0x7f1e26068358>"
            ],
            "image/svg+xml": "<?xml version=\"1.0\" encoding=\"UTF-8\" standalone=\"no\"?>\n<!DOCTYPE svg PUBLIC \"-//W3C//DTD SVG 1.1//EN\"\n \"http://www.w3.org/Graphics/SVG/1.1/DTD/svg11.dtd\">\n<!-- Generated by graphviz version 2.40.1 (20161225.0304)\n -->\n<!-- Title: tree Pages: 1 -->\n<svg width=\"338pt\" height=\"221pt\"\n viewBox=\"0.00 0.00 338.00 221.00\" xmlns=\"http://www.w3.org/2000/svg\" xmlns:xlink=\"http://www.w3.org/1999/xlink\">\n<g id=\"graph0\" class=\"graph\" transform=\"scale(1 1) rotate(0) translate(4 217)\">\n<title>tree</title>\n<polygon fill=\"#ffffff\" stroke=\"transparent\" points=\"-4,4 -4,-217 334,-217 334,4 -4,4\"/>\n<!-- node 0, 0 -->\n<g id=\"node1\" class=\"node\">\n<title>node 0, 0</title>\n<polygon fill=\"none\" stroke=\"#000000\" points=\"116,-166.5 116,-212.5 214,-212.5 214,-166.5 116,-166.5\"/>\n<text text-anchor=\"middle\" x=\"165\" y=\"-197.3\" font-family=\"Times,serif\" font-size=\"14.00\" fill=\"#000000\">Asset: 20.000</text>\n<polyline fill=\"none\" stroke=\"#000000\" points=\"116,-189.5 214,-189.5 \"/>\n<text text-anchor=\"middle\" x=\"165\" y=\"-174.3\" font-family=\"Times,serif\" font-size=\"14.00\" fill=\"#000000\">Option: 0.950</text>\n</g>\n<!-- node 0, 1 -->\n<g id=\"node2\" class=\"node\">\n<title>node 0, 1</title>\n<polygon fill=\"none\" stroke=\"#000000\" points=\"58,-83.5 58,-129.5 156,-129.5 156,-83.5 58,-83.5\"/>\n<text text-anchor=\"middle\" x=\"107\" y=\"-114.3\" font-family=\"Times,serif\" font-size=\"14.00\" fill=\"#000000\">Asset: 22.000</text>\n<polyline fill=\"none\" stroke=\"#000000\" points=\"58,-106.5 156,-106.5 \"/>\n<text text-anchor=\"middle\" x=\"107\" y=\"-91.3\" font-family=\"Times,serif\" font-size=\"14.00\" fill=\"#000000\">Option: 1.743</text>\n</g>\n<!-- node 0, 0&#45;&gt;node 0, 1 -->\n<g id=\"edge1\" class=\"edge\">\n<title>node 0, 0&#45;&gt;node 0, 1</title>\n<path fill=\"none\" stroke=\"#000000\" d=\"M148.8438,-166.3799C142.736,-157.6394 135.6756,-147.5358 129.1144,-138.1465\"/>\n<polygon fill=\"#000000\" stroke=\"#000000\" points=\"131.8677,-135.9762 123.2708,-129.784 126.1298,-139.9858 131.8677,-135.9762\"/>\n</g>\n<!-- node 1, 1 -->\n<g id=\"node3\" class=\"node\">\n<title>node 1, 1</title>\n<polygon fill=\"none\" stroke=\"#000000\" points=\"174,-83.5 174,-129.5 272,-129.5 272,-83.5 174,-83.5\"/>\n<text text-anchor=\"middle\" x=\"223\" y=\"-114.3\" font-family=\"Times,serif\" font-size=\"14.00\" fill=\"#000000\">Asset: 18.000</text>\n<polyline fill=\"none\" stroke=\"#000000\" points=\"174,-106.5 272,-106.5 \"/>\n<text text-anchor=\"middle\" x=\"223\" y=\"-91.3\" font-family=\"Times,serif\" font-size=\"14.00\" fill=\"#000000\">Option: 0.000</text>\n</g>\n<!-- node 0, 0&#45;&gt;node 1, 1 -->\n<g id=\"edge2\" class=\"edge\">\n<title>node 0, 0&#45;&gt;node 1, 1</title>\n<path fill=\"none\" stroke=\"#000000\" d=\"M181.1562,-166.3799C187.264,-157.6394 194.3244,-147.5358 200.8856,-138.1465\"/>\n<polygon fill=\"#000000\" stroke=\"#000000\" points=\"203.8702,-139.9858 206.7292,-129.784 198.1323,-135.9762 203.8702,-139.9858\"/>\n</g>\n<!-- node 0, 2 -->\n<g id=\"node4\" class=\"node\">\n<title>node 0, 2</title>\n<polygon fill=\"none\" stroke=\"#000000\" points=\"0,-.5 0,-46.5 98,-46.5 98,-.5 0,-.5\"/>\n<text text-anchor=\"middle\" x=\"49\" y=\"-31.3\" font-family=\"Times,serif\" font-size=\"14.00\" fill=\"#000000\">Asset: 24.200</text>\n<polyline fill=\"none\" stroke=\"#000000\" points=\"0,-23.5 98,-23.5 \"/>\n<text text-anchor=\"middle\" x=\"49\" y=\"-8.3\" font-family=\"Times,serif\" font-size=\"14.00\" fill=\"#000000\">Option: 3.200</text>\n</g>\n<!-- node 0, 1&#45;&gt;node 0, 2 -->\n<g id=\"edge3\" class=\"edge\">\n<title>node 0, 1&#45;&gt;node 0, 2</title>\n<path fill=\"none\" stroke=\"#000000\" d=\"M90.8438,-83.3799C84.736,-74.6394 77.6756,-64.5358 71.1144,-55.1465\"/>\n<polygon fill=\"#000000\" stroke=\"#000000\" points=\"73.8677,-52.9762 65.2708,-46.784 68.1298,-56.9858 73.8677,-52.9762\"/>\n</g>\n<!-- node 1, 2 -->\n<g id=\"node5\" class=\"node\">\n<title>node 1, 2</title>\n<polygon fill=\"none\" stroke=\"#000000\" points=\"116,-.5 116,-46.5 214,-46.5 214,-.5 116,-.5\"/>\n<text text-anchor=\"middle\" x=\"165\" y=\"-31.3\" font-family=\"Times,serif\" font-size=\"14.00\" fill=\"#000000\">Asset: 19.800</text>\n<polyline fill=\"none\" stroke=\"#000000\" points=\"116,-23.5 214,-23.5 \"/>\n<text text-anchor=\"middle\" x=\"165\" y=\"-8.3\" font-family=\"Times,serif\" font-size=\"14.00\" fill=\"#000000\">Option: 0.000</text>\n</g>\n<!-- node 0, 1&#45;&gt;node 1, 2 -->\n<g id=\"edge4\" class=\"edge\">\n<title>node 0, 1&#45;&gt;node 1, 2</title>\n<path fill=\"none\" stroke=\"#000000\" d=\"M123.1562,-83.3799C129.264,-74.6394 136.3244,-64.5358 142.8856,-55.1465\"/>\n<polygon fill=\"#000000\" stroke=\"#000000\" points=\"145.8702,-56.9858 148.7292,-46.784 140.1323,-52.9762 145.8702,-56.9858\"/>\n</g>\n<!-- node 1, 1&#45;&gt;node 1, 2 -->\n<g id=\"edge5\" class=\"edge\">\n<title>node 1, 1&#45;&gt;node 1, 2</title>\n<path fill=\"none\" stroke=\"#000000\" d=\"M206.8438,-83.3799C200.736,-74.6394 193.6756,-64.5358 187.1144,-55.1465\"/>\n<polygon fill=\"#000000\" stroke=\"#000000\" points=\"189.8677,-52.9762 181.2708,-46.784 184.1298,-56.9858 189.8677,-52.9762\"/>\n</g>\n<!-- node 2, 2 -->\n<g id=\"node6\" class=\"node\">\n<title>node 2, 2</title>\n<polygon fill=\"none\" stroke=\"#000000\" points=\"232,-.5 232,-46.5 330,-46.5 330,-.5 232,-.5\"/>\n<text text-anchor=\"middle\" x=\"281\" y=\"-31.3\" font-family=\"Times,serif\" font-size=\"14.00\" fill=\"#000000\">Asset: 16.200</text>\n<polyline fill=\"none\" stroke=\"#000000\" points=\"232,-23.5 330,-23.5 \"/>\n<text text-anchor=\"middle\" x=\"281\" y=\"-8.3\" font-family=\"Times,serif\" font-size=\"14.00\" fill=\"#000000\">Option: 0.000</text>\n</g>\n<!-- node 1, 1&#45;&gt;node 2, 2 -->\n<g id=\"edge6\" class=\"edge\">\n<title>node 1, 1&#45;&gt;node 2, 2</title>\n<path fill=\"none\" stroke=\"#000000\" d=\"M239.1562,-83.3799C245.264,-74.6394 252.3244,-64.5358 258.8856,-55.1465\"/>\n<polygon fill=\"#000000\" stroke=\"#000000\" points=\"261.8702,-56.9858 264.7292,-46.784 256.1323,-52.9762 261.8702,-56.9858\"/>\n</g>\n</g>\n</svg>\n"
          },
          "metadata": {
            "tags": []
          },
          "execution_count": 8
        }
      ]
    },
    {
      "cell_type": "code",
      "metadata": {
        "colab": {
          "base_uri": "https://localhost:8080/",
          "height": 316
        },
        "id": "ptgSDY-zT1Yp",
        "outputId": "6fd3d5b5-a8a8-4d55-f95f-0889abb4a9a4"
      },
      "source": [
        "# Once the graph is build using the plot_graph() function, it is stored in the\n",
        "# graph parameter\n",
        "bin_tree_ex1.graph"
      ],
      "execution_count": 9,
      "outputs": [
        {
          "output_type": "execute_result",
          "data": {
            "text/plain": [
              "<graphviz.dot.Digraph at 0x7f1e26068358>"
            ],
            "image/svg+xml": "<?xml version=\"1.0\" encoding=\"UTF-8\" standalone=\"no\"?>\n<!DOCTYPE svg PUBLIC \"-//W3C//DTD SVG 1.1//EN\"\n \"http://www.w3.org/Graphics/SVG/1.1/DTD/svg11.dtd\">\n<!-- Generated by graphviz version 2.40.1 (20161225.0304)\n -->\n<!-- Title: tree Pages: 1 -->\n<svg width=\"338pt\" height=\"221pt\"\n viewBox=\"0.00 0.00 338.00 221.00\" xmlns=\"http://www.w3.org/2000/svg\" xmlns:xlink=\"http://www.w3.org/1999/xlink\">\n<g id=\"graph0\" class=\"graph\" transform=\"scale(1 1) rotate(0) translate(4 217)\">\n<title>tree</title>\n<polygon fill=\"#ffffff\" stroke=\"transparent\" points=\"-4,4 -4,-217 334,-217 334,4 -4,4\"/>\n<!-- node 0, 0 -->\n<g id=\"node1\" class=\"node\">\n<title>node 0, 0</title>\n<polygon fill=\"none\" stroke=\"#000000\" points=\"116,-166.5 116,-212.5 214,-212.5 214,-166.5 116,-166.5\"/>\n<text text-anchor=\"middle\" x=\"165\" y=\"-197.3\" font-family=\"Times,serif\" font-size=\"14.00\" fill=\"#000000\">Asset: 20.000</text>\n<polyline fill=\"none\" stroke=\"#000000\" points=\"116,-189.5 214,-189.5 \"/>\n<text text-anchor=\"middle\" x=\"165\" y=\"-174.3\" font-family=\"Times,serif\" font-size=\"14.00\" fill=\"#000000\">Option: 0.950</text>\n</g>\n<!-- node 0, 1 -->\n<g id=\"node2\" class=\"node\">\n<title>node 0, 1</title>\n<polygon fill=\"none\" stroke=\"#000000\" points=\"58,-83.5 58,-129.5 156,-129.5 156,-83.5 58,-83.5\"/>\n<text text-anchor=\"middle\" x=\"107\" y=\"-114.3\" font-family=\"Times,serif\" font-size=\"14.00\" fill=\"#000000\">Asset: 22.000</text>\n<polyline fill=\"none\" stroke=\"#000000\" points=\"58,-106.5 156,-106.5 \"/>\n<text text-anchor=\"middle\" x=\"107\" y=\"-91.3\" font-family=\"Times,serif\" font-size=\"14.00\" fill=\"#000000\">Option: 1.743</text>\n</g>\n<!-- node 0, 0&#45;&gt;node 0, 1 -->\n<g id=\"edge1\" class=\"edge\">\n<title>node 0, 0&#45;&gt;node 0, 1</title>\n<path fill=\"none\" stroke=\"#000000\" d=\"M148.8438,-166.3799C142.736,-157.6394 135.6756,-147.5358 129.1144,-138.1465\"/>\n<polygon fill=\"#000000\" stroke=\"#000000\" points=\"131.8677,-135.9762 123.2708,-129.784 126.1298,-139.9858 131.8677,-135.9762\"/>\n</g>\n<!-- node 1, 1 -->\n<g id=\"node3\" class=\"node\">\n<title>node 1, 1</title>\n<polygon fill=\"none\" stroke=\"#000000\" points=\"174,-83.5 174,-129.5 272,-129.5 272,-83.5 174,-83.5\"/>\n<text text-anchor=\"middle\" x=\"223\" y=\"-114.3\" font-family=\"Times,serif\" font-size=\"14.00\" fill=\"#000000\">Asset: 18.000</text>\n<polyline fill=\"none\" stroke=\"#000000\" points=\"174,-106.5 272,-106.5 \"/>\n<text text-anchor=\"middle\" x=\"223\" y=\"-91.3\" font-family=\"Times,serif\" font-size=\"14.00\" fill=\"#000000\">Option: 0.000</text>\n</g>\n<!-- node 0, 0&#45;&gt;node 1, 1 -->\n<g id=\"edge2\" class=\"edge\">\n<title>node 0, 0&#45;&gt;node 1, 1</title>\n<path fill=\"none\" stroke=\"#000000\" d=\"M181.1562,-166.3799C187.264,-157.6394 194.3244,-147.5358 200.8856,-138.1465\"/>\n<polygon fill=\"#000000\" stroke=\"#000000\" points=\"203.8702,-139.9858 206.7292,-129.784 198.1323,-135.9762 203.8702,-139.9858\"/>\n</g>\n<!-- node 0, 2 -->\n<g id=\"node4\" class=\"node\">\n<title>node 0, 2</title>\n<polygon fill=\"none\" stroke=\"#000000\" points=\"0,-.5 0,-46.5 98,-46.5 98,-.5 0,-.5\"/>\n<text text-anchor=\"middle\" x=\"49\" y=\"-31.3\" font-family=\"Times,serif\" font-size=\"14.00\" fill=\"#000000\">Asset: 24.200</text>\n<polyline fill=\"none\" stroke=\"#000000\" points=\"0,-23.5 98,-23.5 \"/>\n<text text-anchor=\"middle\" x=\"49\" y=\"-8.3\" font-family=\"Times,serif\" font-size=\"14.00\" fill=\"#000000\">Option: 3.200</text>\n</g>\n<!-- node 0, 1&#45;&gt;node 0, 2 -->\n<g id=\"edge3\" class=\"edge\">\n<title>node 0, 1&#45;&gt;node 0, 2</title>\n<path fill=\"none\" stroke=\"#000000\" d=\"M90.8438,-83.3799C84.736,-74.6394 77.6756,-64.5358 71.1144,-55.1465\"/>\n<polygon fill=\"#000000\" stroke=\"#000000\" points=\"73.8677,-52.9762 65.2708,-46.784 68.1298,-56.9858 73.8677,-52.9762\"/>\n</g>\n<!-- node 1, 2 -->\n<g id=\"node5\" class=\"node\">\n<title>node 1, 2</title>\n<polygon fill=\"none\" stroke=\"#000000\" points=\"116,-.5 116,-46.5 214,-46.5 214,-.5 116,-.5\"/>\n<text text-anchor=\"middle\" x=\"165\" y=\"-31.3\" font-family=\"Times,serif\" font-size=\"14.00\" fill=\"#000000\">Asset: 19.800</text>\n<polyline fill=\"none\" stroke=\"#000000\" points=\"116,-23.5 214,-23.5 \"/>\n<text text-anchor=\"middle\" x=\"165\" y=\"-8.3\" font-family=\"Times,serif\" font-size=\"14.00\" fill=\"#000000\">Option: 0.000</text>\n</g>\n<!-- node 0, 1&#45;&gt;node 1, 2 -->\n<g id=\"edge4\" class=\"edge\">\n<title>node 0, 1&#45;&gt;node 1, 2</title>\n<path fill=\"none\" stroke=\"#000000\" d=\"M123.1562,-83.3799C129.264,-74.6394 136.3244,-64.5358 142.8856,-55.1465\"/>\n<polygon fill=\"#000000\" stroke=\"#000000\" points=\"145.8702,-56.9858 148.7292,-46.784 140.1323,-52.9762 145.8702,-56.9858\"/>\n</g>\n<!-- node 1, 1&#45;&gt;node 1, 2 -->\n<g id=\"edge5\" class=\"edge\">\n<title>node 1, 1&#45;&gt;node 1, 2</title>\n<path fill=\"none\" stroke=\"#000000\" d=\"M206.8438,-83.3799C200.736,-74.6394 193.6756,-64.5358 187.1144,-55.1465\"/>\n<polygon fill=\"#000000\" stroke=\"#000000\" points=\"189.8677,-52.9762 181.2708,-46.784 184.1298,-56.9858 189.8677,-52.9762\"/>\n</g>\n<!-- node 2, 2 -->\n<g id=\"node6\" class=\"node\">\n<title>node 2, 2</title>\n<polygon fill=\"none\" stroke=\"#000000\" points=\"232,-.5 232,-46.5 330,-46.5 330,-.5 232,-.5\"/>\n<text text-anchor=\"middle\" x=\"281\" y=\"-31.3\" font-family=\"Times,serif\" font-size=\"14.00\" fill=\"#000000\">Asset: 16.200</text>\n<polyline fill=\"none\" stroke=\"#000000\" points=\"232,-23.5 330,-23.5 \"/>\n<text text-anchor=\"middle\" x=\"281\" y=\"-8.3\" font-family=\"Times,serif\" font-size=\"14.00\" fill=\"#000000\">Option: 0.000</text>\n</g>\n<!-- node 1, 1&#45;&gt;node 2, 2 -->\n<g id=\"edge6\" class=\"edge\">\n<title>node 1, 1&#45;&gt;node 2, 2</title>\n<path fill=\"none\" stroke=\"#000000\" d=\"M239.1562,-83.3799C245.264,-74.6394 252.3244,-64.5358 258.8856,-55.1465\"/>\n<polygon fill=\"#000000\" stroke=\"#000000\" points=\"261.8702,-56.9858 264.7292,-46.784 256.1323,-52.9762 261.8702,-56.9858\"/>\n</g>\n</g>\n</svg>\n"
          },
          "metadata": {
            "tags": []
          },
          "execution_count": 9
        }
      ]
    },
    {
      "cell_type": "markdown",
      "metadata": {
        "id": "DUk8-KmEg1VD"
      },
      "source": [
        "### Example 2"
      ]
    },
    {
      "cell_type": "markdown",
      "metadata": {
        "id": "9_uJISycUgAd"
      },
      "source": [
        "*Options, Futures and other Derivatives*, 10-th ed., ch.13, p.281.\n",
        "\n",
        "---\n",
        "\n",
        "Consider a 2-year European put with a strike price of \\$52 on a stock whose current price is \\$50. We suppose that there are two time steps of 1 year, and in each time step the stock price either moves up by 20% or moves down by 20%. We also suppose that the risk-free interest rate is 5%."
      ]
    },
    {
      "cell_type": "code",
      "metadata": {
        "id": "GfgTgzw8BCVK",
        "colab": {
          "base_uri": "https://localhost:8080/"
        },
        "outputId": "fb732ad5-e943-4af9-8042-06b39bd29c24"
      },
      "source": [
        "# We can also define parameters in dictionary\n",
        "\n",
        "params_ex2 = {\"cur_pr\"       : 50,\n",
        "              \"strike_pr\"    : 52,\n",
        "              \"r\"            : 0.05,\n",
        "              \"months\"       : 12 * 2,\n",
        "              \"steps\"        : 2,\n",
        "              \"udp_str\"      : \"Custom\",\n",
        "              \"u\"            : 1.2,\n",
        "              \"d\"            : 0.8,\n",
        "              \"opt_type\"     : \"Put\"}\n",
        "\n",
        "bin_tree_ex2 = Binomial_Tree_Pricing(**params_ex2)\n",
        "\n",
        "# We can hide the additional information\n",
        "bin_tree_ex2.get_option_price(verbose=False)\n",
        "\n",
        "# Let's get the option price\n",
        "bin_tree_ex2.opt_price"
      ],
      "execution_count": 10,
      "outputs": [
        {
          "output_type": "execute_result",
          "data": {
            "text/plain": [
              "4.1926542806038585"
            ]
          },
          "metadata": {
            "tags": []
          },
          "execution_count": 10
        }
      ]
    },
    {
      "cell_type": "code",
      "metadata": {
        "colab": {
          "base_uri": "https://localhost:8080/",
          "height": 316
        },
        "id": "o33T6R6oW9Ic",
        "outputId": "15fafb77-3ab7-4a15-df8a-38418858f40d"
      },
      "source": [
        "# Let's plot the tree graph\n",
        "bin_tree_ex2.plot_graph()"
      ],
      "execution_count": 11,
      "outputs": [
        {
          "output_type": "execute_result",
          "data": {
            "text/plain": [
              "<graphviz.dot.Digraph at 0x7f1e260685f8>"
            ],
            "image/svg+xml": "<?xml version=\"1.0\" encoding=\"UTF-8\" standalone=\"no\"?>\n<!DOCTYPE svg PUBLIC \"-//W3C//DTD SVG 1.1//EN\"\n \"http://www.w3.org/Graphics/SVG/1.1/DTD/svg11.dtd\">\n<!-- Generated by graphviz version 2.40.1 (20161225.0304)\n -->\n<!-- Title: tree Pages: 1 -->\n<svg width=\"346pt\" height=\"221pt\"\n viewBox=\"0.00 0.00 346.00 221.00\" xmlns=\"http://www.w3.org/2000/svg\" xmlns:xlink=\"http://www.w3.org/1999/xlink\">\n<g id=\"graph0\" class=\"graph\" transform=\"scale(1 1) rotate(0) translate(4 217)\">\n<title>tree</title>\n<polygon fill=\"#ffffff\" stroke=\"transparent\" points=\"-4,4 -4,-217 342,-217 342,4 -4,4\"/>\n<!-- node 0, 0 -->\n<g id=\"node1\" class=\"node\">\n<title>node 0, 0</title>\n<polygon fill=\"none\" stroke=\"#000000\" points=\"116,-166.5 116,-212.5 214,-212.5 214,-166.5 116,-166.5\"/>\n<text text-anchor=\"middle\" x=\"165\" y=\"-197.3\" font-family=\"Times,serif\" font-size=\"14.00\" fill=\"#000000\">Asset: 50.000</text>\n<polyline fill=\"none\" stroke=\"#000000\" points=\"116,-189.5 214,-189.5 \"/>\n<text text-anchor=\"middle\" x=\"165\" y=\"-174.3\" font-family=\"Times,serif\" font-size=\"14.00\" fill=\"#000000\">Option: 4.193</text>\n</g>\n<!-- node 0, 1 -->\n<g id=\"node2\" class=\"node\">\n<title>node 0, 1</title>\n<polygon fill=\"none\" stroke=\"#000000\" points=\"58,-83.5 58,-129.5 156,-129.5 156,-83.5 58,-83.5\"/>\n<text text-anchor=\"middle\" x=\"107\" y=\"-114.3\" font-family=\"Times,serif\" font-size=\"14.00\" fill=\"#000000\">Asset: 60.000</text>\n<polyline fill=\"none\" stroke=\"#000000\" points=\"58,-106.5 156,-106.5 \"/>\n<text text-anchor=\"middle\" x=\"107\" y=\"-91.3\" font-family=\"Times,serif\" font-size=\"14.00\" fill=\"#000000\">Option: 1.415</text>\n</g>\n<!-- node 0, 0&#45;&gt;node 0, 1 -->\n<g id=\"edge1\" class=\"edge\">\n<title>node 0, 0&#45;&gt;node 0, 1</title>\n<path fill=\"none\" stroke=\"#000000\" d=\"M148.8438,-166.3799C142.736,-157.6394 135.6756,-147.5358 129.1144,-138.1465\"/>\n<polygon fill=\"#000000\" stroke=\"#000000\" points=\"131.8677,-135.9762 123.2708,-129.784 126.1298,-139.9858 131.8677,-135.9762\"/>\n</g>\n<!-- node 1, 1 -->\n<g id=\"node3\" class=\"node\">\n<title>node 1, 1</title>\n<polygon fill=\"none\" stroke=\"#000000\" points=\"174,-83.5 174,-129.5 272,-129.5 272,-83.5 174,-83.5\"/>\n<text text-anchor=\"middle\" x=\"223\" y=\"-114.3\" font-family=\"Times,serif\" font-size=\"14.00\" fill=\"#000000\">Asset: 40.000</text>\n<polyline fill=\"none\" stroke=\"#000000\" points=\"174,-106.5 272,-106.5 \"/>\n<text text-anchor=\"middle\" x=\"223\" y=\"-91.3\" font-family=\"Times,serif\" font-size=\"14.00\" fill=\"#000000\">Option: 9.464</text>\n</g>\n<!-- node 0, 0&#45;&gt;node 1, 1 -->\n<g id=\"edge2\" class=\"edge\">\n<title>node 0, 0&#45;&gt;node 1, 1</title>\n<path fill=\"none\" stroke=\"#000000\" d=\"M181.1562,-166.3799C187.264,-157.6394 194.3244,-147.5358 200.8856,-138.1465\"/>\n<polygon fill=\"#000000\" stroke=\"#000000\" points=\"203.8702,-139.9858 206.7292,-129.784 198.1323,-135.9762 203.8702,-139.9858\"/>\n</g>\n<!-- node 0, 2 -->\n<g id=\"node4\" class=\"node\">\n<title>node 0, 2</title>\n<polygon fill=\"none\" stroke=\"#000000\" points=\"0,-.5 0,-46.5 98,-46.5 98,-.5 0,-.5\"/>\n<text text-anchor=\"middle\" x=\"49\" y=\"-31.3\" font-family=\"Times,serif\" font-size=\"14.00\" fill=\"#000000\">Asset: 72.000</text>\n<polyline fill=\"none\" stroke=\"#000000\" points=\"0,-23.5 98,-23.5 \"/>\n<text text-anchor=\"middle\" x=\"49\" y=\"-8.3\" font-family=\"Times,serif\" font-size=\"14.00\" fill=\"#000000\">Option: 0.000</text>\n</g>\n<!-- node 0, 1&#45;&gt;node 0, 2 -->\n<g id=\"edge3\" class=\"edge\">\n<title>node 0, 1&#45;&gt;node 0, 2</title>\n<path fill=\"none\" stroke=\"#000000\" d=\"M90.8438,-83.3799C84.736,-74.6394 77.6756,-64.5358 71.1144,-55.1465\"/>\n<polygon fill=\"#000000\" stroke=\"#000000\" points=\"73.8677,-52.9762 65.2708,-46.784 68.1298,-56.9858 73.8677,-52.9762\"/>\n</g>\n<!-- node 1, 2 -->\n<g id=\"node5\" class=\"node\">\n<title>node 1, 2</title>\n<polygon fill=\"none\" stroke=\"#000000\" points=\"116,-.5 116,-46.5 214,-46.5 214,-.5 116,-.5\"/>\n<text text-anchor=\"middle\" x=\"165\" y=\"-31.3\" font-family=\"Times,serif\" font-size=\"14.00\" fill=\"#000000\">Asset: 48.000</text>\n<polyline fill=\"none\" stroke=\"#000000\" points=\"116,-23.5 214,-23.5 \"/>\n<text text-anchor=\"middle\" x=\"165\" y=\"-8.3\" font-family=\"Times,serif\" font-size=\"14.00\" fill=\"#000000\">Option: 4.000</text>\n</g>\n<!-- node 0, 1&#45;&gt;node 1, 2 -->\n<g id=\"edge4\" class=\"edge\">\n<title>node 0, 1&#45;&gt;node 1, 2</title>\n<path fill=\"none\" stroke=\"#000000\" d=\"M123.1562,-83.3799C129.264,-74.6394 136.3244,-64.5358 142.8856,-55.1465\"/>\n<polygon fill=\"#000000\" stroke=\"#000000\" points=\"145.8702,-56.9858 148.7292,-46.784 140.1323,-52.9762 145.8702,-56.9858\"/>\n</g>\n<!-- node 1, 1&#45;&gt;node 1, 2 -->\n<g id=\"edge5\" class=\"edge\">\n<title>node 1, 1&#45;&gt;node 1, 2</title>\n<path fill=\"none\" stroke=\"#000000\" d=\"M206.8438,-83.3799C200.736,-74.6394 193.6756,-64.5358 187.1144,-55.1465\"/>\n<polygon fill=\"#000000\" stroke=\"#000000\" points=\"189.8677,-52.9762 181.2708,-46.784 184.1298,-56.9858 189.8677,-52.9762\"/>\n</g>\n<!-- node 2, 2 -->\n<g id=\"node6\" class=\"node\">\n<title>node 2, 2</title>\n<polygon fill=\"none\" stroke=\"#000000\" points=\"232,-.5 232,-46.5 338,-46.5 338,-.5 232,-.5\"/>\n<text text-anchor=\"middle\" x=\"285\" y=\"-31.3\" font-family=\"Times,serif\" font-size=\"14.00\" fill=\"#000000\">Asset: 32.000</text>\n<polyline fill=\"none\" stroke=\"#000000\" points=\"232,-23.5 338,-23.5 \"/>\n<text text-anchor=\"middle\" x=\"285\" y=\"-8.3\" font-family=\"Times,serif\" font-size=\"14.00\" fill=\"#000000\">Option: 20.000</text>\n</g>\n<!-- node 1, 1&#45;&gt;node 2, 2 -->\n<g id=\"edge6\" class=\"edge\">\n<title>node 1, 1&#45;&gt;node 2, 2</title>\n<path fill=\"none\" stroke=\"#000000\" d=\"M240.2705,-83.3799C246.8661,-74.5502 254.5009,-64.3295 261.575,-54.8593\"/>\n<polygon fill=\"#000000\" stroke=\"#000000\" points=\"264.4266,-56.8902 267.6071,-46.784 258.8185,-52.701 264.4266,-56.8902\"/>\n</g>\n</g>\n</svg>\n"
          },
          "metadata": {
            "tags": []
          },
          "execution_count": 11
        }
      ]
    },
    {
      "cell_type": "markdown",
      "metadata": {
        "id": "7Gr-tt2_XRPE"
      },
      "source": [
        "Let's consider the American option with the same parameters."
      ]
    },
    {
      "cell_type": "code",
      "metadata": {
        "colab": {
          "base_uri": "https://localhost:8080/"
        },
        "id": "2saI-TKDXeD3",
        "outputId": "2d63d9b9-e8e4-45f6-b574-724a94037341"
      },
      "source": [
        "params_ex2[\"opt_mode\"] = \"American\"\n",
        "bin_tree_ex2 = Binomial_Tree_Pricing(**params_ex2)\n",
        "bin_tree_ex2.get_option_price(verbose=False)\n",
        "bin_tree_ex2.opt_price"
      ],
      "execution_count": 12,
      "outputs": [
        {
          "output_type": "execute_result",
          "data": {
            "text/plain": [
              "5.089632474198373"
            ]
          },
          "metadata": {
            "tags": []
          },
          "execution_count": 12
        }
      ]
    },
    {
      "cell_type": "code",
      "metadata": {
        "colab": {
          "base_uri": "https://localhost:8080/",
          "height": 316
        },
        "id": "1AyTYf2PYDIB",
        "outputId": "5f03e58a-2dc8-4812-8bec-cf2901bf11ae"
      },
      "source": [
        "bin_tree_ex2.plot_graph()"
      ],
      "execution_count": 13,
      "outputs": [
        {
          "output_type": "execute_result",
          "data": {
            "text/plain": [
              "<graphviz.dot.Digraph at 0x7f1e26068048>"
            ],
            "image/svg+xml": "<?xml version=\"1.0\" encoding=\"UTF-8\" standalone=\"no\"?>\n<!DOCTYPE svg PUBLIC \"-//W3C//DTD SVG 1.1//EN\"\n \"http://www.w3.org/Graphics/SVG/1.1/DTD/svg11.dtd\">\n<!-- Generated by graphviz version 2.40.1 (20161225.0304)\n -->\n<!-- Title: tree Pages: 1 -->\n<svg width=\"346pt\" height=\"221pt\"\n viewBox=\"0.00 0.00 346.00 221.00\" xmlns=\"http://www.w3.org/2000/svg\" xmlns:xlink=\"http://www.w3.org/1999/xlink\">\n<g id=\"graph0\" class=\"graph\" transform=\"scale(1 1) rotate(0) translate(4 217)\">\n<title>tree</title>\n<polygon fill=\"#ffffff\" stroke=\"transparent\" points=\"-4,4 -4,-217 342,-217 342,4 -4,4\"/>\n<!-- node 0, 0 -->\n<g id=\"node1\" class=\"node\">\n<title>node 0, 0</title>\n<polygon fill=\"none\" stroke=\"#000000\" points=\"118,-166.5 118,-212.5 216,-212.5 216,-166.5 118,-166.5\"/>\n<text text-anchor=\"middle\" x=\"167\" y=\"-197.3\" font-family=\"Times,serif\" font-size=\"14.00\" fill=\"#000000\">Asset: 50.000</text>\n<polyline fill=\"none\" stroke=\"#000000\" points=\"118,-189.5 216,-189.5 \"/>\n<text text-anchor=\"middle\" x=\"167\" y=\"-174.3\" font-family=\"Times,serif\" font-size=\"14.00\" fill=\"#000000\">Option: 5.090</text>\n</g>\n<!-- node 0, 1 -->\n<g id=\"node2\" class=\"node\">\n<title>node 0, 1</title>\n<polygon fill=\"none\" stroke=\"#000000\" points=\"58,-83.5 58,-129.5 156,-129.5 156,-83.5 58,-83.5\"/>\n<text text-anchor=\"middle\" x=\"107\" y=\"-114.3\" font-family=\"Times,serif\" font-size=\"14.00\" fill=\"#000000\">Asset: 60.000</text>\n<polyline fill=\"none\" stroke=\"#000000\" points=\"58,-106.5 156,-106.5 \"/>\n<text text-anchor=\"middle\" x=\"107\" y=\"-91.3\" font-family=\"Times,serif\" font-size=\"14.00\" fill=\"#000000\">Option: 1.415</text>\n</g>\n<!-- node 0, 0&#45;&gt;node 0, 1 -->\n<g id=\"edge1\" class=\"edge\">\n<title>node 0, 0&#45;&gt;node 0, 1</title>\n<path fill=\"none\" stroke=\"#000000\" d=\"M150.2867,-166.3799C143.9683,-157.6394 136.6645,-147.5358 129.877,-138.1465\"/>\n<polygon fill=\"#000000\" stroke=\"#000000\" points=\"132.5268,-135.8378 123.8318,-129.784 126.8538,-139.9387 132.5268,-135.8378\"/>\n</g>\n<!-- node 1, 1 -->\n<g id=\"node3\" class=\"node\">\n<title>node 1, 1</title>\n<polygon fill=\"none\" stroke=\"#000000\" points=\"174,-83.5 174,-129.5 280,-129.5 280,-83.5 174,-83.5\"/>\n<text text-anchor=\"middle\" x=\"227\" y=\"-114.3\" font-family=\"Times,serif\" font-size=\"14.00\" fill=\"#000000\">Asset: 40.000</text>\n<polyline fill=\"none\" stroke=\"#000000\" points=\"174,-106.5 280,-106.5 \"/>\n<text text-anchor=\"middle\" x=\"227\" y=\"-91.3\" font-family=\"Times,serif\" font-size=\"14.00\" fill=\"#000000\">Option: 12.000</text>\n</g>\n<!-- node 0, 0&#45;&gt;node 1, 1 -->\n<g id=\"edge2\" class=\"edge\">\n<title>node 0, 0&#45;&gt;node 1, 1</title>\n<path fill=\"none\" stroke=\"#000000\" d=\"M183.7133,-166.3799C190.0317,-157.6394 197.3355,-147.5358 204.123,-138.1465\"/>\n<polygon fill=\"#000000\" stroke=\"#000000\" points=\"207.1462,-139.9387 210.1682,-129.784 201.4732,-135.8378 207.1462,-139.9387\"/>\n</g>\n<!-- node 0, 2 -->\n<g id=\"node4\" class=\"node\">\n<title>node 0, 2</title>\n<polygon fill=\"none\" stroke=\"#000000\" points=\"0,-.5 0,-46.5 98,-46.5 98,-.5 0,-.5\"/>\n<text text-anchor=\"middle\" x=\"49\" y=\"-31.3\" font-family=\"Times,serif\" font-size=\"14.00\" fill=\"#000000\">Asset: 72.000</text>\n<polyline fill=\"none\" stroke=\"#000000\" points=\"0,-23.5 98,-23.5 \"/>\n<text text-anchor=\"middle\" x=\"49\" y=\"-8.3\" font-family=\"Times,serif\" font-size=\"14.00\" fill=\"#000000\">Option: 0.000</text>\n</g>\n<!-- node 0, 1&#45;&gt;node 0, 2 -->\n<g id=\"edge3\" class=\"edge\">\n<title>node 0, 1&#45;&gt;node 0, 2</title>\n<path fill=\"none\" stroke=\"#000000\" d=\"M90.8438,-83.3799C84.736,-74.6394 77.6756,-64.5358 71.1144,-55.1465\"/>\n<polygon fill=\"#000000\" stroke=\"#000000\" points=\"73.8677,-52.9762 65.2708,-46.784 68.1298,-56.9858 73.8677,-52.9762\"/>\n</g>\n<!-- node 1, 2 -->\n<g id=\"node5\" class=\"node\">\n<title>node 1, 2</title>\n<polygon fill=\"none\" stroke=\"#000000\" points=\"116,-.5 116,-46.5 214,-46.5 214,-.5 116,-.5\"/>\n<text text-anchor=\"middle\" x=\"165\" y=\"-31.3\" font-family=\"Times,serif\" font-size=\"14.00\" fill=\"#000000\">Asset: 48.000</text>\n<polyline fill=\"none\" stroke=\"#000000\" points=\"116,-23.5 214,-23.5 \"/>\n<text text-anchor=\"middle\" x=\"165\" y=\"-8.3\" font-family=\"Times,serif\" font-size=\"14.00\" fill=\"#000000\">Option: 4.000</text>\n</g>\n<!-- node 0, 1&#45;&gt;node 1, 2 -->\n<g id=\"edge4\" class=\"edge\">\n<title>node 0, 1&#45;&gt;node 1, 2</title>\n<path fill=\"none\" stroke=\"#000000\" d=\"M123.1562,-83.3799C129.264,-74.6394 136.3244,-64.5358 142.8856,-55.1465\"/>\n<polygon fill=\"#000000\" stroke=\"#000000\" points=\"145.8702,-56.9858 148.7292,-46.784 140.1323,-52.9762 145.8702,-56.9858\"/>\n</g>\n<!-- node 1, 1&#45;&gt;node 1, 2 -->\n<g id=\"edge5\" class=\"edge\">\n<title>node 1, 1&#45;&gt;node 1, 2</title>\n<path fill=\"none\" stroke=\"#000000\" d=\"M209.7295,-83.3799C203.1339,-74.5502 195.4991,-64.3295 188.425,-54.8593\"/>\n<polygon fill=\"#000000\" stroke=\"#000000\" points=\"191.1815,-52.701 182.3929,-46.784 185.5734,-56.8902 191.1815,-52.701\"/>\n</g>\n<!-- node 2, 2 -->\n<g id=\"node6\" class=\"node\">\n<title>node 2, 2</title>\n<polygon fill=\"none\" stroke=\"#000000\" points=\"232,-.5 232,-46.5 338,-46.5 338,-.5 232,-.5\"/>\n<text text-anchor=\"middle\" x=\"285\" y=\"-31.3\" font-family=\"Times,serif\" font-size=\"14.00\" fill=\"#000000\">Asset: 32.000</text>\n<polyline fill=\"none\" stroke=\"#000000\" points=\"232,-23.5 338,-23.5 \"/>\n<text text-anchor=\"middle\" x=\"285\" y=\"-8.3\" font-family=\"Times,serif\" font-size=\"14.00\" fill=\"#000000\">Option: 20.000</text>\n</g>\n<!-- node 1, 1&#45;&gt;node 2, 2 -->\n<g id=\"edge6\" class=\"edge\">\n<title>node 1, 1&#45;&gt;node 2, 2</title>\n<path fill=\"none\" stroke=\"#000000\" d=\"M243.1562,-83.3799C249.264,-74.6394 256.3244,-64.5358 262.8856,-55.1465\"/>\n<polygon fill=\"#000000\" stroke=\"#000000\" points=\"265.8702,-56.9858 268.7292,-46.784 260.1323,-52.9762 265.8702,-56.9858\"/>\n</g>\n</g>\n</svg>\n"
          },
          "metadata": {
            "tags": []
          },
          "execution_count": 13
        }
      ]
    },
    {
      "cell_type": "markdown",
      "metadata": {
        "id": "3AVbVPD8g5ii"
      },
      "source": [
        "### Example 3"
      ]
    },
    {
      "cell_type": "markdown",
      "metadata": {
        "id": "GjfKGQJbYNUm"
      },
      "source": [
        "*Options, Futures and other Derivatives*, 10-th ed., ch.13, p.286.\n",
        "\n",
        "---\n",
        "\n",
        "Let's consider the parameters from the previous example with the strategy 'u=1/d' for American put option with the volatility $\\sigma$ is 30%."
      ]
    },
    {
      "cell_type": "code",
      "metadata": {
        "colab": {
          "base_uri": "https://localhost:8080/"
        },
        "id": "ClLbtGnWDkWi",
        "outputId": "ce675eab-6f41-4ff4-c6f4-ab3d4f38d984"
      },
      "source": [
        "params_ex3 = {\"cur_pr\"    : 50,\n",
        "              \"strike_pr\" : 52,\n",
        "              \"r\"         : 0.05,\n",
        "              \"months\"    : 12 * 2,\n",
        "              \"sigma\"     : 0.3,\n",
        "              \"steps\"     : 2,\n",
        "              \"opt_mode\"  : \"American\",\n",
        "              \"opt_type\"  : \"Put\"}\n",
        "\n",
        "bin_tree_ex3 = Binomial_Tree_Pricing(**params_ex3)\n",
        "bin_tree_ex3.get_option_price(verbose=False)\n",
        "bin_tree_ex3.opt_price"
      ],
      "execution_count": 14,
      "outputs": [
        {
          "output_type": "execute_result",
          "data": {
            "text/plain": [
              "7.428401902704835"
            ]
          },
          "metadata": {
            "tags": []
          },
          "execution_count": 14
        }
      ]
    },
    {
      "cell_type": "code",
      "metadata": {
        "colab": {
          "base_uri": "https://localhost:8080/",
          "height": 316
        },
        "id": "gp_4QONddOl3",
        "outputId": "701cca93-6ff6-40dc-e944-1cb5cc110395"
      },
      "source": [
        "bin_tree_ex3.plot_graph()"
      ],
      "execution_count": 15,
      "outputs": [
        {
          "output_type": "execute_result",
          "data": {
            "text/plain": [
              "<graphviz.dot.Digraph at 0x7f1e26068828>"
            ],
            "image/svg+xml": "<?xml version=\"1.0\" encoding=\"UTF-8\" standalone=\"no\"?>\n<!DOCTYPE svg PUBLIC \"-//W3C//DTD SVG 1.1//EN\"\n \"http://www.w3.org/Graphics/SVG/1.1/DTD/svg11.dtd\">\n<!-- Generated by graphviz version 2.40.1 (20161225.0304)\n -->\n<!-- Title: tree Pages: 1 -->\n<svg width=\"346pt\" height=\"221pt\"\n viewBox=\"0.00 0.00 346.00 221.00\" xmlns=\"http://www.w3.org/2000/svg\" xmlns:xlink=\"http://www.w3.org/1999/xlink\">\n<g id=\"graph0\" class=\"graph\" transform=\"scale(1 1) rotate(0) translate(4 217)\">\n<title>tree</title>\n<polygon fill=\"#ffffff\" stroke=\"transparent\" points=\"-4,4 -4,-217 342,-217 342,4 -4,4\"/>\n<!-- node 0, 0 -->\n<g id=\"node1\" class=\"node\">\n<title>node 0, 0</title>\n<polygon fill=\"none\" stroke=\"#000000\" points=\"118,-166.5 118,-212.5 216,-212.5 216,-166.5 118,-166.5\"/>\n<text text-anchor=\"middle\" x=\"167\" y=\"-197.3\" font-family=\"Times,serif\" font-size=\"14.00\" fill=\"#000000\">Asset: 50.000</text>\n<polyline fill=\"none\" stroke=\"#000000\" points=\"118,-189.5 216,-189.5 \"/>\n<text text-anchor=\"middle\" x=\"167\" y=\"-174.3\" font-family=\"Times,serif\" font-size=\"14.00\" fill=\"#000000\">Option: 7.428</text>\n</g>\n<!-- node 0, 1 -->\n<g id=\"node2\" class=\"node\">\n<title>node 0, 1</title>\n<polygon fill=\"none\" stroke=\"#000000\" points=\"58,-83.5 58,-129.5 156,-129.5 156,-83.5 58,-83.5\"/>\n<text text-anchor=\"middle\" x=\"107\" y=\"-114.3\" font-family=\"Times,serif\" font-size=\"14.00\" fill=\"#000000\">Asset: 67.493</text>\n<polyline fill=\"none\" stroke=\"#000000\" points=\"58,-106.5 156,-106.5 \"/>\n<text text-anchor=\"middle\" x=\"107\" y=\"-91.3\" font-family=\"Times,serif\" font-size=\"14.00\" fill=\"#000000\">Option: 0.933</text>\n</g>\n<!-- node 0, 0&#45;&gt;node 0, 1 -->\n<g id=\"edge1\" class=\"edge\">\n<title>node 0, 0&#45;&gt;node 0, 1</title>\n<path fill=\"none\" stroke=\"#000000\" d=\"M150.2867,-166.3799C143.9683,-157.6394 136.6645,-147.5358 129.877,-138.1465\"/>\n<polygon fill=\"#000000\" stroke=\"#000000\" points=\"132.5268,-135.8378 123.8318,-129.784 126.8538,-139.9387 132.5268,-135.8378\"/>\n</g>\n<!-- node 1, 1 -->\n<g id=\"node3\" class=\"node\">\n<title>node 1, 1</title>\n<polygon fill=\"none\" stroke=\"#000000\" points=\"174,-83.5 174,-129.5 280,-129.5 280,-83.5 174,-83.5\"/>\n<text text-anchor=\"middle\" x=\"227\" y=\"-114.3\" font-family=\"Times,serif\" font-size=\"14.00\" fill=\"#000000\">Asset: 37.041</text>\n<polyline fill=\"none\" stroke=\"#000000\" points=\"174,-106.5 280,-106.5 \"/>\n<text text-anchor=\"middle\" x=\"227\" y=\"-91.3\" font-family=\"Times,serif\" font-size=\"14.00\" fill=\"#000000\">Option: 14.959</text>\n</g>\n<!-- node 0, 0&#45;&gt;node 1, 1 -->\n<g id=\"edge2\" class=\"edge\">\n<title>node 0, 0&#45;&gt;node 1, 1</title>\n<path fill=\"none\" stroke=\"#000000\" d=\"M183.7133,-166.3799C190.0317,-157.6394 197.3355,-147.5358 204.123,-138.1465\"/>\n<polygon fill=\"#000000\" stroke=\"#000000\" points=\"207.1462,-139.9387 210.1682,-129.784 201.4732,-135.8378 207.1462,-139.9387\"/>\n</g>\n<!-- node 0, 2 -->\n<g id=\"node4\" class=\"node\">\n<title>node 0, 2</title>\n<polygon fill=\"none\" stroke=\"#000000\" points=\"0,-.5 0,-46.5 98,-46.5 98,-.5 0,-.5\"/>\n<text text-anchor=\"middle\" x=\"49\" y=\"-31.3\" font-family=\"Times,serif\" font-size=\"14.00\" fill=\"#000000\">Asset: 91.106</text>\n<polyline fill=\"none\" stroke=\"#000000\" points=\"0,-23.5 98,-23.5 \"/>\n<text text-anchor=\"middle\" x=\"49\" y=\"-8.3\" font-family=\"Times,serif\" font-size=\"14.00\" fill=\"#000000\">Option: 0.000</text>\n</g>\n<!-- node 0, 1&#45;&gt;node 0, 2 -->\n<g id=\"edge3\" class=\"edge\">\n<title>node 0, 1&#45;&gt;node 0, 2</title>\n<path fill=\"none\" stroke=\"#000000\" d=\"M90.8438,-83.3799C84.736,-74.6394 77.6756,-64.5358 71.1144,-55.1465\"/>\n<polygon fill=\"#000000\" stroke=\"#000000\" points=\"73.8677,-52.9762 65.2708,-46.784 68.1298,-56.9858 73.8677,-52.9762\"/>\n</g>\n<!-- node 1, 2 -->\n<g id=\"node5\" class=\"node\">\n<title>node 1, 2</title>\n<polygon fill=\"none\" stroke=\"#000000\" points=\"116,-.5 116,-46.5 214,-46.5 214,-.5 116,-.5\"/>\n<text text-anchor=\"middle\" x=\"165\" y=\"-31.3\" font-family=\"Times,serif\" font-size=\"14.00\" fill=\"#000000\">Asset: 50.000</text>\n<polyline fill=\"none\" stroke=\"#000000\" points=\"116,-23.5 214,-23.5 \"/>\n<text text-anchor=\"middle\" x=\"165\" y=\"-8.3\" font-family=\"Times,serif\" font-size=\"14.00\" fill=\"#000000\">Option: 2.000</text>\n</g>\n<!-- node 0, 1&#45;&gt;node 1, 2 -->\n<g id=\"edge4\" class=\"edge\">\n<title>node 0, 1&#45;&gt;node 1, 2</title>\n<path fill=\"none\" stroke=\"#000000\" d=\"M123.1562,-83.3799C129.264,-74.6394 136.3244,-64.5358 142.8856,-55.1465\"/>\n<polygon fill=\"#000000\" stroke=\"#000000\" points=\"145.8702,-56.9858 148.7292,-46.784 140.1323,-52.9762 145.8702,-56.9858\"/>\n</g>\n<!-- node 1, 1&#45;&gt;node 1, 2 -->\n<g id=\"edge5\" class=\"edge\">\n<title>node 1, 1&#45;&gt;node 1, 2</title>\n<path fill=\"none\" stroke=\"#000000\" d=\"M209.7295,-83.3799C203.1339,-74.5502 195.4991,-64.3295 188.425,-54.8593\"/>\n<polygon fill=\"#000000\" stroke=\"#000000\" points=\"191.1815,-52.701 182.3929,-46.784 185.5734,-56.8902 191.1815,-52.701\"/>\n</g>\n<!-- node 2, 2 -->\n<g id=\"node6\" class=\"node\">\n<title>node 2, 2</title>\n<polygon fill=\"none\" stroke=\"#000000\" points=\"232,-.5 232,-46.5 338,-46.5 338,-.5 232,-.5\"/>\n<text text-anchor=\"middle\" x=\"285\" y=\"-31.3\" font-family=\"Times,serif\" font-size=\"14.00\" fill=\"#000000\">Asset: 27.441</text>\n<polyline fill=\"none\" stroke=\"#000000\" points=\"232,-23.5 338,-23.5 \"/>\n<text text-anchor=\"middle\" x=\"285\" y=\"-8.3\" font-family=\"Times,serif\" font-size=\"14.00\" fill=\"#000000\">Option: 24.559</text>\n</g>\n<!-- node 1, 1&#45;&gt;node 2, 2 -->\n<g id=\"edge6\" class=\"edge\">\n<title>node 1, 1&#45;&gt;node 2, 2</title>\n<path fill=\"none\" stroke=\"#000000\" d=\"M243.1562,-83.3799C249.264,-74.6394 256.3244,-64.5358 262.8856,-55.1465\"/>\n<polygon fill=\"#000000\" stroke=\"#000000\" points=\"265.8702,-56.9858 268.7292,-46.784 260.1323,-52.9762 265.8702,-56.9858\"/>\n</g>\n</g>\n</svg>\n"
          },
          "metadata": {
            "tags": []
          },
          "execution_count": 15
        }
      ]
    },
    {
      "cell_type": "markdown",
      "metadata": {
        "id": "ik4amb6pg9MJ"
      },
      "source": [
        "## 3.3 Tutorial\u00141 solutions"
      ]
    },
    {
      "cell_type": "markdown",
      "metadata": {
        "id": "JUDRKGqx0X_x"
      },
      "source": [
        "### Q.1"
      ]
    },
    {
      "cell_type": "markdown",
      "metadata": {
        "id": "FgyqNhyIgjdD"
      },
      "source": [
        "*Options, Futures and other Derivatives*, 10-th ed., ch.21, p.462, ex. 21.5.\n",
        "\n",
        "---\n",
        "\n",
        "Use a two-step binomial tree to price of a 5-month American put option on a stock. The stock is expected to pay dividends of $2 per share at the third month. The current stock price is \\$52, the exercise price is \\$50, the risk-free interest rate is 10% per annum. Assume that the volatility of the part of the stock price that will not be used to pay the dividends is 40% per annum. "
      ]
    },
    {
      "cell_type": "code",
      "metadata": {
        "colab": {
          "base_uri": "https://localhost:8080/"
        },
        "id": "CAfv8Ofv0XHl",
        "outputId": "7090c844-dddc-4d77-fff1-5beb139a4e44"
      },
      "source": [
        "params_q1 = {\"cur_pr\"    : 52,\n",
        "             \"strike_pr\" : 50,\n",
        "             \"r\"         : 0.1,\n",
        "             \"months\"    : 5,\n",
        "             \"steps\"     : 5,\n",
        "             \"sigma\"     : 0.4,\n",
        "             \"D\"         : 2.06,  # set the dividends per share\n",
        "             \"Div_date\"  : 3.5,   # set the ex-dividend date in months\n",
        "             \"opt_mode\"  : \"American\",\n",
        "             \"opt_type\"  : \"Put\"}\n",
        "\n",
        "\n",
        "bin_tree_q1 = Binomial_Tree_Pricing(**params_q1)\n",
        "bin_tree_q1.get_option_price()"
      ],
      "execution_count": 16,
      "outputs": [
        {
          "output_type": "stream",
          "text": [
            "Calculating the asset prices...\n",
            "Calculating the option prices...\n",
            "Succeed.\n"
          ],
          "name": "stdout"
        }
      ]
    },
    {
      "cell_type": "code",
      "metadata": {
        "colab": {
          "base_uri": "https://localhost:8080/"
        },
        "id": "CaR4XcI3iET_",
        "outputId": "5a82c88a-5a77-43cb-865e-74c7cfdacbb0"
      },
      "source": [
        "bin_tree_q1.opt_price"
      ],
      "execution_count": 17,
      "outputs": [
        {
          "output_type": "execute_result",
          "data": {
            "text/plain": [
              "4.440359507693445"
            ]
          },
          "metadata": {
            "tags": []
          },
          "execution_count": 17
        }
      ]
    },
    {
      "cell_type": "code",
      "metadata": {
        "colab": {
          "base_uri": "https://localhost:8080/",
          "height": 0
        },
        "id": "ld3lK2qgvG0S",
        "outputId": "156ed90f-234a-4761-ef14-e07b977198da"
      },
      "source": [
        "bin_tree_q1.plot_graph()"
      ],
      "execution_count": 18,
      "outputs": [
        {
          "output_type": "execute_result",
          "data": {
            "text/plain": [
              "<graphviz.dot.Digraph at 0x7f1e26068780>"
            ],
            "image/svg+xml": "<?xml version=\"1.0\" encoding=\"UTF-8\" standalone=\"no\"?>\n<!DOCTYPE svg PUBLIC \"-//W3C//DTD SVG 1.1//EN\"\n \"http://www.w3.org/Graphics/SVG/1.1/DTD/svg11.dtd\">\n<!-- Generated by graphviz version 2.40.1 (20161225.0304)\n -->\n<!-- Title: tree Pages: 1 -->\n<svg width=\"702pt\" height=\"470pt\"\n viewBox=\"0.00 0.00 702.00 470.00\" xmlns=\"http://www.w3.org/2000/svg\" xmlns:xlink=\"http://www.w3.org/1999/xlink\">\n<g id=\"graph0\" class=\"graph\" transform=\"scale(1 1) rotate(0) translate(4 466)\">\n<title>tree</title>\n<polygon fill=\"#ffffff\" stroke=\"transparent\" points=\"-4,4 -4,-466 698,-466 698,4 -4,4\"/>\n<!-- node 0, 0 -->\n<g id=\"node1\" class=\"node\">\n<title>node 0, 0</title>\n<polygon fill=\"none\" stroke=\"#000000\" points=\"290,-415.5 290,-461.5 388,-461.5 388,-415.5 290,-415.5\"/>\n<text text-anchor=\"middle\" x=\"339\" y=\"-446.3\" font-family=\"Times,serif\" font-size=\"14.00\" fill=\"#000000\">Asset: 52.000</text>\n<polyline fill=\"none\" stroke=\"#000000\" points=\"290,-438.5 388,-438.5 \"/>\n<text text-anchor=\"middle\" x=\"339\" y=\"-423.3\" font-family=\"Times,serif\" font-size=\"14.00\" fill=\"#000000\">Option: 4.440</text>\n</g>\n<!-- node 0, 1 -->\n<g id=\"node2\" class=\"node\">\n<title>node 0, 1</title>\n<polygon fill=\"none\" stroke=\"#000000\" points=\"232,-332.5 232,-378.5 330,-378.5 330,-332.5 232,-332.5\"/>\n<text text-anchor=\"middle\" x=\"281\" y=\"-363.3\" font-family=\"Times,serif\" font-size=\"14.00\" fill=\"#000000\">Asset: 58.137</text>\n<polyline fill=\"none\" stroke=\"#000000\" points=\"232,-355.5 330,-355.5 \"/>\n<text text-anchor=\"middle\" x=\"281\" y=\"-340.3\" font-family=\"Times,serif\" font-size=\"14.00\" fill=\"#000000\">Option: 2.163</text>\n</g>\n<!-- node 0, 0&#45;&gt;node 0, 1 -->\n<g id=\"edge1\" class=\"edge\">\n<title>node 0, 0&#45;&gt;node 0, 1</title>\n<path fill=\"none\" stroke=\"#000000\" d=\"M322.8438,-415.3799C316.736,-406.6394 309.6756,-396.5358 303.1144,-387.1465\"/>\n<polygon fill=\"#000000\" stroke=\"#000000\" points=\"305.8677,-384.9762 297.2708,-378.784 300.1298,-388.9858 305.8677,-384.9762\"/>\n</g>\n<!-- node 1, 1 -->\n<g id=\"node3\" class=\"node\">\n<title>node 1, 1</title>\n<polygon fill=\"none\" stroke=\"#000000\" points=\"348,-332.5 348,-378.5 446,-378.5 446,-332.5 348,-332.5\"/>\n<text text-anchor=\"middle\" x=\"397\" y=\"-363.3\" font-family=\"Times,serif\" font-size=\"14.00\" fill=\"#000000\">Asset: 46.564</text>\n<polyline fill=\"none\" stroke=\"#000000\" points=\"348,-355.5 446,-355.5 \"/>\n<text text-anchor=\"middle\" x=\"397\" y=\"-340.3\" font-family=\"Times,serif\" font-size=\"14.00\" fill=\"#000000\">Option: 6.861</text>\n</g>\n<!-- node 0, 0&#45;&gt;node 1, 1 -->\n<g id=\"edge2\" class=\"edge\">\n<title>node 0, 0&#45;&gt;node 1, 1</title>\n<path fill=\"none\" stroke=\"#000000\" d=\"M355.1562,-415.3799C361.264,-406.6394 368.3244,-396.5358 374.8856,-387.1465\"/>\n<polygon fill=\"#000000\" stroke=\"#000000\" points=\"377.8702,-388.9858 380.7292,-378.784 372.1323,-384.9762 377.8702,-388.9858\"/>\n</g>\n<!-- node 0, 2 -->\n<g id=\"node4\" class=\"node\">\n<title>node 0, 2</title>\n<polygon fill=\"none\" stroke=\"#000000\" points=\"174,-249.5 174,-295.5 272,-295.5 272,-249.5 174,-249.5\"/>\n<text text-anchor=\"middle\" x=\"223\" y=\"-280.3\" font-family=\"Times,serif\" font-size=\"14.00\" fill=\"#000000\">Asset: 65.023</text>\n<polyline fill=\"none\" stroke=\"#000000\" points=\"174,-272.5 272,-272.5 \"/>\n<text text-anchor=\"middle\" x=\"223\" y=\"-257.3\" font-family=\"Times,serif\" font-size=\"14.00\" fill=\"#000000\">Option: 0.636</text>\n</g>\n<!-- node 0, 1&#45;&gt;node 0, 2 -->\n<g id=\"edge3\" class=\"edge\">\n<title>node 0, 1&#45;&gt;node 0, 2</title>\n<path fill=\"none\" stroke=\"#000000\" d=\"M264.8438,-332.3799C258.736,-323.6394 251.6756,-313.5358 245.1144,-304.1465\"/>\n<polygon fill=\"#000000\" stroke=\"#000000\" points=\"247.8677,-301.9762 239.2708,-295.784 242.1298,-305.9858 247.8677,-301.9762\"/>\n</g>\n<!-- node 1, 2 -->\n<g id=\"node5\" class=\"node\">\n<title>node 1, 2</title>\n<polygon fill=\"none\" stroke=\"#000000\" points=\"290,-249.5 290,-295.5 388,-295.5 388,-249.5 290,-249.5\"/>\n<text text-anchor=\"middle\" x=\"339\" y=\"-280.3\" font-family=\"Times,serif\" font-size=\"14.00\" fill=\"#000000\">Asset: 52.034</text>\n<polyline fill=\"none\" stroke=\"#000000\" points=\"290,-272.5 388,-272.5 \"/>\n<text text-anchor=\"middle\" x=\"339\" y=\"-257.3\" font-family=\"Times,serif\" font-size=\"14.00\" fill=\"#000000\">Option: 3.771</text>\n</g>\n<!-- node 0, 1&#45;&gt;node 1, 2 -->\n<g id=\"edge4\" class=\"edge\">\n<title>node 0, 1&#45;&gt;node 1, 2</title>\n<path fill=\"none\" stroke=\"#000000\" d=\"M297.1562,-332.3799C303.264,-323.6394 310.3244,-313.5358 316.8856,-304.1465\"/>\n<polygon fill=\"#000000\" stroke=\"#000000\" points=\"319.8702,-305.9858 322.7292,-295.784 314.1323,-301.9762 319.8702,-305.9858\"/>\n</g>\n<!-- node 1, 1&#45;&gt;node 1, 2 -->\n<g id=\"edge23\" class=\"edge\">\n<title>node 1, 1&#45;&gt;node 1, 2</title>\n<path fill=\"none\" stroke=\"#000000\" d=\"M380.8438,-332.3799C374.736,-323.6394 367.6756,-313.5358 361.1144,-304.1465\"/>\n<polygon fill=\"#000000\" stroke=\"#000000\" points=\"363.8677,-301.9762 355.2708,-295.784 358.1298,-305.9858 363.8677,-301.9762\"/>\n</g>\n<!-- node 2, 2 -->\n<g id=\"node18\" class=\"node\">\n<title>node 2, 2</title>\n<polygon fill=\"none\" stroke=\"#000000\" points=\"406,-249.5 406,-295.5 512,-295.5 512,-249.5 406,-249.5\"/>\n<text text-anchor=\"middle\" x=\"459\" y=\"-280.3\" font-family=\"Times,serif\" font-size=\"14.00\" fill=\"#000000\">Asset: 41.723</text>\n<polyline fill=\"none\" stroke=\"#000000\" points=\"406,-272.5 512,-272.5 \"/>\n<text text-anchor=\"middle\" x=\"459\" y=\"-257.3\" font-family=\"Times,serif\" font-size=\"14.00\" fill=\"#000000\">Option: 10.159</text>\n</g>\n<!-- node 1, 1&#45;&gt;node 2, 2 -->\n<g id=\"edge24\" class=\"edge\">\n<title>node 1, 1&#45;&gt;node 2, 2</title>\n<path fill=\"none\" stroke=\"#000000\" d=\"M414.2705,-332.3799C420.8661,-323.5502 428.5009,-313.3295 435.575,-303.8593\"/>\n<polygon fill=\"#000000\" stroke=\"#000000\" points=\"438.4266,-305.8902 441.6071,-295.784 432.8185,-301.701 438.4266,-305.8902\"/>\n</g>\n<!-- node 0, 3 -->\n<g id=\"node6\" class=\"node\">\n<title>node 0, 3</title>\n<polygon fill=\"none\" stroke=\"#000000\" points=\"116,-166.5 116,-212.5 214,-212.5 214,-166.5 116,-166.5\"/>\n<text text-anchor=\"middle\" x=\"165\" y=\"-197.3\" font-family=\"Times,serif\" font-size=\"14.00\" fill=\"#000000\">Asset: 72.749</text>\n<polyline fill=\"none\" stroke=\"#000000\" points=\"116,-189.5 214,-189.5 \"/>\n<text text-anchor=\"middle\" x=\"165\" y=\"-174.3\" font-family=\"Times,serif\" font-size=\"14.00\" fill=\"#000000\">Option: 0.000</text>\n</g>\n<!-- node 0, 2&#45;&gt;node 0, 3 -->\n<g id=\"edge5\" class=\"edge\">\n<title>node 0, 2&#45;&gt;node 0, 3</title>\n<path fill=\"none\" stroke=\"#000000\" d=\"M206.8438,-249.3799C200.736,-240.6394 193.6756,-230.5358 187.1144,-221.1465\"/>\n<polygon fill=\"#000000\" stroke=\"#000000\" points=\"189.8677,-218.9762 181.2708,-212.784 184.1298,-222.9858 189.8677,-218.9762\"/>\n</g>\n<!-- node 1, 3 -->\n<g id=\"node7\" class=\"node\">\n<title>node 1, 3</title>\n<polygon fill=\"none\" stroke=\"#000000\" points=\"232,-166.5 232,-212.5 330,-212.5 330,-166.5 232,-166.5\"/>\n<text text-anchor=\"middle\" x=\"281\" y=\"-197.3\" font-family=\"Times,serif\" font-size=\"14.00\" fill=\"#000000\">Asset: 58.171</text>\n<polyline fill=\"none\" stroke=\"#000000\" points=\"232,-189.5 330,-189.5 \"/>\n<text text-anchor=\"middle\" x=\"281\" y=\"-174.3\" font-family=\"Times,serif\" font-size=\"14.00\" fill=\"#000000\">Option: 1.302</text>\n</g>\n<!-- node 0, 2&#45;&gt;node 1, 3 -->\n<g id=\"edge6\" class=\"edge\">\n<title>node 0, 2&#45;&gt;node 1, 3</title>\n<path fill=\"none\" stroke=\"#000000\" d=\"M239.1562,-249.3799C245.264,-240.6394 252.3244,-230.5358 258.8856,-221.1465\"/>\n<polygon fill=\"#000000\" stroke=\"#000000\" points=\"261.8702,-222.9858 264.7292,-212.784 256.1323,-218.9762 261.8702,-222.9858\"/>\n</g>\n<!-- node 1, 2&#45;&gt;node 1, 3 -->\n<g id=\"edge17\" class=\"edge\">\n<title>node 1, 2&#45;&gt;node 1, 3</title>\n<path fill=\"none\" stroke=\"#000000\" d=\"M322.8438,-249.3799C316.736,-240.6394 309.6756,-230.5358 303.1144,-221.1465\"/>\n<polygon fill=\"#000000\" stroke=\"#000000\" points=\"305.8677,-218.9762 297.2708,-212.784 300.1298,-222.9858 305.8677,-218.9762\"/>\n</g>\n<!-- node 2, 3 -->\n<g id=\"node15\" class=\"node\">\n<title>node 2, 3</title>\n<polygon fill=\"none\" stroke=\"#000000\" points=\"348,-166.5 348,-212.5 446,-212.5 446,-166.5 348,-166.5\"/>\n<text text-anchor=\"middle\" x=\"397\" y=\"-197.3\" font-family=\"Times,serif\" font-size=\"14.00\" fill=\"#000000\">Asset: 46.598</text>\n<polyline fill=\"none\" stroke=\"#000000\" points=\"348,-189.5 446,-189.5 \"/>\n<text text-anchor=\"middle\" x=\"397\" y=\"-174.3\" font-family=\"Times,serif\" font-size=\"14.00\" fill=\"#000000\">Option: 6.379</text>\n</g>\n<!-- node 1, 2&#45;&gt;node 2, 3 -->\n<g id=\"edge18\" class=\"edge\">\n<title>node 1, 2&#45;&gt;node 2, 3</title>\n<path fill=\"none\" stroke=\"#000000\" d=\"M355.1562,-249.3799C361.264,-240.6394 368.3244,-230.5358 374.8856,-221.1465\"/>\n<polygon fill=\"#000000\" stroke=\"#000000\" points=\"377.8702,-222.9858 380.7292,-212.784 372.1323,-218.9762 377.8702,-222.9858\"/>\n</g>\n<!-- node 0, 4 -->\n<g id=\"node8\" class=\"node\">\n<title>node 0, 4</title>\n<polygon fill=\"none\" stroke=\"#000000\" points=\"58,-83.5 58,-129.5 156,-129.5 156,-83.5 58,-83.5\"/>\n<text text-anchor=\"middle\" x=\"107\" y=\"-114.3\" font-family=\"Times,serif\" font-size=\"14.00\" fill=\"#000000\">Asset: 79.352</text>\n<polyline fill=\"none\" stroke=\"#000000\" points=\"58,-106.5 156,-106.5 \"/>\n<text text-anchor=\"middle\" x=\"107\" y=\"-91.3\" font-family=\"Times,serif\" font-size=\"14.00\" fill=\"#000000\">Option: 0.000</text>\n</g>\n<!-- node 0, 3&#45;&gt;node 0, 4 -->\n<g id=\"edge7\" class=\"edge\">\n<title>node 0, 3&#45;&gt;node 0, 4</title>\n<path fill=\"none\" stroke=\"#000000\" d=\"M148.8438,-166.3799C142.736,-157.6394 135.6756,-147.5358 129.1144,-138.1465\"/>\n<polygon fill=\"#000000\" stroke=\"#000000\" points=\"131.8677,-135.9762 123.2708,-129.784 126.1298,-139.9858 131.8677,-135.9762\"/>\n</g>\n<!-- node 1, 4 -->\n<g id=\"node9\" class=\"node\">\n<title>node 1, 4</title>\n<polygon fill=\"none\" stroke=\"#000000\" points=\"174,-83.5 174,-129.5 272,-129.5 272,-83.5 174,-83.5\"/>\n<text text-anchor=\"middle\" x=\"223\" y=\"-114.3\" font-family=\"Times,serif\" font-size=\"14.00\" fill=\"#000000\">Asset: 62.988</text>\n<polyline fill=\"none\" stroke=\"#000000\" points=\"174,-106.5 272,-106.5 \"/>\n<text text-anchor=\"middle\" x=\"223\" y=\"-91.3\" font-family=\"Times,serif\" font-size=\"14.00\" fill=\"#000000\">Option: 0.000</text>\n</g>\n<!-- node 0, 3&#45;&gt;node 1, 4 -->\n<g id=\"edge8\" class=\"edge\">\n<title>node 0, 3&#45;&gt;node 1, 4</title>\n<path fill=\"none\" stroke=\"#000000\" d=\"M181.1562,-166.3799C187.264,-157.6394 194.3244,-147.5358 200.8856,-138.1465\"/>\n<polygon fill=\"#000000\" stroke=\"#000000\" points=\"203.8702,-139.9858 206.7292,-129.784 198.1323,-135.9762 203.8702,-139.9858\"/>\n</g>\n<!-- node 1, 3&#45;&gt;node 1, 4 -->\n<g id=\"edge13\" class=\"edge\">\n<title>node 1, 3&#45;&gt;node 1, 4</title>\n<path fill=\"none\" stroke=\"#000000\" d=\"M264.8438,-166.3799C258.736,-157.6394 251.6756,-147.5358 245.1144,-138.1465\"/>\n<polygon fill=\"#000000\" stroke=\"#000000\" points=\"247.8677,-135.9762 239.2708,-129.784 242.1298,-139.9858 247.8677,-135.9762\"/>\n</g>\n<!-- node 2, 4 -->\n<g id=\"node13\" class=\"node\">\n<title>node 2, 4</title>\n<polygon fill=\"none\" stroke=\"#000000\" points=\"290,-83.5 290,-129.5 388,-129.5 388,-83.5 290,-83.5\"/>\n<text text-anchor=\"middle\" x=\"339\" y=\"-114.3\" font-family=\"Times,serif\" font-size=\"14.00\" fill=\"#000000\">Asset: 49.999</text>\n<polyline fill=\"none\" stroke=\"#000000\" points=\"290,-106.5 388,-106.5 \"/>\n<text text-anchor=\"middle\" x=\"339\" y=\"-91.3\" font-family=\"Times,serif\" font-size=\"14.00\" fill=\"#000000\">Option: 2.664</text>\n</g>\n<!-- node 1, 3&#45;&gt;node 2, 4 -->\n<g id=\"edge14\" class=\"edge\">\n<title>node 1, 3&#45;&gt;node 2, 4</title>\n<path fill=\"none\" stroke=\"#000000\" d=\"M297.1562,-166.3799C303.264,-157.6394 310.3244,-147.5358 316.8856,-138.1465\"/>\n<polygon fill=\"#000000\" stroke=\"#000000\" points=\"319.8702,-139.9858 322.7292,-129.784 314.1323,-135.9762 319.8702,-139.9858\"/>\n</g>\n<!-- node 0, 5 -->\n<g id=\"node10\" class=\"node\">\n<title>node 0, 5</title>\n<polygon fill=\"none\" stroke=\"#000000\" points=\"0,-.5 0,-46.5 98,-46.5 98,-.5 0,-.5\"/>\n<text text-anchor=\"middle\" x=\"49\" y=\"-31.3\" font-family=\"Times,serif\" font-size=\"14.00\" fill=\"#000000\">Asset: 89.064</text>\n<polyline fill=\"none\" stroke=\"#000000\" points=\"0,-23.5 98,-23.5 \"/>\n<text text-anchor=\"middle\" x=\"49\" y=\"-8.3\" font-family=\"Times,serif\" font-size=\"14.00\" fill=\"#000000\">Option: 0.000</text>\n</g>\n<!-- node 0, 4&#45;&gt;node 0, 5 -->\n<g id=\"edge9\" class=\"edge\">\n<title>node 0, 4&#45;&gt;node 0, 5</title>\n<path fill=\"none\" stroke=\"#000000\" d=\"M90.8438,-83.3799C84.736,-74.6394 77.6756,-64.5358 71.1144,-55.1465\"/>\n<polygon fill=\"#000000\" stroke=\"#000000\" points=\"73.8677,-52.9762 65.2708,-46.784 68.1298,-56.9858 73.8677,-52.9762\"/>\n</g>\n<!-- node 1, 5 -->\n<g id=\"node11\" class=\"node\">\n<title>node 1, 5</title>\n<polygon fill=\"none\" stroke=\"#000000\" points=\"116,-.5 116,-46.5 214,-46.5 214,-.5 116,-.5\"/>\n<text text-anchor=\"middle\" x=\"165\" y=\"-31.3\" font-family=\"Times,serif\" font-size=\"14.00\" fill=\"#000000\">Asset: 70.698</text>\n<polyline fill=\"none\" stroke=\"#000000\" points=\"116,-23.5 214,-23.5 \"/>\n<text text-anchor=\"middle\" x=\"165\" y=\"-8.3\" font-family=\"Times,serif\" font-size=\"14.00\" fill=\"#000000\">Option: 0.000</text>\n</g>\n<!-- node 0, 4&#45;&gt;node 1, 5 -->\n<g id=\"edge10\" class=\"edge\">\n<title>node 0, 4&#45;&gt;node 1, 5</title>\n<path fill=\"none\" stroke=\"#000000\" d=\"M123.1562,-83.3799C129.264,-74.6394 136.3244,-64.5358 142.8856,-55.1465\"/>\n<polygon fill=\"#000000\" stroke=\"#000000\" points=\"145.8702,-56.9858 148.7292,-46.784 140.1323,-52.9762 145.8702,-56.9858\"/>\n</g>\n<!-- node 1, 4&#45;&gt;node 1, 5 -->\n<g id=\"edge11\" class=\"edge\">\n<title>node 1, 4&#45;&gt;node 1, 5</title>\n<path fill=\"none\" stroke=\"#000000\" d=\"M206.8438,-83.3799C200.736,-74.6394 193.6756,-64.5358 187.1144,-55.1465\"/>\n<polygon fill=\"#000000\" stroke=\"#000000\" points=\"189.8677,-52.9762 181.2708,-46.784 184.1298,-56.9858 189.8677,-52.9762\"/>\n</g>\n<!-- node 2, 5 -->\n<g id=\"node12\" class=\"node\">\n<title>node 2, 5</title>\n<polygon fill=\"none\" stroke=\"#000000\" points=\"232,-.5 232,-46.5 330,-46.5 330,-.5 232,-.5\"/>\n<text text-anchor=\"middle\" x=\"281\" y=\"-31.3\" font-family=\"Times,serif\" font-size=\"14.00\" fill=\"#000000\">Asset: 56.119</text>\n<polyline fill=\"none\" stroke=\"#000000\" points=\"232,-23.5 330,-23.5 \"/>\n<text text-anchor=\"middle\" x=\"281\" y=\"-8.3\" font-family=\"Times,serif\" font-size=\"14.00\" fill=\"#000000\">Option: 0.000</text>\n</g>\n<!-- node 1, 4&#45;&gt;node 2, 5 -->\n<g id=\"edge12\" class=\"edge\">\n<title>node 1, 4&#45;&gt;node 2, 5</title>\n<path fill=\"none\" stroke=\"#000000\" d=\"M239.1562,-83.3799C245.264,-74.6394 252.3244,-64.5358 258.8856,-55.1465\"/>\n<polygon fill=\"#000000\" stroke=\"#000000\" points=\"261.8702,-56.9858 264.7292,-46.784 256.1323,-52.9762 261.8702,-56.9858\"/>\n</g>\n<!-- node 2, 4&#45;&gt;node 2, 5 -->\n<g id=\"edge15\" class=\"edge\">\n<title>node 2, 4&#45;&gt;node 2, 5</title>\n<path fill=\"none\" stroke=\"#000000\" d=\"M322.8438,-83.3799C316.736,-74.6394 309.6756,-64.5358 303.1144,-55.1465\"/>\n<polygon fill=\"#000000\" stroke=\"#000000\" points=\"305.8677,-52.9762 297.2708,-46.784 300.1298,-56.9858 305.8677,-52.9762\"/>\n</g>\n<!-- node 3, 5 -->\n<g id=\"node14\" class=\"node\">\n<title>node 3, 5</title>\n<polygon fill=\"none\" stroke=\"#000000\" points=\"348,-.5 348,-46.5 446,-46.5 446,-.5 348,-.5\"/>\n<text text-anchor=\"middle\" x=\"397\" y=\"-31.3\" font-family=\"Times,serif\" font-size=\"14.00\" fill=\"#000000\">Asset: 44.547</text>\n<polyline fill=\"none\" stroke=\"#000000\" points=\"348,-23.5 446,-23.5 \"/>\n<text text-anchor=\"middle\" x=\"397\" y=\"-8.3\" font-family=\"Times,serif\" font-size=\"14.00\" fill=\"#000000\">Option: 5.453</text>\n</g>\n<!-- node 2, 4&#45;&gt;node 3, 5 -->\n<g id=\"edge16\" class=\"edge\">\n<title>node 2, 4&#45;&gt;node 3, 5</title>\n<path fill=\"none\" stroke=\"#000000\" d=\"M355.1562,-83.3799C361.264,-74.6394 368.3244,-64.5358 374.8856,-55.1465\"/>\n<polygon fill=\"#000000\" stroke=\"#000000\" points=\"377.8702,-56.9858 380.7292,-46.784 372.1323,-52.9762 377.8702,-56.9858\"/>\n</g>\n<!-- node 2, 3&#45;&gt;node 2, 4 -->\n<g id=\"edge19\" class=\"edge\">\n<title>node 2, 3&#45;&gt;node 2, 4</title>\n<path fill=\"none\" stroke=\"#000000\" d=\"M380.8438,-166.3799C374.736,-157.6394 367.6756,-147.5358 361.1144,-138.1465\"/>\n<polygon fill=\"#000000\" stroke=\"#000000\" points=\"363.8677,-135.9762 355.2708,-129.784 358.1298,-139.9858 363.8677,-135.9762\"/>\n</g>\n<!-- node 3, 4 -->\n<g id=\"node16\" class=\"node\">\n<title>node 3, 4</title>\n<polygon fill=\"none\" stroke=\"#000000\" points=\"406.5,-83.5 406.5,-129.5 511.5,-129.5 511.5,-83.5 406.5,-83.5\"/>\n<text text-anchor=\"middle\" x=\"459\" y=\"-114.3\" font-family=\"Times,serif\" font-size=\"14.00\" fill=\"#000000\">Asset: 39.689</text>\n<polyline fill=\"none\" stroke=\"#000000\" points=\"406.5,-106.5 511.5,-106.5 \"/>\n<text text-anchor=\"middle\" x=\"459\" y=\"-91.3\" font-family=\"Times,serif\" font-size=\"14.00\" fill=\"#000000\">Option: 10.311</text>\n</g>\n<!-- node 2, 3&#45;&gt;node 3, 4 -->\n<g id=\"edge20\" class=\"edge\">\n<title>node 2, 3&#45;&gt;node 3, 4</title>\n<path fill=\"none\" stroke=\"#000000\" d=\"M414.2705,-166.3799C420.8661,-157.5502 428.5009,-147.3295 435.575,-137.8593\"/>\n<polygon fill=\"#000000\" stroke=\"#000000\" points=\"438.4266,-139.8902 441.6071,-129.784 432.8185,-135.701 438.4266,-139.8902\"/>\n</g>\n<!-- node 3, 4&#45;&gt;node 3, 5 -->\n<g id=\"edge21\" class=\"edge\">\n<title>node 3, 4&#45;&gt;node 3, 5</title>\n<path fill=\"none\" stroke=\"#000000\" d=\"M441.7295,-83.3799C435.1339,-74.5502 427.4991,-64.3295 420.425,-54.8593\"/>\n<polygon fill=\"#000000\" stroke=\"#000000\" points=\"423.1815,-52.701 414.3929,-46.784 417.5734,-56.8902 423.1815,-52.701\"/>\n</g>\n<!-- node 4, 5 -->\n<g id=\"node17\" class=\"node\">\n<title>node 4, 5</title>\n<polygon fill=\"none\" stroke=\"#000000\" points=\"464,-.5 464,-46.5 570,-46.5 570,-.5 464,-.5\"/>\n<text text-anchor=\"middle\" x=\"517\" y=\"-31.3\" font-family=\"Times,serif\" font-size=\"14.00\" fill=\"#000000\">Asset: 35.361</text>\n<polyline fill=\"none\" stroke=\"#000000\" points=\"464,-23.5 570,-23.5 \"/>\n<text text-anchor=\"middle\" x=\"517\" y=\"-8.3\" font-family=\"Times,serif\" font-size=\"14.00\" fill=\"#000000\">Option: 14.639</text>\n</g>\n<!-- node 3, 4&#45;&gt;node 4, 5 -->\n<g id=\"edge22\" class=\"edge\">\n<title>node 3, 4&#45;&gt;node 4, 5</title>\n<path fill=\"none\" stroke=\"#000000\" d=\"M475.1562,-83.3799C481.264,-74.6394 488.3244,-64.5358 494.8856,-55.1465\"/>\n<polygon fill=\"#000000\" stroke=\"#000000\" points=\"497.8702,-56.9858 500.7292,-46.784 492.1323,-52.9762 497.8702,-56.9858\"/>\n</g>\n<!-- node 2, 2&#45;&gt;node 2, 3 -->\n<g id=\"edge25\" class=\"edge\">\n<title>node 2, 2&#45;&gt;node 2, 3</title>\n<path fill=\"none\" stroke=\"#000000\" d=\"M441.7295,-249.3799C435.1339,-240.5502 427.4991,-230.3295 420.425,-220.8593\"/>\n<polygon fill=\"#000000\" stroke=\"#000000\" points=\"423.1815,-218.701 414.3929,-212.784 417.5734,-222.8902 423.1815,-218.701\"/>\n</g>\n<!-- node 3, 3 -->\n<g id=\"node19\" class=\"node\">\n<title>node 3, 3</title>\n<polygon fill=\"none\" stroke=\"#000000\" points=\"464,-166.5 464,-212.5 570,-212.5 570,-166.5 464,-166.5\"/>\n<text text-anchor=\"middle\" x=\"517\" y=\"-197.3\" font-family=\"Times,serif\" font-size=\"14.00\" fill=\"#000000\">Asset: 37.412</text>\n<polyline fill=\"none\" stroke=\"#000000\" points=\"464,-189.5 570,-189.5 \"/>\n<text text-anchor=\"middle\" x=\"517\" y=\"-174.3\" font-family=\"Times,serif\" font-size=\"14.00\" fill=\"#000000\">Option: 14.225</text>\n</g>\n<!-- node 2, 2&#45;&gt;node 3, 3 -->\n<g id=\"edge26\" class=\"edge\">\n<title>node 2, 2&#45;&gt;node 3, 3</title>\n<path fill=\"none\" stroke=\"#000000\" d=\"M475.1562,-249.3799C481.264,-240.6394 488.3244,-230.5358 494.8856,-221.1465\"/>\n<polygon fill=\"#000000\" stroke=\"#000000\" points=\"497.8702,-222.9858 500.7292,-212.784 492.1323,-218.9762 497.8702,-222.9858\"/>\n</g>\n<!-- node 3, 3&#45;&gt;node 3, 4 -->\n<g id=\"edge27\" class=\"edge\">\n<title>node 3, 3&#45;&gt;node 3, 4</title>\n<path fill=\"none\" stroke=\"#000000\" d=\"M500.8438,-166.3799C494.736,-157.6394 487.6756,-147.5358 481.1144,-138.1465\"/>\n<polygon fill=\"#000000\" stroke=\"#000000\" points=\"483.8677,-135.9762 475.2708,-129.784 478.1298,-139.9858 483.8677,-135.9762\"/>\n</g>\n<!-- node 4, 4 -->\n<g id=\"node20\" class=\"node\">\n<title>node 4, 4</title>\n<polygon fill=\"none\" stroke=\"#000000\" points=\"530,-83.5 530,-129.5 636,-129.5 636,-83.5 530,-83.5\"/>\n<text text-anchor=\"middle\" x=\"583\" y=\"-114.3\" font-family=\"Times,serif\" font-size=\"14.00\" fill=\"#000000\">Asset: 31.504</text>\n<polyline fill=\"none\" stroke=\"#000000\" points=\"530,-106.5 636,-106.5 \"/>\n<text text-anchor=\"middle\" x=\"583\" y=\"-91.3\" font-family=\"Times,serif\" font-size=\"14.00\" fill=\"#000000\">Option: 18.496</text>\n</g>\n<!-- node 3, 3&#45;&gt;node 4, 4 -->\n<g id=\"edge28\" class=\"edge\">\n<title>node 3, 3&#45;&gt;node 4, 4</title>\n<path fill=\"none\" stroke=\"#000000\" d=\"M535.3847,-166.3799C542.4058,-157.5502 550.5332,-147.3295 558.0637,-137.8593\"/>\n<polygon fill=\"#000000\" stroke=\"#000000\" points=\"561.0005,-139.7895 564.485,-129.784 555.5216,-135.4327 561.0005,-139.7895\"/>\n</g>\n<!-- node 4, 4&#45;&gt;node 4, 5 -->\n<g id=\"edge29\" class=\"edge\">\n<title>node 4, 4&#45;&gt;node 4, 5</title>\n<path fill=\"none\" stroke=\"#000000\" d=\"M564.6153,-83.3799C557.5942,-74.5502 549.4668,-64.3295 541.9363,-54.8593\"/>\n<polygon fill=\"#000000\" stroke=\"#000000\" points=\"544.4784,-52.4327 535.515,-46.784 538.9995,-56.7895 544.4784,-52.4327\"/>\n</g>\n<!-- node 5, 5 -->\n<g id=\"node21\" class=\"node\">\n<title>node 5, 5</title>\n<polygon fill=\"none\" stroke=\"#000000\" points=\"588,-.5 588,-46.5 694,-46.5 694,-.5 588,-.5\"/>\n<text text-anchor=\"middle\" x=\"641\" y=\"-31.3\" font-family=\"Times,serif\" font-size=\"14.00\" fill=\"#000000\">Asset: 28.069</text>\n<polyline fill=\"none\" stroke=\"#000000\" points=\"588,-23.5 694,-23.5 \"/>\n<text text-anchor=\"middle\" x=\"641\" y=\"-8.3\" font-family=\"Times,serif\" font-size=\"14.00\" fill=\"#000000\">Option: 21.931</text>\n</g>\n<!-- node 4, 4&#45;&gt;node 5, 5 -->\n<g id=\"edge30\" class=\"edge\">\n<title>node 4, 4&#45;&gt;node 5, 5</title>\n<path fill=\"none\" stroke=\"#000000\" d=\"M599.1562,-83.3799C605.264,-74.6394 612.3244,-64.5358 618.8856,-55.1465\"/>\n<polygon fill=\"#000000\" stroke=\"#000000\" points=\"621.8702,-56.9858 624.7292,-46.784 616.1323,-52.9762 621.8702,-56.9858\"/>\n</g>\n</g>\n</svg>\n"
          },
          "metadata": {
            "tags": []
          },
          "execution_count": 18
        }
      ]
    },
    {
      "cell_type": "markdown",
      "metadata": {
        "id": "3Y2_izhShPIa"
      },
      "source": [
        "### Q.2"
      ]
    },
    {
      "cell_type": "markdown",
      "metadata": {
        "id": "yzcKXr02i2g4"
      },
      "source": [
        "*Options, Futures and other Derivatives*, 10-th ed., ch.13, p.289, ex. 13.1.\n",
        "\n",
        "---\n",
        "\n",
        "A stock index is currently 810 and has a volatility of 20% and a dividend yield of 2%. The riskfree rate is 5%. Value a European 6-month call option with a strike price of 800 using a two-step tree."
      ]
    },
    {
      "cell_type": "code",
      "metadata": {
        "colab": {
          "base_uri": "https://localhost:8080/"
        },
        "id": "TpfPNtQXnikp",
        "outputId": "a08f34d6-3f11-420a-a933-88d5b8a45399"
      },
      "source": [
        "params_q2 = {\"cur_pr\"    : 810,\n",
        "             \"strike_pr\" : 800,\n",
        "             \"r\"         : 0.05,\n",
        "             \"r2\"        : 0.02, # set the continuous dividend yield\n",
        "             \"months\"    : 6,\n",
        "             \"steps\"     : 2,\n",
        "             \"sigma\"     : 0.2}\n",
        "\n",
        "bin_tree_q2 = Binomial_Tree_Pricing(**params_q2)\n",
        "bin_tree_q2.get_option_price(verbose=False)\n",
        "bin_tree_q2.opt_price"
      ],
      "execution_count": 19,
      "outputs": [
        {
          "output_type": "execute_result",
          "data": {
            "text/plain": [
              "53.39471637496134"
            ]
          },
          "metadata": {
            "tags": []
          },
          "execution_count": 19
        }
      ]
    },
    {
      "cell_type": "code",
      "metadata": {
        "colab": {
          "base_uri": "https://localhost:8080/",
          "height": 0
        },
        "id": "ohLMlesjlCs4",
        "outputId": "7dc2a40b-750e-4cd9-ddb7-a699622ad117"
      },
      "source": [
        "bin_tree_q2.plot_graph()"
      ],
      "execution_count": 20,
      "outputs": [
        {
          "output_type": "execute_result",
          "data": {
            "text/plain": [
              "<graphviz.dot.Digraph at 0x7f1e26068ac8>"
            ],
            "image/svg+xml": "<?xml version=\"1.0\" encoding=\"UTF-8\" standalone=\"no\"?>\n<!DOCTYPE svg PUBLIC \"-//W3C//DTD SVG 1.1//EN\"\n \"http://www.w3.org/Graphics/SVG/1.1/DTD/svg11.dtd\">\n<!-- Generated by graphviz version 2.40.1 (20161225.0304)\n -->\n<!-- Title: tree Pages: 1 -->\n<svg width=\"368pt\" height=\"221pt\"\n viewBox=\"0.00 0.00 367.50 221.00\" xmlns=\"http://www.w3.org/2000/svg\" xmlns:xlink=\"http://www.w3.org/1999/xlink\">\n<g id=\"graph0\" class=\"graph\" transform=\"scale(1 1) rotate(0) translate(4 217)\">\n<title>tree</title>\n<polygon fill=\"#ffffff\" stroke=\"transparent\" points=\"-4,4 -4,-217 363.5,-217 363.5,4 -4,4\"/>\n<!-- node 0, 0 -->\n<g id=\"node1\" class=\"node\">\n<title>node 0, 0</title>\n<polygon fill=\"none\" stroke=\"#000000\" points=\"128.5,-166.5 128.5,-212.5 234.5,-212.5 234.5,-166.5 128.5,-166.5\"/>\n<text text-anchor=\"middle\" x=\"181.5\" y=\"-197.3\" font-family=\"Times,serif\" font-size=\"14.00\" fill=\"#000000\">Asset: 810.000</text>\n<polyline fill=\"none\" stroke=\"#000000\" points=\"128.5,-189.5 234.5,-189.5 \"/>\n<text text-anchor=\"middle\" x=\"181.5\" y=\"-174.3\" font-family=\"Times,serif\" font-size=\"14.00\" fill=\"#000000\">Option: 53.395</text>\n</g>\n<!-- node 0, 1 -->\n<g id=\"node2\" class=\"node\">\n<title>node 0, 1</title>\n<polygon fill=\"none\" stroke=\"#000000\" points=\"62,-83.5 62,-129.5 175,-129.5 175,-83.5 62,-83.5\"/>\n<text text-anchor=\"middle\" x=\"118.5\" y=\"-114.3\" font-family=\"Times,serif\" font-size=\"14.00\" fill=\"#000000\">Asset: 895.188</text>\n<polyline fill=\"none\" stroke=\"#000000\" points=\"62,-106.5 175,-106.5 \"/>\n<text text-anchor=\"middle\" x=\"118.5\" y=\"-91.3\" font-family=\"Times,serif\" font-size=\"14.00\" fill=\"#000000\">Option: 100.661</text>\n</g>\n<!-- node 0, 0&#45;&gt;node 0, 1 -->\n<g id=\"edge1\" class=\"edge\">\n<title>node 0, 0&#45;&gt;node 0, 1</title>\n<path fill=\"none\" stroke=\"#000000\" d=\"M163.951,-166.3799C157.249,-157.5502 149.4911,-147.3295 142.3028,-137.8593\"/>\n<polygon fill=\"#000000\" stroke=\"#000000\" points=\"145.0073,-135.6332 136.1734,-129.784 139.4315,-139.8654 145.0073,-135.6332\"/>\n</g>\n<!-- node 1, 1 -->\n<g id=\"node3\" class=\"node\">\n<title>node 1, 1</title>\n<polygon fill=\"none\" stroke=\"#000000\" points=\"193.5,-83.5 193.5,-129.5 297.5,-129.5 297.5,-83.5 193.5,-83.5\"/>\n<text text-anchor=\"middle\" x=\"245.5\" y=\"-114.3\" font-family=\"Times,serif\" font-size=\"14.00\" fill=\"#000000\">Asset: 732.918</text>\n<polyline fill=\"none\" stroke=\"#000000\" points=\"193.5,-106.5 297.5,-106.5 \"/>\n<text text-anchor=\"middle\" x=\"245.5\" y=\"-91.3\" font-family=\"Times,serif\" font-size=\"14.00\" fill=\"#000000\">Option: 5.062</text>\n</g>\n<!-- node 0, 0&#45;&gt;node 1, 1 -->\n<g id=\"edge2\" class=\"edge\">\n<title>node 0, 0&#45;&gt;node 1, 1</title>\n<path fill=\"none\" stroke=\"#000000\" d=\"M199.3276,-166.3799C206.136,-157.5502 214.017,-147.3295 221.3193,-137.8593\"/>\n<polygon fill=\"#000000\" stroke=\"#000000\" points=\"224.2114,-139.8404 227.5461,-129.784 218.668,-135.5659 224.2114,-139.8404\"/>\n</g>\n<!-- node 0, 2 -->\n<g id=\"node4\" class=\"node\">\n<title>node 0, 2</title>\n<polygon fill=\"none\" stroke=\"#000000\" points=\"0,-.5 0,-46.5 113,-46.5 113,-.5 0,-.5\"/>\n<text text-anchor=\"middle\" x=\"56.5\" y=\"-31.3\" font-family=\"Times,serif\" font-size=\"14.00\" fill=\"#000000\">Asset: 989.336</text>\n<polyline fill=\"none\" stroke=\"#000000\" points=\"0,-23.5 113,-23.5 \"/>\n<text text-anchor=\"middle\" x=\"56.5\" y=\"-8.3\" font-family=\"Times,serif\" font-size=\"14.00\" fill=\"#000000\">Option: 189.336</text>\n</g>\n<!-- node 0, 1&#45;&gt;node 0, 2 -->\n<g id=\"edge3\" class=\"edge\">\n<title>node 0, 1&#45;&gt;node 0, 2</title>\n<path fill=\"none\" stroke=\"#000000\" d=\"M101.2295,-83.3799C94.6339,-74.5502 86.9991,-64.3295 79.925,-54.8593\"/>\n<polygon fill=\"#000000\" stroke=\"#000000\" points=\"82.6815,-52.701 73.8929,-46.784 77.0734,-56.8902 82.6815,-52.701\"/>\n</g>\n<!-- node 1, 2 -->\n<g id=\"node5\" class=\"node\">\n<title>node 1, 2</title>\n<polygon fill=\"none\" stroke=\"#000000\" points=\"131.5,-.5 131.5,-46.5 237.5,-46.5 237.5,-.5 131.5,-.5\"/>\n<text text-anchor=\"middle\" x=\"184.5\" y=\"-31.3\" font-family=\"Times,serif\" font-size=\"14.00\" fill=\"#000000\">Asset: 810.000</text>\n<polyline fill=\"none\" stroke=\"#000000\" points=\"131.5,-23.5 237.5,-23.5 \"/>\n<text text-anchor=\"middle\" x=\"184.5\" y=\"-8.3\" font-family=\"Times,serif\" font-size=\"14.00\" fill=\"#000000\">Option: 10.000</text>\n</g>\n<!-- node 0, 1&#45;&gt;node 1, 2 -->\n<g id=\"edge4\" class=\"edge\">\n<title>node 0, 1&#45;&gt;node 1, 2</title>\n<path fill=\"none\" stroke=\"#000000\" d=\"M136.8847,-83.3799C143.9058,-74.5502 152.0332,-64.3295 159.5637,-54.8593\"/>\n<polygon fill=\"#000000\" stroke=\"#000000\" points=\"162.5005,-56.7895 165.985,-46.784 157.0216,-52.4327 162.5005,-56.7895\"/>\n</g>\n<!-- node 1, 1&#45;&gt;node 1, 2 -->\n<g id=\"edge5\" class=\"edge\">\n<title>node 1, 1&#45;&gt;node 1, 2</title>\n<path fill=\"none\" stroke=\"#000000\" d=\"M228.5081,-83.3799C222.0188,-74.5502 214.5072,-64.3295 207.5472,-54.8593\"/>\n<polygon fill=\"#000000\" stroke=\"#000000\" points=\"210.3547,-52.7692 201.6123,-46.784 204.7142,-56.9146 210.3547,-52.7692\"/>\n</g>\n<!-- node 2, 2 -->\n<g id=\"node6\" class=\"node\">\n<title>node 2, 2</title>\n<polygon fill=\"none\" stroke=\"#000000\" points=\"255.5,-.5 255.5,-46.5 359.5,-46.5 359.5,-.5 255.5,-.5\"/>\n<text text-anchor=\"middle\" x=\"307.5\" y=\"-31.3\" font-family=\"Times,serif\" font-size=\"14.00\" fill=\"#000000\">Asset: 663.172</text>\n<polyline fill=\"none\" stroke=\"#000000\" points=\"255.5,-23.5 359.5,-23.5 \"/>\n<text text-anchor=\"middle\" x=\"307.5\" y=\"-8.3\" font-family=\"Times,serif\" font-size=\"14.00\" fill=\"#000000\">Option: 0.000</text>\n</g>\n<!-- node 1, 1&#45;&gt;node 2, 2 -->\n<g id=\"edge6\" class=\"edge\">\n<title>node 1, 1&#45;&gt;node 2, 2</title>\n<path fill=\"none\" stroke=\"#000000\" d=\"M262.7705,-83.3799C269.3661,-74.5502 277.0009,-64.3295 284.075,-54.8593\"/>\n<polygon fill=\"#000000\" stroke=\"#000000\" points=\"286.9266,-56.8902 290.1071,-46.784 281.3185,-52.701 286.9266,-56.8902\"/>\n</g>\n</g>\n</svg>\n"
          },
          "metadata": {
            "tags": []
          },
          "execution_count": 20
        }
      ]
    },
    {
      "cell_type": "markdown",
      "metadata": {
        "id": "WE67ZhsahS0V"
      },
      "source": [
        "### Q.3"
      ]
    },
    {
      "cell_type": "markdown",
      "metadata": {
        "id": "W0RtXgtWlLCv"
      },
      "source": [
        "*Options, Futures and other Derivatives*, 10-th ed., ch.13, p.290, ex. 13.2.\n",
        "\n",
        "---\n",
        "\n",
        "The Australian dollar is currently worth 0.61 US dollars and this exchange rate has a volatility of 12%. The Australian risk-free rate is 7% and the US risk-free rate is 5%. Use a 3-step tree to value a 3-month American call option with a strike price of 0.6."
      ]
    },
    {
      "cell_type": "code",
      "metadata": {
        "colab": {
          "base_uri": "https://localhost:8080/"
        },
        "id": "DTHalylrlbgj",
        "outputId": "2898ae49-945c-4e0c-a4ab-61719117c103"
      },
      "source": [
        "params_q3 = {\"cur_pr\"    : 0.61, # set the current currency \n",
        "             \"strike_pr\" : 0.60, # set the strike currency \n",
        "             \"r\"         : 0.05, # set the domestic risk-free rate (US)\n",
        "             \"r2\"        : 0.07, # set the foreign risk-free rate (Australia)\n",
        "             \"months\"    : 3,\n",
        "             \"steps\"     : 3,\n",
        "             \"sigma\"     : 0.12,\n",
        "             \"opt_mode\"  : \"American\"}\n",
        "\n",
        "bin_tree_q3 = Binomial_Tree_Pricing(**params_q3)\n",
        "bin_tree_q3.get_option_price(verbose=False)\n",
        "bin_tree_q3.opt_price"
      ],
      "execution_count": 21,
      "outputs": [
        {
          "output_type": "execute_result",
          "data": {
            "text/plain": [
              "0.01888057792230972"
            ]
          },
          "metadata": {
            "tags": []
          },
          "execution_count": 21
        }
      ]
    },
    {
      "cell_type": "markdown",
      "metadata": {
        "id": "I1gCYtR7hUo5"
      },
      "source": [
        "### Q.4"
      ]
    },
    {
      "cell_type": "markdown",
      "metadata": {
        "id": "neVVNo66miKR"
      },
      "source": [
        "*Options, Futures and other Derivatives*, 10-th ed., ch.13, p.291, ex. 13.3.\n",
        "\n",
        "---\n",
        "\n",
        "A futures price is currently 31 and has a volatility of 30%. The risk-free rate is 5%. Use a three-step binomial tree to value a 9-month American put option with a strike price of 30. "
      ]
    },
    {
      "cell_type": "code",
      "metadata": {
        "colab": {
          "base_uri": "https://localhost:8080/"
        },
        "id": "tROJUTsPmfko",
        "outputId": "62665201-6d4c-4861-9148-16f46389b624"
      },
      "source": [
        "# 1-st way\n",
        "\n",
        "params_q4 = {\"cur_pr\"    : 31,\n",
        "             \"strike_pr\" : 30,\n",
        "             \"r\"         : 0.05,\n",
        "             \"months\"    : 9,\n",
        "             \"steps\"     : 3,\n",
        "             \"sigma\"     : 0.3,\n",
        "             \"asset\"     : \"Futures\",\n",
        "             \"opt_mode\"  : \"American\",\n",
        "             \"opt_type\"  : \"Put\"}\n",
        "\n",
        "bin_tree_q4 = Binomial_Tree_Pricing(**params_q4)\n",
        "bin_tree_q4.get_option_price(verbose=False)\n",
        "bin_tree_q4.opt_price"
      ],
      "execution_count": 22,
      "outputs": [
        {
          "output_type": "execute_result",
          "data": {
            "text/plain": [
              "2.8356351571052616"
            ]
          },
          "metadata": {
            "tags": []
          },
          "execution_count": 22
        }
      ]
    },
    {
      "cell_type": "code",
      "metadata": {
        "colab": {
          "base_uri": "https://localhost:8080/"
        },
        "id": "gbvXoJkcn9y6",
        "outputId": "21fe19e6-87e2-46df-c459-3c7c022187ea"
      },
      "source": [
        "# 2-nd way\n",
        "\n",
        "params_q4 = {\"cur_pr\"    : 31,\n",
        "             \"strike_pr\" : 30,\n",
        "             \"r\"         : 0.05,\n",
        "             \"r2\"        : 0.05, # set the same value for r\n",
        "             \"months\"    : 9,\n",
        "             \"steps\"     : 3,\n",
        "             \"sigma\"     : 0.3,\n",
        "             \"opt_mode\"  : \"American\",\n",
        "             \"opt_type\"  : \"Put\"}\n",
        "\n",
        "bin_tree_q4 = Binomial_Tree_Pricing(**params_q4)\n",
        "bin_tree_q4.get_option_price(verbose=False)\n",
        "bin_tree_q4.opt_price"
      ],
      "execution_count": 23,
      "outputs": [
        {
          "output_type": "execute_result",
          "data": {
            "text/plain": [
              "2.8356351571052616"
            ]
          },
          "metadata": {
            "tags": []
          },
          "execution_count": 23
        }
      ]
    },
    {
      "cell_type": "markdown",
      "metadata": {
        "id": "FuT2JOD7hWif"
      },
      "source": [
        "### Q.6"
      ]
    },
    {
      "cell_type": "markdown",
      "metadata": {
        "id": "hrDl-JhgoXHK"
      },
      "source": [
        "A stock price is currently \\$50. It is known that during each 6 month period for the next year it will increase by 20% or reduce by 16%. Consider a call option on a non-dividendpaying stock with the strike price is \\$48. The risk-free rate is 12% per annum."
      ]
    },
    {
      "cell_type": "markdown",
      "metadata": {
        "id": "JEtL3Qs1o6XV"
      },
      "source": [
        "#### A"
      ]
    },
    {
      "cell_type": "markdown",
      "metadata": {
        "id": "yUTfJZ8Ho74m"
      },
      "source": [
        "Use a one-step tree to price a 6-month European option."
      ]
    },
    {
      "cell_type": "code",
      "metadata": {
        "colab": {
          "base_uri": "https://localhost:8080/"
        },
        "id": "q_vBuwzgodrZ",
        "outputId": "72e4abd8-d40c-430f-e0a9-4b8dee0b72f1"
      },
      "source": [
        "params_q6 = {\"cur_pr\"    : 50,\n",
        "             \"strike_pr\" : 48,\n",
        "             \"r\"         : 0.12,\n",
        "             \"months\"    : 6,\n",
        "             \"steps\"     : 1,\n",
        "             \"udp_str\"   : \"Custom\",\n",
        "             \"u\"         : 1.2,\n",
        "             \"d\"         : 0.84}\n",
        "\n",
        "bin_tree_q6 = Binomial_Tree_Pricing(**params_q6)\n",
        "bin_tree_q6.get_option_price(verbose=False)\n",
        "bin_tree_q6.opt_price"
      ],
      "execution_count": 24,
      "outputs": [
        {
          "output_type": "execute_result",
          "data": {
            "text/plain": [
              "6.963926392974371"
            ]
          },
          "metadata": {
            "tags": []
          },
          "execution_count": 24
        }
      ]
    },
    {
      "cell_type": "markdown",
      "metadata": {
        "id": "hoNq-yCWhiO9"
      },
      "source": [
        "#### B"
      ]
    },
    {
      "cell_type": "markdown",
      "metadata": {
        "id": "TIVLuB4fpicU"
      },
      "source": [
        "Use a two-step tree to price a 1-year American option."
      ]
    },
    {
      "cell_type": "code",
      "metadata": {
        "colab": {
          "base_uri": "https://localhost:8080/"
        },
        "id": "BKNec0laplbg",
        "outputId": "7d6f291c-a69e-4852-8aa4-7c4acda920b9"
      },
      "source": [
        "params_q6 = {\"cur_pr\"    : 50,\n",
        "             \"strike_pr\" : 48,\n",
        "             \"r\"         : 0.12,\n",
        "             \"months\"    : 12,\n",
        "             \"steps\"     : 2,\n",
        "             \"udp_str\"   : \"Custom\",\n",
        "             \"u\"         : 1.2,\n",
        "             \"d\"         : 0.84,\n",
        "             \"opt_mode\"  : \"American\"}\n",
        "\n",
        "bin_tree_q6 = Binomial_Tree_Pricing(**params_q6)\n",
        "bin_tree_q6.get_option_price(verbose=False)\n",
        "bin_tree_q6.opt_price"
      ],
      "execution_count": 25,
      "outputs": [
        {
          "output_type": "execute_result",
          "data": {
            "text/plain": [
              "9.089520997459823"
            ]
          },
          "metadata": {
            "tags": []
          },
          "execution_count": 25
        }
      ]
    },
    {
      "cell_type": "markdown",
      "metadata": {
        "id": "nyP1PtJqhl0W"
      },
      "source": [
        "### Q.7"
      ]
    },
    {
      "cell_type": "markdown",
      "metadata": {
        "id": "EYnpbJlaqKW8"
      },
      "source": [
        "A currency is currently worth \\$0.80 and has a volatility of 12%. The domestic and foreign risk-free interest rates are 6% and 8%, respectively."
      ]
    },
    {
      "cell_type": "markdown",
      "metadata": {
        "id": "7ERANFQaqS7f"
      },
      "source": [
        "#### A"
      ]
    },
    {
      "cell_type": "markdown",
      "metadata": {
        "id": "WbGpsp0xqUSz"
      },
      "source": [
        "Use a two-step binomial tree to value a European four-month call option with a strike price of $0.79."
      ]
    },
    {
      "cell_type": "code",
      "metadata": {
        "colab": {
          "base_uri": "https://localhost:8080/"
        },
        "id": "EVSy7SAkqYug",
        "outputId": "3935257d-7ec5-4210-84bf-f2aaf05c69f7"
      },
      "source": [
        "params_q7 = {\"cur_pr\"    : 0.80,\n",
        "             \"strike_pr\" : 0.79,\n",
        "             \"r\"         : 0.06,\n",
        "             \"r2\"        : 0.08,\n",
        "             \"sigma\"     : 0.12,\n",
        "             \"months\"    : 4,\n",
        "             \"steps\"     : 2}\n",
        "\n",
        "bin_tree_q7 = Binomial_Tree_Pricing(**params_q7)\n",
        "bin_tree_q7.get_option_price(verbose=False)\n",
        "bin_tree_q7.opt_price"
      ],
      "execution_count": 26,
      "outputs": [
        {
          "output_type": "execute_result",
          "data": {
            "text/plain": [
              "0.023501441082653417"
            ]
          },
          "metadata": {
            "tags": []
          },
          "execution_count": 26
        }
      ]
    },
    {
      "cell_type": "markdown",
      "metadata": {
        "id": "elqrBnCdhn8v"
      },
      "source": [
        "#### B"
      ]
    },
    {
      "cell_type": "markdown",
      "metadata": {
        "id": "kdQxTlmPq7Ke"
      },
      "source": [
        "Use a two-step binomial tree to value an American four-month call option with the same strike price."
      ]
    },
    {
      "cell_type": "code",
      "metadata": {
        "colab": {
          "base_uri": "https://localhost:8080/"
        },
        "id": "v5cOlws5rAV-",
        "outputId": "27e2539d-11f4-46f0-89a5-fcc3f7950d8f"
      },
      "source": [
        "params_q7[\"opt_mode\"] = \"American\"\n",
        "\n",
        "bin_tree_q7 = Binomial_Tree_Pricing(**params_q7)\n",
        "bin_tree_q7.get_option_price(verbose=False)\n",
        "bin_tree_q7.opt_price"
      ],
      "execution_count": 27,
      "outputs": [
        {
          "output_type": "execute_result",
          "data": {
            "text/plain": [
              "0.024969382683209095"
            ]
          },
          "metadata": {
            "tags": []
          },
          "execution_count": 27
        }
      ]
    },
    {
      "cell_type": "markdown",
      "metadata": {
        "id": "8hYtGpsOhrhY"
      },
      "source": [
        "### Q.8"
      ]
    },
    {
      "cell_type": "markdown",
      "metadata": {
        "id": "QE7K0RAsrL2M"
      },
      "source": [
        "Use a three-step binomial tree to calculate the value of a three-month at-the-money European call option on a stock index when the index is at 250, the risk-free interest rate is 10% per annum, the volatility of the index is 18% per annum, and the dividend yield on the index is 3% per annum."
      ]
    },
    {
      "cell_type": "code",
      "metadata": {
        "colab": {
          "base_uri": "https://localhost:8080/"
        },
        "id": "mf-GxcnJrRaF",
        "outputId": "0aca8340-04b7-4514-d8ab-b7f3d9d577d5"
      },
      "source": [
        "params_q8 = {\"cur_pr\"    : 250,\n",
        "             \"strike_pr\" : 250,\n",
        "             \"r\"         : 0.10,\n",
        "             \"r2\"        : 0.03,\n",
        "             \"sigma\"     : 0.18,\n",
        "             \"months\"    : 3,\n",
        "             \"steps\"     : 3}\n",
        "\n",
        "bin_tree_q8 = Binomial_Tree_Pricing(**params_q8)\n",
        "bin_tree_q8.get_option_price(verbose=False)\n",
        "bin_tree_q8.opt_price"
      ],
      "execution_count": 28,
      "outputs": [
        {
          "output_type": "execute_result",
          "data": {
            "text/plain": [
              "11.85474106499492"
            ]
          },
          "metadata": {
            "tags": []
          },
          "execution_count": 28
        }
      ]
    },
    {
      "cell_type": "markdown",
      "metadata": {
        "id": "KkGhOFZy5Y2X"
      },
      "source": [
        "# 4. Trinomial tree pricing"
      ]
    },
    {
      "cell_type": "markdown",
      "metadata": {
        "id": "_-aPcpj6Jppr"
      },
      "source": [
        "## 4.1 Code part"
      ]
    },
    {
      "cell_type": "code",
      "metadata": {
        "id": "daKzgB70H0xG"
      },
      "source": [
        "class Trinomial_Tree_Pricing(object):\n",
        "    '''\n",
        "    Trinomial_Tree_Pricing class is an implementation of Trinomial Tree technique \n",
        "    for pricing options.\n",
        "    Current version is implemented only for Stocks (with continuous dividend yield) \n",
        "    and only with 'u=1/d' strategy.\n",
        "    This version can calculate both Vanilla and Barrier options.\n",
        "    '''\n",
        "    def __init__(self, cur_pr, strike_pr, r, steps, months=None, sigma=None, \n",
        "                 upper_bd=None, lower_bd=None, dt=None, r2=0, \n",
        "                 opt_mode=\"European\", opt_type=\"Call\"):\n",
        "        '''\n",
        "        Constructor of the Binomial_Tree_Pricing class.\n",
        "\n",
        "        Initialization of inputs:\n",
        "        cur_pr    - current price of the asset.\n",
        "        strike_pr - strike price of the option.\n",
        "        r         - annual risk-free rate.\n",
        "        steps     - number of steps to proceed.\n",
        "        months    - number of months until the option expires.\n",
        "        sigma     - volatility parameter.\n",
        "        upper_bd  - upper bound of the barrier option.\n",
        "        lower_bd  - lower bound of the barrier option.\n",
        "        dt        - custom time of one step in months.\n",
        "        r2        - continuous dividend yield rate for stocks or \n",
        "                    foreign risk-free rate for currencies,\n",
        "                    default = 0.\n",
        "        opt_mode  - mode of option:\n",
        "                        \"European\" - for European option.\n",
        "                        \"American\" - for American option.\n",
        "                    default is \"European\".\n",
        "        opt_type  - type of option:\n",
        "                        \"Call\" - for Call option.\n",
        "                        \"Put\"  - for Put option.\n",
        "        \n",
        "        Initialization of other variables:\n",
        "        Pu        - risk-neutral probability of upward move of asset price.\n",
        "        Pm        - risk-neutral probability of staying in the same node.\n",
        "        Pd        - risk-neutral probability of downward move of asset price.\n",
        "        opt_price - current price of option. \n",
        "        graph     - tree graph with the prices of the option and the underlying asset.\n",
        "        asset_prs - diagonal matrix of the asset prices, shape:(steps+1, steps+1),\n",
        "                    asset_prs[i, j] - i-th possible asset price at time j*dt.\n",
        "        opt_prs   - diagonal matrix of the option prices, shape:(steps+1, steps+1),\n",
        "                    asset_prs[i, j] - i-th possible option price at time j*dt.\n",
        "        visited   - diagonal binary matrix for DFS (Depth-first search) algorithm \n",
        "                    that indicates whether the algorithm has visited the current \n",
        "                    node (i, j) or not.\n",
        "        '''\n",
        "        # Check the input values\n",
        "        assert (opt_type == \"Call\") or (opt_type == \"Put\"), \"Check the opt_type parameter\"\n",
        "        assert (opt_mode == \"European\") or (opt_mode == \"American\"), \"Check the opt_mode parameter\"\n",
        "\n",
        "        # Initialization of input values\n",
        "        self.cur_pr = cur_pr\n",
        "        self.strike_pr = strike_pr\n",
        "        self.steps = steps\n",
        "        self.months = months\n",
        "        self.sigma = sigma\n",
        "        self.upper_bd = upper_bd\n",
        "        self.lower_bd = lower_bd\n",
        "        self.opt_mode = opt_mode\n",
        "        self.opt_type = opt_type\n",
        "        self.r = r\n",
        "        self.r2 = r2\n",
        "\n",
        "        # Convert time parameters\n",
        "        self.dt = dt if dt != None else months / (12 * steps)\n",
        "\n",
        "        # Initialization of other parameters\n",
        "        self.Pu = None\n",
        "        self.Pm = None\n",
        "        self.Pd = None\n",
        "        self.opt_price = None\n",
        "        self.graph = Digraph('tree', strict=True, node_attr={'shape': 'record'})\n",
        "\n",
        "        # Initialization of matricies, set the nodes at the last step (final nodes) \n",
        "        # as visited in the visited matrix\n",
        "        self.asset_prs = np.zeros((2 * steps + 1, steps + 1))\n",
        "        self.opt_prs = np.zeros((2 * steps + 1, steps + 1))\n",
        "        self.visited = np.zeros((2 * steps + 1, steps + 1))\n",
        "        self.visited[:, -1] = np.ones(2 *steps + 1)\n",
        "        \n",
        "    \n",
        "    def reset_visited(self):\n",
        "        '''\n",
        "        This function works with the matrix visited.\n",
        "        It sets the initial values: \n",
        "            1 - for the final nodes (j = steps),\n",
        "            0 - for all other nodes (j < steps).\n",
        "        '''\n",
        "        self.visited = np.zeros((2 * self.steps + 1, self.steps + 1))\n",
        "        self.visited[:, -1] = np.ones(2 * self.steps + 1)\n",
        "\n",
        "\n",
        "    def plot_graph(self, i=0, j=0):\n",
        "        '''\n",
        "        This functions plots the Binomial tree graph with the prices of the \n",
        "        option and the underlying asset. DFS algorithm is used for traversing \n",
        "        the graph recursively.\n",
        "        Inputs - matrix indexes of current node (i, j):\n",
        "        i - i-th current possible price,\n",
        "        j - j-th current step at time j*dt.\n",
        "        default (i, j) = (0, 0) - node with the initial (step j=0) asset price.\n",
        "        '''\n",
        "        # Prepare the graphical format of the node.\n",
        "        content = r'{{Asset: %.3f} | Option: %.3f}' % (self.asset_prs[i, j], \n",
        "                                                       self.opt_prs[i, j])\n",
        "        # Create a node\n",
        "        self.graph.node(f'node {i}, {j}', content)\n",
        "\n",
        "        # Return if the current node has already been visited\n",
        "        if self.visited[i, j]:\n",
        "            return\n",
        "\n",
        "        # Create three edges from the current node and start the algorithm\n",
        "        # from these next nodes in a tree\n",
        "        self.graph.edge(f'node {i}, {j}', f'node {i}, {j + 1}')\n",
        "        self.graph.edge(f'node {i}, {j}', f'node {i + 1}, {j + 1}')\n",
        "        self.graph.edge(f'node {i}, {j}', f'node {i + 2}, {j + 1}')\n",
        "        self.plot_graph(i, j + 1)\n",
        "        self.plot_graph(i + 1, j + 1)\n",
        "        self.plot_graph(i + 2, j + 1)\n",
        "\n",
        "        # Label the current node as visited \n",
        "        self.visited[i, j] = 1\n",
        "        return self.graph\n",
        "\n",
        "\n",
        "    def build_asset_price_mat(self):\n",
        "        '''\n",
        "        This function builds the diagonal matrix of possible asset prices - asset_prs.\n",
        "        The matrix has the following form:\n",
        "        [S0, S0*u, S0*u^2, ... S0*u^(2*steps)  ]\n",
        "        [0,  S0  , S0*u,   ... S0*u^(2*steps-1)]\n",
        "        [0,  S0*d, S0,     ... S0*u^(2*steps-2)]\n",
        "        [0,  0,    S0*d,   ... S0*u^(2*steps-3)]\n",
        "        [0,  0,    S0*d^2, ... S0*u^(2*steps-4)]\n",
        "                           ...\n",
        "        [0,  0,    0,      ... S0*d^(2*steps)  ],\n",
        "        where S0 - initial (at step j=0) asset price.\n",
        "        '''\n",
        "        # Calculate the possible asset prices in terms of the Trinomial model\n",
        "        for i in range(0, self.steps + 1):\n",
        "            for j in range(0, 2 * i + 1):\n",
        "                self.asset_prs[j, i] = self.cur_pr * self.u**(max(i - j, 0)) * self.d**(max(j - i, 0))\n",
        "\n",
        "\n",
        "    def get_price_recursive(self, i=0, j=0):\n",
        "        '''\n",
        "        This function implements the DFS algorithm for traversing the graph \n",
        "        and calculate the option price recursively.\n",
        "        Inputs - matrix indexes of node (i, j):\n",
        "            i - i-th possible price,\n",
        "            j - j-th step at time j*dt.\n",
        "            default (i, j) = (0, 0) - node with the initial (step j=0) asset price.\n",
        "        Outputs:\n",
        "            price - price of the option in the node (i, j) that corresponds to\n",
        "                    the asset price (asset_prs[i, j]).\n",
        "        '''\n",
        "        # Return if the node (i, j) has already been visited\n",
        "        if self.visited[i, j]:\n",
        "            return self.opt_prs[i, j]\n",
        "\n",
        "        # Check whether the upper or lower bounds are given, if so => calculating \n",
        "        # the price of barrier option and return 0 as current option price if \n",
        "        # the current asset price is out of bounds\n",
        "        if self.upper_bd != None and self.asset_prs[i, j] >= self.upper_bd:\n",
        "            return 0\n",
        "        if self.lower_bd != None and self.asset_prs[i, j] <= self.lower_bd:\n",
        "            return 0\n",
        "\n",
        "        # Calculate the expected price in the next step\n",
        "        expected_pr = self.Pu * self.get_price_recursive(i, j + 1) + \\\n",
        "                      self.Pm * self.get_price_recursive(i + 1, j + 1) + \\\n",
        "                      self.Pd * self.get_price_recursive(i + 2, j + 1)\n",
        "\n",
        "        # Discount the expected price\n",
        "        price = expected_pr * np.exp(-self.r * self.dt)\n",
        "\n",
        "        # If the option is American consider the early exercise \n",
        "        if self.opt_mode == \"American\":\n",
        "            if self.opt_type == \"Call\":\n",
        "                price = max(price, self.asset_prs[i, j] - self.strike_pr)\n",
        "            else:\n",
        "                price = max(price, self.strike_pr - self.asset_prs[i, j])\n",
        "        \n",
        "        # Store the current option price of node (i, j) in the opt_prs matrix\n",
        "        self.opt_prs[i, j] = price\n",
        "\n",
        "        # Label node (i, j) as visited \n",
        "        self.visited[i, j] = 1\n",
        "        return price\n",
        "\n",
        "\n",
        "    def get_option_price(self, verbose=True):\n",
        "        '''\n",
        "        This is the main function of the Binomial_Tree_Pricing class. It calculates \n",
        "        the initial price of option for given a set of parameters that were \n",
        "        initialized in Constructor.\n",
        "        Inputs:\n",
        "        verbose - the binary flag that indicates whether to show the information \n",
        "                  of running process or not,\n",
        "                  default is True. \n",
        "        '''\n",
        "        # Calculate the u and d coefficients\n",
        "        self.u = np.exp(self.sigma * np.sqrt(2 * self.dt))\n",
        "        self.d = 1 / self.u\n",
        "\n",
        "        # Calculate the risk-neutral probabilities\n",
        "        pos_exp = np.exp(self.sigma * np.sqrt(self.dt / 2))\n",
        "        neg_exp = np.exp(-self.sigma * np.sqrt(self.dt / 2))\n",
        "        self.Pu = ((np.exp((self.r - self.r2) * self.dt / 2) - neg_exp) / (pos_exp - neg_exp))**2\n",
        "        self.Pd = ((pos_exp - np.exp((self.r - self.r2) * self.dt / 2)) / (pos_exp - neg_exp))**2\n",
        "        self.Pm = 1 - self.Pu - self.Pd\n",
        "\n",
        "        # Check whether the risk-neutral sum of probabilities is greater than 1\n",
        "        assert (self.Pu + self.Pd <= 1), \"Pu + Pd is greater than 1\"\n",
        "\n",
        "        # Build the asset prices matrix asset_prs using the function build_asset_price_mat()\n",
        "        if verbose:\n",
        "            print(\"Calculating the asset prices...\")\n",
        "        self.build_asset_price_mat()\n",
        "\n",
        "        # Calculate the option prices at the last step (j=steps)\n",
        "        if self.opt_type == \"Call\":\n",
        "            self.opt_prs[:, -1] = self.asset_prs[:, -1] - self.strike_pr\n",
        "            self.opt_prs[self.opt_prs < 0] = 0\n",
        "        else:\n",
        "            self.opt_prs[:, -1] = self.strike_pr - self.asset_prs[:, -1]\n",
        "            self.opt_prs[self.opt_prs < 0] = 0\n",
        "\n",
        "        # Check whether the upper and lower bounds are given, if so => calculating \n",
        "        # the price of barrier option and set 0 as the option price if the asset \n",
        "        # price is out of bounds\n",
        "        if self.upper_bd != None:\n",
        "            self.opt_prs[self.asset_prs >= self.upper_bd] = 0\n",
        "        if self.lower_bd != None:\n",
        "            self.opt_prs[self.asset_prs <= self.lower_bd] = 0\n",
        "\n",
        "        # Calculate the initial option price for node (0, 0)\n",
        "        if verbose:\n",
        "            print(\"Calculating the option prices...\")\n",
        "        self.opt_price = self.get_price_recursive()\n",
        "\n",
        "        # Reset the visited matrix for further graph plotting\n",
        "        self.reset_visited()\n",
        "\n",
        "        if verbose:\n",
        "            print(\"Succeed.\")"
      ],
      "execution_count": 29,
      "outputs": []
    },
    {
      "cell_type": "markdown",
      "metadata": {
        "id": "MfELOObSoNvX"
      },
      "source": [
        "## 4.2 Simple example"
      ]
    },
    {
      "cell_type": "markdown",
      "metadata": {
        "id": "v-uuqJeEZQBZ"
      },
      "source": [
        "*Trinomial_Tree_Pricing* class has the same functions as the *Binomial_Tree_Pricing* class, hence the usage of these classes is identical. Let's consider both cases in the following example (Example 3):\n",
        "\n",
        "Consider a 2-year American put with a strike price of \\$52 on a stock whose current price is \\$50. We suppose that there are two time steps of 1 year, and in each time step the stock price either moves up by 20% or moves down by 20%. We also suppose that the risk-free interest rate is 5%."
      ]
    },
    {
      "cell_type": "code",
      "metadata": {
        "colab": {
          "base_uri": "https://localhost:8080/"
        },
        "id": "_39H5ibRa9bc",
        "outputId": "40fde81d-77f5-4c29-859d-34856c616127"
      },
      "source": [
        "# Binomial \n",
        "\n",
        "params_ex3 = {\"cur_pr\"    : 50,\n",
        "              \"strike_pr\" : 52,\n",
        "              \"r\"         : 0.05,\n",
        "              \"months\"    : 12 * 2,\n",
        "              \"sigma\"     : 0.3,\n",
        "              \"steps\"     : 2,\n",
        "              \"opt_mode\"  : \"American\",\n",
        "              \"opt_type\"  : \"Put\"}\n",
        "\n",
        "bin_tree_ex3 = Binomial_Tree_Pricing(**params_ex3)\n",
        "bin_tree_ex3.get_option_price(verbose=False)\n",
        "bin_tree_ex3.opt_price"
      ],
      "execution_count": 30,
      "outputs": [
        {
          "output_type": "execute_result",
          "data": {
            "text/plain": [
              "7.428401902704835"
            ]
          },
          "metadata": {
            "tags": []
          },
          "execution_count": 30
        }
      ]
    },
    {
      "cell_type": "code",
      "metadata": {
        "colab": {
          "base_uri": "https://localhost:8080/"
        },
        "id": "IuWBtNFHTuJ5",
        "outputId": "90bad27a-af7b-444a-c73b-2b1abf905cf4"
      },
      "source": [
        "# Trinomial \n",
        "\n",
        "tri_tree_ex3 = Trinomial_Tree_Pricing(**params_ex3)\n",
        "tri_tree_ex3.get_option_price(verbose=False)\n",
        "tri_tree_ex3.opt_price"
      ],
      "execution_count": 31,
      "outputs": [
        {
          "output_type": "execute_result",
          "data": {
            "text/plain": [
              "7.1613492172725834"
            ]
          },
          "metadata": {
            "tags": []
          },
          "execution_count": 31
        }
      ]
    },
    {
      "cell_type": "markdown",
      "metadata": {
        "id": "7BeiZU1YcAZH"
      },
      "source": [
        "Let's compare the graphs."
      ]
    },
    {
      "cell_type": "code",
      "metadata": {
        "colab": {
          "base_uri": "https://localhost:8080/",
          "height": 316
        },
        "id": "wv0RKk1GT8qS",
        "outputId": "d82b7952-0951-43cf-9731-3976cbfb822e"
      },
      "source": [
        "bin_tree_ex3.plot_graph()"
      ],
      "execution_count": 32,
      "outputs": [
        {
          "output_type": "execute_result",
          "data": {
            "text/plain": [
              "<graphviz.dot.Digraph at 0x7f1e26024240>"
            ],
            "image/svg+xml": "<?xml version=\"1.0\" encoding=\"UTF-8\" standalone=\"no\"?>\n<!DOCTYPE svg PUBLIC \"-//W3C//DTD SVG 1.1//EN\"\n \"http://www.w3.org/Graphics/SVG/1.1/DTD/svg11.dtd\">\n<!-- Generated by graphviz version 2.40.1 (20161225.0304)\n -->\n<!-- Title: tree Pages: 1 -->\n<svg width=\"346pt\" height=\"221pt\"\n viewBox=\"0.00 0.00 346.00 221.00\" xmlns=\"http://www.w3.org/2000/svg\" xmlns:xlink=\"http://www.w3.org/1999/xlink\">\n<g id=\"graph0\" class=\"graph\" transform=\"scale(1 1) rotate(0) translate(4 217)\">\n<title>tree</title>\n<polygon fill=\"#ffffff\" stroke=\"transparent\" points=\"-4,4 -4,-217 342,-217 342,4 -4,4\"/>\n<!-- node 0, 0 -->\n<g id=\"node1\" class=\"node\">\n<title>node 0, 0</title>\n<polygon fill=\"none\" stroke=\"#000000\" points=\"118,-166.5 118,-212.5 216,-212.5 216,-166.5 118,-166.5\"/>\n<text text-anchor=\"middle\" x=\"167\" y=\"-197.3\" font-family=\"Times,serif\" font-size=\"14.00\" fill=\"#000000\">Asset: 50.000</text>\n<polyline fill=\"none\" stroke=\"#000000\" points=\"118,-189.5 216,-189.5 \"/>\n<text text-anchor=\"middle\" x=\"167\" y=\"-174.3\" font-family=\"Times,serif\" font-size=\"14.00\" fill=\"#000000\">Option: 7.428</text>\n</g>\n<!-- node 0, 1 -->\n<g id=\"node2\" class=\"node\">\n<title>node 0, 1</title>\n<polygon fill=\"none\" stroke=\"#000000\" points=\"58,-83.5 58,-129.5 156,-129.5 156,-83.5 58,-83.5\"/>\n<text text-anchor=\"middle\" x=\"107\" y=\"-114.3\" font-family=\"Times,serif\" font-size=\"14.00\" fill=\"#000000\">Asset: 67.493</text>\n<polyline fill=\"none\" stroke=\"#000000\" points=\"58,-106.5 156,-106.5 \"/>\n<text text-anchor=\"middle\" x=\"107\" y=\"-91.3\" font-family=\"Times,serif\" font-size=\"14.00\" fill=\"#000000\">Option: 0.933</text>\n</g>\n<!-- node 0, 0&#45;&gt;node 0, 1 -->\n<g id=\"edge1\" class=\"edge\">\n<title>node 0, 0&#45;&gt;node 0, 1</title>\n<path fill=\"none\" stroke=\"#000000\" d=\"M150.2867,-166.3799C143.9683,-157.6394 136.6645,-147.5358 129.877,-138.1465\"/>\n<polygon fill=\"#000000\" stroke=\"#000000\" points=\"132.5268,-135.8378 123.8318,-129.784 126.8538,-139.9387 132.5268,-135.8378\"/>\n</g>\n<!-- node 1, 1 -->\n<g id=\"node3\" class=\"node\">\n<title>node 1, 1</title>\n<polygon fill=\"none\" stroke=\"#000000\" points=\"174,-83.5 174,-129.5 280,-129.5 280,-83.5 174,-83.5\"/>\n<text text-anchor=\"middle\" x=\"227\" y=\"-114.3\" font-family=\"Times,serif\" font-size=\"14.00\" fill=\"#000000\">Asset: 37.041</text>\n<polyline fill=\"none\" stroke=\"#000000\" points=\"174,-106.5 280,-106.5 \"/>\n<text text-anchor=\"middle\" x=\"227\" y=\"-91.3\" font-family=\"Times,serif\" font-size=\"14.00\" fill=\"#000000\">Option: 14.959</text>\n</g>\n<!-- node 0, 0&#45;&gt;node 1, 1 -->\n<g id=\"edge2\" class=\"edge\">\n<title>node 0, 0&#45;&gt;node 1, 1</title>\n<path fill=\"none\" stroke=\"#000000\" d=\"M183.7133,-166.3799C190.0317,-157.6394 197.3355,-147.5358 204.123,-138.1465\"/>\n<polygon fill=\"#000000\" stroke=\"#000000\" points=\"207.1462,-139.9387 210.1682,-129.784 201.4732,-135.8378 207.1462,-139.9387\"/>\n</g>\n<!-- node 0, 2 -->\n<g id=\"node4\" class=\"node\">\n<title>node 0, 2</title>\n<polygon fill=\"none\" stroke=\"#000000\" points=\"0,-.5 0,-46.5 98,-46.5 98,-.5 0,-.5\"/>\n<text text-anchor=\"middle\" x=\"49\" y=\"-31.3\" font-family=\"Times,serif\" font-size=\"14.00\" fill=\"#000000\">Asset: 91.106</text>\n<polyline fill=\"none\" stroke=\"#000000\" points=\"0,-23.5 98,-23.5 \"/>\n<text text-anchor=\"middle\" x=\"49\" y=\"-8.3\" font-family=\"Times,serif\" font-size=\"14.00\" fill=\"#000000\">Option: 0.000</text>\n</g>\n<!-- node 0, 1&#45;&gt;node 0, 2 -->\n<g id=\"edge3\" class=\"edge\">\n<title>node 0, 1&#45;&gt;node 0, 2</title>\n<path fill=\"none\" stroke=\"#000000\" d=\"M90.8438,-83.3799C84.736,-74.6394 77.6756,-64.5358 71.1144,-55.1465\"/>\n<polygon fill=\"#000000\" stroke=\"#000000\" points=\"73.8677,-52.9762 65.2708,-46.784 68.1298,-56.9858 73.8677,-52.9762\"/>\n</g>\n<!-- node 1, 2 -->\n<g id=\"node5\" class=\"node\">\n<title>node 1, 2</title>\n<polygon fill=\"none\" stroke=\"#000000\" points=\"116,-.5 116,-46.5 214,-46.5 214,-.5 116,-.5\"/>\n<text text-anchor=\"middle\" x=\"165\" y=\"-31.3\" font-family=\"Times,serif\" font-size=\"14.00\" fill=\"#000000\">Asset: 50.000</text>\n<polyline fill=\"none\" stroke=\"#000000\" points=\"116,-23.5 214,-23.5 \"/>\n<text text-anchor=\"middle\" x=\"165\" y=\"-8.3\" font-family=\"Times,serif\" font-size=\"14.00\" fill=\"#000000\">Option: 2.000</text>\n</g>\n<!-- node 0, 1&#45;&gt;node 1, 2 -->\n<g id=\"edge4\" class=\"edge\">\n<title>node 0, 1&#45;&gt;node 1, 2</title>\n<path fill=\"none\" stroke=\"#000000\" d=\"M123.1562,-83.3799C129.264,-74.6394 136.3244,-64.5358 142.8856,-55.1465\"/>\n<polygon fill=\"#000000\" stroke=\"#000000\" points=\"145.8702,-56.9858 148.7292,-46.784 140.1323,-52.9762 145.8702,-56.9858\"/>\n</g>\n<!-- node 1, 1&#45;&gt;node 1, 2 -->\n<g id=\"edge5\" class=\"edge\">\n<title>node 1, 1&#45;&gt;node 1, 2</title>\n<path fill=\"none\" stroke=\"#000000\" d=\"M209.7295,-83.3799C203.1339,-74.5502 195.4991,-64.3295 188.425,-54.8593\"/>\n<polygon fill=\"#000000\" stroke=\"#000000\" points=\"191.1815,-52.701 182.3929,-46.784 185.5734,-56.8902 191.1815,-52.701\"/>\n</g>\n<!-- node 2, 2 -->\n<g id=\"node6\" class=\"node\">\n<title>node 2, 2</title>\n<polygon fill=\"none\" stroke=\"#000000\" points=\"232,-.5 232,-46.5 338,-46.5 338,-.5 232,-.5\"/>\n<text text-anchor=\"middle\" x=\"285\" y=\"-31.3\" font-family=\"Times,serif\" font-size=\"14.00\" fill=\"#000000\">Asset: 27.441</text>\n<polyline fill=\"none\" stroke=\"#000000\" points=\"232,-23.5 338,-23.5 \"/>\n<text text-anchor=\"middle\" x=\"285\" y=\"-8.3\" font-family=\"Times,serif\" font-size=\"14.00\" fill=\"#000000\">Option: 24.559</text>\n</g>\n<!-- node 1, 1&#45;&gt;node 2, 2 -->\n<g id=\"edge6\" class=\"edge\">\n<title>node 1, 1&#45;&gt;node 2, 2</title>\n<path fill=\"none\" stroke=\"#000000\" d=\"M243.1562,-83.3799C249.264,-74.6394 256.3244,-64.5358 262.8856,-55.1465\"/>\n<polygon fill=\"#000000\" stroke=\"#000000\" points=\"265.8702,-56.9858 268.7292,-46.784 260.1323,-52.9762 265.8702,-56.9858\"/>\n</g>\n</g>\n</svg>\n"
          },
          "metadata": {
            "tags": []
          },
          "execution_count": 32
        }
      ]
    },
    {
      "cell_type": "code",
      "metadata": {
        "colab": {
          "base_uri": "https://localhost:8080/",
          "height": 316
        },
        "id": "yVaV70gSUK7Q",
        "outputId": "4341250a-c4cf-4ac4-cf17-200e7a2f5fa8"
      },
      "source": [
        "tri_tree_ex3.plot_graph()"
      ],
      "execution_count": 33,
      "outputs": [
        {
          "output_type": "execute_result",
          "data": {
            "text/plain": [
              "<graphviz.dot.Digraph at 0x7f1e26024c50>"
            ],
            "image/svg+xml": "<?xml version=\"1.0\" encoding=\"UTF-8\" standalone=\"no\"?>\n<!DOCTYPE svg PUBLIC \"-//W3C//DTD SVG 1.1//EN\"\n \"http://www.w3.org/Graphics/SVG/1.1/DTD/svg11.dtd\">\n<!-- Generated by graphviz version 2.40.1 (20161225.0304)\n -->\n<!-- Title: tree Pages: 1 -->\n<svg width=\"592pt\" height=\"221pt\"\n viewBox=\"0.00 0.00 591.50 221.00\" xmlns=\"http://www.w3.org/2000/svg\" xmlns:xlink=\"http://www.w3.org/1999/xlink\">\n<g id=\"graph0\" class=\"graph\" transform=\"scale(1 1) rotate(0) translate(4 217)\">\n<title>tree</title>\n<polygon fill=\"#ffffff\" stroke=\"transparent\" points=\"-4,4 -4,-217 587.5,-217 587.5,4 -4,4\"/>\n<!-- node 0, 0 -->\n<g id=\"node1\" class=\"node\">\n<title>node 0, 0</title>\n<polygon fill=\"none\" stroke=\"#000000\" points=\"237.5,-166.5 237.5,-212.5 335.5,-212.5 335.5,-166.5 237.5,-166.5\"/>\n<text text-anchor=\"middle\" x=\"286.5\" y=\"-197.3\" font-family=\"Times,serif\" font-size=\"14.00\" fill=\"#000000\">Asset: 50.000</text>\n<polyline fill=\"none\" stroke=\"#000000\" points=\"237.5,-189.5 335.5,-189.5 \"/>\n<text text-anchor=\"middle\" x=\"286.5\" y=\"-174.3\" font-family=\"Times,serif\" font-size=\"14.00\" fill=\"#000000\">Option: 7.161</text>\n</g>\n<!-- node 0, 1 -->\n<g id=\"node2\" class=\"node\">\n<title>node 0, 1</title>\n<polygon fill=\"none\" stroke=\"#000000\" points=\"121.5,-83.5 121.5,-129.5 219.5,-129.5 219.5,-83.5 121.5,-83.5\"/>\n<text text-anchor=\"middle\" x=\"170.5\" y=\"-114.3\" font-family=\"Times,serif\" font-size=\"14.00\" fill=\"#000000\">Asset: 76.423</text>\n<polyline fill=\"none\" stroke=\"#000000\" points=\"121.5,-106.5 219.5,-106.5 \"/>\n<text text-anchor=\"middle\" x=\"170.5\" y=\"-91.3\" font-family=\"Times,serif\" font-size=\"14.00\" fill=\"#000000\">Option: 0.464</text>\n</g>\n<!-- node 0, 0&#45;&gt;node 0, 1 -->\n<g id=\"edge1\" class=\"edge\">\n<title>node 0, 0&#45;&gt;node 0, 1</title>\n<path fill=\"none\" stroke=\"#000000\" d=\"M254.1875,-166.3799C240.9748,-156.9259 225.5332,-145.8772 211.5367,-135.8625\"/>\n<polygon fill=\"#000000\" stroke=\"#000000\" points=\"213.2108,-132.7566 203.0415,-129.784 209.1374,-138.4495 213.2108,-132.7566\"/>\n</g>\n<!-- node 1, 1 -->\n<g id=\"node3\" class=\"node\">\n<title>node 1, 1</title>\n<polygon fill=\"none\" stroke=\"#000000\" points=\"237.5,-83.5 237.5,-129.5 335.5,-129.5 335.5,-83.5 237.5,-83.5\"/>\n<text text-anchor=\"middle\" x=\"286.5\" y=\"-114.3\" font-family=\"Times,serif\" font-size=\"14.00\" fill=\"#000000\">Asset: 50.000</text>\n<polyline fill=\"none\" stroke=\"#000000\" points=\"237.5,-106.5 335.5,-106.5 \"/>\n<text text-anchor=\"middle\" x=\"286.5\" y=\"-91.3\" font-family=\"Times,serif\" font-size=\"14.00\" fill=\"#000000\">Option: 5.421</text>\n</g>\n<!-- node 0, 0&#45;&gt;node 1, 1 -->\n<g id=\"edge2\" class=\"edge\">\n<title>node 0, 0&#45;&gt;node 1, 1</title>\n<path fill=\"none\" stroke=\"#000000\" d=\"M286.5,-166.3799C286.5,-158.1745 286.5,-148.7679 286.5,-139.8786\"/>\n<polygon fill=\"#000000\" stroke=\"#000000\" points=\"290.0001,-139.784 286.5,-129.784 283.0001,-139.784 290.0001,-139.784\"/>\n</g>\n<!-- node 2, 1 -->\n<g id=\"node4\" class=\"node\">\n<title>node 2, 1</title>\n<polygon fill=\"none\" stroke=\"#000000\" points=\"353.5,-83.5 353.5,-129.5 459.5,-129.5 459.5,-83.5 353.5,-83.5\"/>\n<text text-anchor=\"middle\" x=\"406.5\" y=\"-114.3\" font-family=\"Times,serif\" font-size=\"14.00\" fill=\"#000000\">Asset: 32.713</text>\n<polyline fill=\"none\" stroke=\"#000000\" points=\"353.5,-106.5 459.5,-106.5 \"/>\n<text text-anchor=\"middle\" x=\"406.5\" y=\"-91.3\" font-family=\"Times,serif\" font-size=\"14.00\" fill=\"#000000\">Option: 19.287</text>\n</g>\n<!-- node 0, 0&#45;&gt;node 2, 1 -->\n<g id=\"edge3\" class=\"edge\">\n<title>node 0, 0&#45;&gt;node 2, 1</title>\n<path fill=\"none\" stroke=\"#000000\" d=\"M319.9267,-166.3799C333.724,-156.8367 349.8707,-145.6686 364.4576,-135.5793\"/>\n<polygon fill=\"#000000\" stroke=\"#000000\" points=\"366.603,-138.3511 372.8364,-129.784 362.621,-132.594 366.603,-138.3511\"/>\n</g>\n<!-- node 0, 2 -->\n<g id=\"node5\" class=\"node\">\n<title>node 0, 2</title>\n<polygon fill=\"none\" stroke=\"#000000\" points=\"0,-.5 0,-46.5 103,-46.5 103,-.5 0,-.5\"/>\n<text text-anchor=\"middle\" x=\"51.5\" y=\"-31.3\" font-family=\"Times,serif\" font-size=\"14.00\" fill=\"#000000\">Asset: 116.810</text>\n<polyline fill=\"none\" stroke=\"#000000\" points=\"0,-23.5 103,-23.5 \"/>\n<text text-anchor=\"middle\" x=\"51.5\" y=\"-8.3\" font-family=\"Times,serif\" font-size=\"14.00\" fill=\"#000000\">Option: 0.000</text>\n</g>\n<!-- node 0, 1&#45;&gt;node 0, 2 -->\n<g id=\"edge4\" class=\"edge\">\n<title>node 0, 1&#45;&gt;node 0, 2</title>\n<path fill=\"none\" stroke=\"#000000\" d=\"M137.3519,-83.3799C123.6695,-73.8367 107.6574,-62.6686 93.192,-52.5793\"/>\n<polygon fill=\"#000000\" stroke=\"#000000\" points=\"95.0874,-49.6341 84.8831,-46.784 91.0829,-55.3755 95.0874,-49.6341\"/>\n</g>\n<!-- node 1, 2 -->\n<g id=\"node6\" class=\"node\">\n<title>node 1, 2</title>\n<polygon fill=\"none\" stroke=\"#000000\" points=\"121.5,-.5 121.5,-46.5 219.5,-46.5 219.5,-.5 121.5,-.5\"/>\n<text text-anchor=\"middle\" x=\"170.5\" y=\"-31.3\" font-family=\"Times,serif\" font-size=\"14.00\" fill=\"#000000\">Asset: 76.423</text>\n<polyline fill=\"none\" stroke=\"#000000\" points=\"121.5,-23.5 219.5,-23.5 \"/>\n<text text-anchor=\"middle\" x=\"170.5\" y=\"-8.3\" font-family=\"Times,serif\" font-size=\"14.00\" fill=\"#000000\">Option: 0.000</text>\n</g>\n<!-- node 0, 1&#45;&gt;node 1, 2 -->\n<g id=\"edge5\" class=\"edge\">\n<title>node 0, 1&#45;&gt;node 1, 2</title>\n<path fill=\"none\" stroke=\"#000000\" d=\"M170.5,-83.3799C170.5,-75.1745 170.5,-65.7679 170.5,-56.8786\"/>\n<polygon fill=\"#000000\" stroke=\"#000000\" points=\"174.0001,-56.784 170.5,-46.784 167.0001,-56.784 174.0001,-56.784\"/>\n</g>\n<!-- node 2, 2 -->\n<g id=\"node7\" class=\"node\">\n<title>node 2, 2</title>\n<polygon fill=\"none\" stroke=\"#000000\" points=\"237.5,-.5 237.5,-46.5 335.5,-46.5 335.5,-.5 237.5,-.5\"/>\n<text text-anchor=\"middle\" x=\"286.5\" y=\"-31.3\" font-family=\"Times,serif\" font-size=\"14.00\" fill=\"#000000\">Asset: 50.000</text>\n<polyline fill=\"none\" stroke=\"#000000\" points=\"237.5,-23.5 335.5,-23.5 \"/>\n<text text-anchor=\"middle\" x=\"286.5\" y=\"-8.3\" font-family=\"Times,serif\" font-size=\"14.00\" fill=\"#000000\">Option: 2.000</text>\n</g>\n<!-- node 0, 1&#45;&gt;node 2, 2 -->\n<g id=\"edge6\" class=\"edge\">\n<title>node 0, 1&#45;&gt;node 2, 2</title>\n<path fill=\"none\" stroke=\"#000000\" d=\"M202.8125,-83.3799C216.0252,-73.9259 231.4668,-62.8772 245.4633,-52.8625\"/>\n<polygon fill=\"#000000\" stroke=\"#000000\" points=\"247.8626,-55.4495 253.9585,-46.784 243.7892,-49.7566 247.8626,-55.4495\"/>\n</g>\n<!-- node 1, 1&#45;&gt;node 1, 2 -->\n<g id=\"edge7\" class=\"edge\">\n<title>node 1, 1&#45;&gt;node 1, 2</title>\n<path fill=\"none\" stroke=\"#000000\" d=\"M254.1875,-83.3799C240.9748,-73.9259 225.5332,-62.8772 211.5367,-52.8625\"/>\n<polygon fill=\"#000000\" stroke=\"#000000\" points=\"213.2108,-49.7566 203.0415,-46.784 209.1374,-55.4495 213.2108,-49.7566\"/>\n</g>\n<!-- node 1, 1&#45;&gt;node 2, 2 -->\n<g id=\"edge8\" class=\"edge\">\n<title>node 1, 1&#45;&gt;node 2, 2</title>\n<path fill=\"none\" stroke=\"#000000\" d=\"M286.5,-83.3799C286.5,-75.1745 286.5,-65.7679 286.5,-56.8786\"/>\n<polygon fill=\"#000000\" stroke=\"#000000\" points=\"290.0001,-56.784 286.5,-46.784 283.0001,-56.784 290.0001,-56.784\"/>\n</g>\n<!-- node 3, 2 -->\n<g id=\"node8\" class=\"node\">\n<title>node 3, 2</title>\n<polygon fill=\"none\" stroke=\"#000000\" points=\"353.5,-.5 353.5,-46.5 459.5,-46.5 459.5,-.5 353.5,-.5\"/>\n<text text-anchor=\"middle\" x=\"406.5\" y=\"-31.3\" font-family=\"Times,serif\" font-size=\"14.00\" fill=\"#000000\">Asset: 32.713</text>\n<polyline fill=\"none\" stroke=\"#000000\" points=\"353.5,-23.5 459.5,-23.5 \"/>\n<text text-anchor=\"middle\" x=\"406.5\" y=\"-8.3\" font-family=\"Times,serif\" font-size=\"14.00\" fill=\"#000000\">Option: 19.287</text>\n</g>\n<!-- node 1, 1&#45;&gt;node 3, 2 -->\n<g id=\"edge9\" class=\"edge\">\n<title>node 1, 1&#45;&gt;node 3, 2</title>\n<path fill=\"none\" stroke=\"#000000\" d=\"M319.9267,-83.3799C333.724,-73.8367 349.8707,-62.6686 364.4576,-52.5793\"/>\n<polygon fill=\"#000000\" stroke=\"#000000\" points=\"366.603,-55.3511 372.8364,-46.784 362.621,-49.594 366.603,-55.3511\"/>\n</g>\n<!-- node 2, 1&#45;&gt;node 2, 2 -->\n<g id=\"edge10\" class=\"edge\">\n<title>node 2, 1&#45;&gt;node 2, 2</title>\n<path fill=\"none\" stroke=\"#000000\" d=\"M373.0733,-83.3799C359.276,-73.8367 343.1293,-62.6686 328.5424,-52.5793\"/>\n<polygon fill=\"#000000\" stroke=\"#000000\" points=\"330.379,-49.594 320.1636,-46.784 326.397,-55.3511 330.379,-49.594\"/>\n</g>\n<!-- node 2, 1&#45;&gt;node 3, 2 -->\n<g id=\"edge11\" class=\"edge\">\n<title>node 2, 1&#45;&gt;node 3, 2</title>\n<path fill=\"none\" stroke=\"#000000\" d=\"M406.5,-83.3799C406.5,-75.1745 406.5,-65.7679 406.5,-56.8786\"/>\n<polygon fill=\"#000000\" stroke=\"#000000\" points=\"410.0001,-56.784 406.5,-46.784 403.0001,-56.784 410.0001,-56.784\"/>\n</g>\n<!-- node 4, 2 -->\n<g id=\"node9\" class=\"node\">\n<title>node 4, 2</title>\n<polygon fill=\"none\" stroke=\"#000000\" points=\"477.5,-.5 477.5,-46.5 583.5,-46.5 583.5,-.5 477.5,-.5\"/>\n<text text-anchor=\"middle\" x=\"530.5\" y=\"-31.3\" font-family=\"Times,serif\" font-size=\"14.00\" fill=\"#000000\">Asset: 21.402</text>\n<polyline fill=\"none\" stroke=\"#000000\" points=\"477.5,-23.5 583.5,-23.5 \"/>\n<text text-anchor=\"middle\" x=\"530.5\" y=\"-8.3\" font-family=\"Times,serif\" font-size=\"14.00\" fill=\"#000000\">Option: 30.598</text>\n</g>\n<!-- node 2, 1&#45;&gt;node 4, 2 -->\n<g id=\"edge12\" class=\"edge\">\n<title>node 2, 1&#45;&gt;node 4, 2</title>\n<path fill=\"none\" stroke=\"#000000\" d=\"M441.0409,-83.3799C455.2982,-73.8367 471.9831,-62.6686 487.0562,-52.5793\"/>\n<polygon fill=\"#000000\" stroke=\"#000000\" points=\"489.3509,-55.2551 495.7143,-46.784 485.4572,-49.4379 489.3509,-55.2551\"/>\n</g>\n</g>\n</svg>\n"
          },
          "metadata": {
            "tags": []
          },
          "execution_count": 33
        }
      ]
    },
    {
      "cell_type": "markdown",
      "metadata": {
        "id": "VUMkizz65jGJ"
      },
      "source": [
        "# 5. Comparison"
      ]
    },
    {
      "cell_type": "markdown",
      "metadata": {
        "id": "BRDg4hqDH2Fz"
      },
      "source": [
        "## 5.1 Vanilla options "
      ]
    },
    {
      "cell_type": "markdown",
      "metadata": {
        "id": "er-wZwaFjItD"
      },
      "source": [
        "Let's compare the rate and time to convergence for pricing the *'Vanilla'* option for the range of steps from 1 to 50. European 6-month Call option with the strike price \\$51 will be considered as an example. Risk-free rate=5%, $\\sigma$=30% and current price of the stock is \\$50."
      ]
    },
    {
      "cell_type": "code",
      "metadata": {
        "colab": {
          "base_uri": "https://localhost:8080/",
          "height": 0,
          "referenced_widgets": [
            "e1dbad469f684d8389ad12b045de882a",
            "2f33bf48fee64e5192274a1f6aa970a0",
            "c3a82b1adac7454f8156e73e5a337196",
            "30b3f7eda6d04260ab04871b3105df96",
            "ee27a981811a40b8abd1f78aaea9f402",
            "0789631dabbf440b8f4314ac1d3bf841",
            "c3de6ef5dd174d14978015d2baac7f6b",
            "5fca59f574b849b788e411b21d11b2b1"
          ]
        },
        "id": "ZjegEkXrQwPV",
        "outputId": "72b81eb7-77ad-4b97-ca4d-3dfb7eb3b87b"
      },
      "source": [
        "params_comp = {\"cur_pr\"    : 50,\n",
        "               \"strike_pr\" : 51,\n",
        "               \"months\"    : 6,\n",
        "               \"r\"         : 0.05,\n",
        "               \"sigma\"     : 0.3}\n",
        "\n",
        "bin_prices = []\n",
        "tri_prices = []\n",
        "bin_time = []\n",
        "tri_time = []\n",
        "max_num_steps = 50\n",
        "\n",
        "for steps in tqdm_(range(1, max_num_steps + 1)):\n",
        "    params_comp[\"steps\"] = steps\n",
        "\n",
        "    begin = time.time()\n",
        "    bin_tree_pr = Binomial_Tree_Pricing(**params_comp)\n",
        "    bin_tree_pr.get_option_price(verbose=False)\n",
        "    total = time.time() - begin\n",
        "    bin_time.append(total)\n",
        "\n",
        "    begin = time.time()\n",
        "    tri_tree_pr = Trinomial_Tree_Pricing(**params_comp)\n",
        "    tri_tree_pr.get_option_price(verbose=False)\n",
        "    total = time.time() - begin\n",
        "    tri_time.append(total)\n",
        "\n",
        "    bin_prices.append(bin_tree_pr.opt_price)\n",
        "    tri_prices.append(tri_tree_pr.opt_price)"
      ],
      "execution_count": 34,
      "outputs": [
        {
          "output_type": "display_data",
          "data": {
            "application/vnd.jupyter.widget-view+json": {
              "model_id": "e1dbad469f684d8389ad12b045de882a",
              "version_minor": 0,
              "version_major": 2
            },
            "text/plain": [
              "HBox(children=(FloatProgress(value=0.0, max=50.0), HTML(value='')))"
            ]
          },
          "metadata": {
            "tags": []
          }
        },
        {
          "output_type": "stream",
          "text": [
            "\n"
          ],
          "name": "stdout"
        }
      ]
    },
    {
      "cell_type": "code",
      "metadata": {
        "colab": {
          "base_uri": "https://localhost:8080/",
          "height": 0
        },
        "id": "l3kEpzy0XNx8",
        "outputId": "3390e7af-887d-45b7-8745-307758f27edf"
      },
      "source": [
        "plt.figure(figsize=(10, 5))\n",
        "plt.plot(np.arange(max_num_steps), bin_prices, c=\"blue\", label=\"Binomial\")\n",
        "plt.plot(np.arange(max_num_steps), tri_prices, c=\"red\", label=\"Trinomial\")\n",
        "plt.title(\"Tri/Binomial tree pricing comparison\")\n",
        "plt.xlabel(\"Steps\")\n",
        "plt.ylabel(\"Option price\")\n",
        "plt.legend()\n",
        "plt.grid()\n",
        "plt.show()"
      ],
      "execution_count": 35,
      "outputs": [
        {
          "output_type": "display_data",
          "data": {
            "image/png": "[encoded data removed]",
            "text/plain": [
              "<Figure size 720x360 with 1 Axes>"
            ]
          },
          "metadata": {
            "tags": [],
            "needs_background": "light"
          }
        }
      ]
    },
    {
      "cell_type": "code",
      "metadata": {
        "colab": {
          "base_uri": "https://localhost:8080/",
          "height": 0
        },
        "id": "o3j86Kb4a4CN",
        "outputId": "df0e27fc-3660-4bf3-cdba-b3cde17eb9e2"
      },
      "source": [
        "plt.figure(figsize=(10, 5))\n",
        "plt.plot(np.arange(max_num_steps), bin_time, c=\"blue\", label=\"Binomial\")\n",
        "plt.plot(np.arange(max_num_steps), tri_time, c=\"red\", label=\"Trinomial\")\n",
        "plt.title(\"Tri/Binomial tree pricing time comparison\")\n",
        "plt.xlabel(\"Steps\")\n",
        "plt.ylabel(\"Time (sec)\")\n",
        "plt.legend()\n",
        "plt.grid()\n",
        "plt.show()"
      ],
      "execution_count": 36,
      "outputs": [
        {
          "output_type": "display_data",
          "data": {
            "image/png": "[encoded data removed]",
            "text/plain": [
              "<Figure size 720x360 with 1 Axes>"
            ]
          },
          "metadata": {
            "tags": [],
            "needs_background": "light"
          }
        }
      ]
    },
    {
      "cell_type": "markdown",
      "metadata": {
        "id": "AbMvW1eAs7EO"
      },
      "source": [
        "It can be seen from the graphics above that the *Trinomial* approach has greater convergence rate, however, it takes more computational time than the *Binomial* approach as the number of steps increases."
      ]
    },
    {
      "cell_type": "markdown",
      "metadata": {
        "id": "_-INnoVEoQ0t"
      },
      "source": [
        "## 5.2 Barrier option"
      ]
    },
    {
      "cell_type": "markdown",
      "metadata": {
        "id": "SM9lgBnGmGd7"
      },
      "source": [
        "Let's compare both approaches for pricing the barrier options for the following task:\n",
        "\n",
        "Use the *Trinomial* tree model to price double barrier knock-out European call and put options based on upper and lower barriers of \\\\$130 and \\\\$60 respectively for the set of initial prices \\\\$60 < S(0) < \\\\$130 used to price ‘vanilla’ European options. Use the following parameters K=\\$90, T=0.5, r=5%, $\\sigma$=20%. Set the total number of steps N=50. Plot option prices as a function of the initial price S(0)."
      ]
    },
    {
      "cell_type": "code",
      "metadata": {
        "id": "5Tx8SawDocae"
      },
      "source": [
        "params_comp_bar = {\"cur_pr\"    : 95,\n",
        "                   \"strike_pr\" : 90,\n",
        "                   \"dt\"        : 0.5 / 50,\n",
        "                   \"r\"         : 0.05,\n",
        "                   \"sigma\"     : 0.2,\n",
        "                   \"steps\"     : 50,\n",
        "                   \"upper_bd\"  : 130,\n",
        "                   \"lower_bd\" : 60}\n",
        "\n",
        "bin_tree_pr = Binomial_Tree_Pricing(**params_comp_bar)\n",
        "bin_tree_pr.get_option_price(verbose=False)\n",
        "\n",
        "tri_tree_pr = Trinomial_Tree_Pricing(**params_comp_bar)\n",
        "tri_tree_pr.get_option_price(verbose=False)"
      ],
      "execution_count": 37,
      "outputs": []
    },
    {
      "cell_type": "code",
      "metadata": {
        "colab": {
          "base_uri": "https://localhost:8080/"
        },
        "id": "ol45KBkhL5Cr",
        "outputId": "b3940f70-7ba3-4bf3-e4e3-3ed849f36b7f"
      },
      "source": [
        "# Binomial tree price\n",
        "bin_tree_pr.opt_price"
      ],
      "execution_count": 38,
      "outputs": [
        {
          "output_type": "execute_result",
          "data": {
            "text/plain": [
              "8.32927869499042"
            ]
          },
          "metadata": {
            "tags": []
          },
          "execution_count": 38
        }
      ]
    },
    {
      "cell_type": "code",
      "metadata": {
        "colab": {
          "base_uri": "https://localhost:8080/"
        },
        "id": "HEaFvVx3qo-1",
        "outputId": "b5798fbe-a4b5-4279-87d3-9c2daa983089"
      },
      "source": [
        "# Trinomial tree price\n",
        "tri_tree_pr.opt_price"
      ],
      "execution_count": 39,
      "outputs": [
        {
          "output_type": "execute_result",
          "data": {
            "text/plain": [
              "8.631544187342566"
            ]
          },
          "metadata": {
            "tags": []
          },
          "execution_count": 39
        }
      ]
    },
    {
      "cell_type": "code",
      "metadata": {
        "colab": {
          "base_uri": "https://localhost:8080/",
          "height": 66,
          "referenced_widgets": [
            "7ff0f209dc7942b38f84342ce9961821",
            "12434b8a4da5473388008f6a430f23b9",
            "d76869daeab340ee8237bb24d92ed81b",
            "13df656d3fd94173bb5156da08b9665c",
            "ca9d7f99403f40588fd9563a8e794751",
            "e3fa26c4e7c545399e7842dc85b3f99a",
            "b8bb013d0d2042819fdaaf9d08d638b5",
            "233c879edae1476abc05508758f72904"
          ]
        },
        "id": "ya5A04Lb8SKF",
        "outputId": "468697e1-cb68-47f3-e331-43c30431da73"
      },
      "source": [
        "cur_prices = np.arange(60, 131, 0.5)\n",
        "bin_prices = []\n",
        "tri_prices = []\n",
        "\n",
        "for price in tqdm_(cur_prices):\n",
        "    params_comp_bar[\"cur_pr\"] = price\n",
        "\n",
        "    bin_tree_pr = Binomial_Tree_Pricing(**params_comp_bar)\n",
        "    bin_tree_pr.get_option_price(verbose=False)\n",
        "    bin_prices.append(bin_tree_pr.opt_price)\n",
        "\n",
        "    tri_tree_pr = Trinomial_Tree_Pricing(**params_comp_bar)\n",
        "    tri_tree_pr.get_option_price(verbose=False)\n",
        "    tri_prices.append(tri_tree_pr.opt_price)"
      ],
      "execution_count": 40,
      "outputs": [
        {
          "output_type": "display_data",
          "data": {
            "application/vnd.jupyter.widget-view+json": {
              "model_id": "7ff0f209dc7942b38f84342ce9961821",
              "version_minor": 0,
              "version_major": 2
            },
            "text/plain": [
              "HBox(children=(FloatProgress(value=0.0, max=142.0), HTML(value='')))"
            ]
          },
          "metadata": {
            "tags": []
          }
        },
        {
          "output_type": "stream",
          "text": [
            "\n"
          ],
          "name": "stdout"
        }
      ]
    },
    {
      "cell_type": "code",
      "metadata": {
        "colab": {
          "base_uri": "https://localhost:8080/",
          "height": 350
        },
        "id": "0Cwa3vh99Wuh",
        "outputId": "7c31fa19-0d57-4920-981a-6c4fa582c897"
      },
      "source": [
        "plt.figure(figsize=(10, 5))\n",
        "plt.plot(cur_prices, bin_prices, c=\"blue\", label=\"Binomial\")\n",
        "plt.plot(cur_prices, tri_prices, c=\"red\", label=\"Trinomial\")\n",
        "plt.title(\"Trinomial tree pricing European Call option\")\n",
        "plt.xlabel(\"Initial price\")\n",
        "plt.ylabel(\"Option Price\")\n",
        "plt.legend()\n",
        "plt.grid()\n",
        "plt.show()"
      ],
      "execution_count": 41,
      "outputs": [
        {
          "output_type": "display_data",
          "data": {
            "image/png": "[encoded data removed]",
            "text/plain": [
              "<Figure size 720x360 with 1 Axes>"
            ]
          },
          "metadata": {
            "tags": [],
            "needs_background": "light"
          }
        }
      ]
    },
    {
      "cell_type": "code",
      "metadata": {
        "colab": {
          "base_uri": "https://localhost:8080/",
          "height": 66,
          "referenced_widgets": [
            "b1cd1b2b9b2248a387d82d53dd3f4f6b",
            "e3174bb1213c46b9a913cb0fe5febb35",
            "e80e40237d8840d1ab665128c57fef56",
            "970fe371685e4b52b364cda7be1e4706",
            "c6e88d7bccea4067ab3771377638f474",
            "b0984fd8541f4d46990c617da28ad596",
            "45331916ff41423ca3a6145db3480e54",
            "b869999ec92249b5bb67a9b3c615a088"
          ]
        },
        "id": "KPSRHb-49ywY",
        "outputId": "291dda64-5817-43b0-f8eb-0000d67f96ca"
      },
      "source": [
        "params_comp_bar[\"opt_type\"] = \"Put\"\n",
        "bin_prices = []\n",
        "tri_prices = []\n",
        "\n",
        "\n",
        "for price in tqdm_(cur_prices):\n",
        "    params_comp_bar[\"cur_pr\"] = price\n",
        "\n",
        "    bin_tree_pr = Binomial_Tree_Pricing(**params_comp_bar)\n",
        "    bin_tree_pr.get_option_price(verbose=False)\n",
        "    bin_prices.append(bin_tree_pr.opt_price)\n",
        "\n",
        "    tri_tree_pr = Trinomial_Tree_Pricing(**params_comp_bar)\n",
        "    tri_tree_pr.get_option_price(verbose=False)\n",
        "    tri_prices.append(tri_tree_pr.opt_price)"
      ],
      "execution_count": 42,
      "outputs": [
        {
          "output_type": "display_data",
          "data": {
            "application/vnd.jupyter.widget-view+json": {
              "model_id": "b1cd1b2b9b2248a387d82d53dd3f4f6b",
              "version_minor": 0,
              "version_major": 2
            },
            "text/plain": [
              "HBox(children=(FloatProgress(value=0.0, max=142.0), HTML(value='')))"
            ]
          },
          "metadata": {
            "tags": []
          }
        },
        {
          "output_type": "stream",
          "text": [
            "\n"
          ],
          "name": "stdout"
        }
      ]
    },
    {
      "cell_type": "code",
      "metadata": {
        "colab": {
          "base_uri": "https://localhost:8080/",
          "height": 350
        },
        "id": "dYs2sGSV96M-",
        "outputId": "ad84eab4-45a0-4862-f12b-27f8ec15a085"
      },
      "source": [
        "plt.figure(figsize=(10, 5))\n",
        "plt.plot(cur_prices, bin_prices, c=\"blue\", label=\"Binomial\")\n",
        "plt.plot(cur_prices, tri_prices, c=\"red\", label=\"Trinomial\")\n",
        "plt.title(\"Trinomial tree pricing European Put option\")\n",
        "plt.xlabel(\"Initial price\")\n",
        "plt.ylabel(\"Option Price\")\n",
        "plt.legend()\n",
        "plt.grid()\n",
        "plt.show()"
      ],
      "execution_count": 43,
      "outputs": [
        {
          "output_type": "display_data",
          "data": {
            "image/png": "[encoded data removed]",
            "text/plain": [
              "<Figure size 720x360 with 1 Axes>"
            ]
          },
          "metadata": {
            "tags": [],
            "needs_background": "light"
          }
        }
      ]
    },
    {
      "cell_type": "markdown",
      "metadata": {
        "id": "hsosopi6ucPI"
      },
      "source": [
        "Both approaches show roughly the same change in the option price as the stock price changes for both Put and Call types."
      ]
    },
    {
      "cell_type": "code",
      "metadata": {
        "id": "O_jcyIfIMoQT"
      },
      "source": [
        ""
      ],
      "execution_count": 43,
      "outputs": []
    }
  ]
}